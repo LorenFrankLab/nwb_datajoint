{
 "cells": [
  {
   "cell_type": "markdown",
   "metadata": {},
   "source": [
    "### Dropbox link for beans20190718.nwb: https://www.dropbox.com/s/srra33e0igaj5rm/beans20190718.nwb?dl=0"
   ]
  },
  {
   "cell_type": "code",
   "execution_count": 3,
   "metadata": {
    "tags": []
   },
   "outputs": [],
   "source": [
    "%reload_ext autoreload\n",
    "%autoreload 2"
   ]
  },
  {
   "cell_type": "code",
   "execution_count": 2,
   "metadata": {
    "tags": []
   },
   "outputs": [],
   "source": [
    "import os\n",
    "data_dir = '/stelmo/nwb'\n",
    "os.environ['NWB_DATAJOINT_BASE_DIR'] = data_dir\n",
    "os.environ['KACHERY_STORAGE_DIR'] = os.path.join(data_dir, 'kachery-storage')"
   ]
  },
  {
   "cell_type": "code",
   "execution_count": 4,
   "metadata": {
    "tags": []
   },
   "outputs": [
    {
     "name": "stdout",
     "output_type": "stream",
     "text": [
      "Connecting loren@lmf-db.cin.ucsf.edu:3306\n"
     ]
    }
   ],
   "source": [
    "\n",
    "import datajoint as dj\n",
    "#dj.config['database.host'] = 'lmf-db.cin.ucsf.edu'\n",
    "#dj.config['database.user'] = 'loren'\n",
    "import nwb_datajoint as nd"
   ]
  },
  {
   "cell_type": "code",
   "execution_count": 8,
   "metadata": {},
   "outputs": [
    {
     "name": "stderr",
     "output_type": "stream",
     "text": [
      "/home/loren/anaconda3/envs/nwb_datajoint/lib/python3.8/site-packages/ipykernel/ipkernel.py:287: DeprecationWarning: `should_run_async` will not call `transform_cell` automatically in the future. Please pass the result to `transformed_cell` argument and any exception that happen during thetransform in `preprocessing_exc_tuple` in IPython 7.17 and above.\n",
      "  and should_run_async(code)\n"
     ]
    }
   ],
   "source": [
    "import warnings\n",
    "warnings.simplefilter('ignore')"
   ]
  },
  {
   "cell_type": "code",
   "execution_count": 15,
   "metadata": {
    "tags": []
   },
   "outputs": [
    {
     "name": "stdout",
     "output_type": "stream",
     "text": [
      "Creating a copy of NWB file despereaux20191125.nwb with link to raw ephys data: despereaux20191125_.nwb\n",
      "Populate Session...\n",
      "Institution...\n",
      "Lab...\n",
      "LabMember...\n",
      "Subject...\n",
      "DataAcquisitionDevice...\n",
      "CameraDevice...\n",
      "Inserted ['despereaux sleep camera', 'despereaux run camera']\n",
      "Probe...\n",
      "Skipping Apparatus for now...\n",
      "IntervalList...\n",
      "Populate ExperimenterList...\n",
      "Populate ElectrodeGroup...\n",
      "Populate Electrode...\n",
      "Populate Raw...\n",
      "Estimating sampling rate...\n",
      "Estimated sampling rate: 30000.0\n",
      "Importing raw data: Estimated sampling rate:\t30000.0 Hz\n",
      "                    Number of valid intervals:\t7\n",
      "Populate SampleCount...\n",
      "Populate DIOEvants...\n",
      "Populate SensorData\n",
      "Populate TaskEpochs\n",
      "Populate StateScriptFile\n",
      "Populate VideoFile\n",
      "RawPosition...\n",
      "Processing raw position data. Estimated sampling rate: 30.0 Hz\n",
      "Processing raw position data. Estimated sampling rate: 30.0 Hz\n",
      "Processing raw position data. Estimated sampling rate: 30.0 Hz\n",
      "Processing raw position data. Estimated sampling rate: 30.0 Hz\n",
      "Processing raw position data. Estimated sampling rate: 30.0 Hz\n",
      "Processing raw position data. Estimated sampling rate: 30.0 Hz\n",
      "Processing raw position data. Estimated sampling rate: 30.0 Hz\n"
     ]
    }
   ],
   "source": [
    "nd.insert_sessions(['despereaux20191125.nwb'])\n"
   ]
  },
  {
   "cell_type": "markdown",
   "metadata": {},
   "source": [
    "#### Let's look at the core schema (schema = database table). \n",
    "First, Nwbfile:"
   ]
  },
  {
   "cell_type": "code",
   "execution_count": 16,
   "metadata": {},
   "outputs": [
    {
     "data": {
      "text/html": [
       "\n",
       "        \n",
       "        <style type=\"text/css\">\n",
       "            .Relation{\n",
       "                border-collapse:collapse;\n",
       "            }\n",
       "            .Relation th{\n",
       "                background: #A0A0A0; color: #ffffff; padding:4px; border:#f0e0e0 1px solid;\n",
       "                font-weight: normal; font-family: monospace; font-size: 100%;\n",
       "            }\n",
       "            .Relation td{\n",
       "                padding:4px; border:#f0e0e0 1px solid; font-size:100%;\n",
       "            }\n",
       "            .Relation tr:nth-child(odd){\n",
       "                background: #ffffff;\n",
       "            }\n",
       "            .Relation tr:nth-child(even){\n",
       "                background: #f3f1ff;\n",
       "            }\n",
       "            /* Tooltip container */\n",
       "            .djtooltip {\n",
       "            }\n",
       "            /* Tooltip text */\n",
       "            .djtooltip .djtooltiptext {\n",
       "                visibility: hidden;\n",
       "                width: 120px;\n",
       "                background-color: black;\n",
       "                color: #fff;\n",
       "                text-align: center;\n",
       "                padding: 5px 0;\n",
       "                border-radius: 6px;\n",
       "                /* Position the tooltip text - see examples below! */\n",
       "                position: absolute;\n",
       "                z-index: 1;\n",
       "            }\n",
       "            #primary {\n",
       "                font-weight: bold;\n",
       "                color: black;\n",
       "            }\n",
       "\n",
       "            #nonprimary {\n",
       "                font-weight: normal;\n",
       "                color: white;\n",
       "            }\n",
       "\n",
       "            /* Show the tooltip text when you mouse over the tooltip container */\n",
       "            .djtooltip:hover .djtooltiptext {\n",
       "                visibility: visible;\n",
       "            }\n",
       "        </style>\n",
       "        \n",
       "        <b>Table for holding the Nwb files.</b>\n",
       "            <div style=\"max-height:1000px;max-width:1500px;overflow:auto;\">\n",
       "            <table border=\"1\" class=\"Relation\">\n",
       "                <thead> <tr style=\"text-align: right;\"> <th> <div class=\"djtooltip\">\n",
       "                                <p id=\"primary\">nwb_file_name</p>\n",
       "                                <span class=\"djtooltiptext\">name of the NWB file</span>\n",
       "                            </div></th><th><div class=\"djtooltip\">\n",
       "                                <p id=\"nonprimary\">nwb_file_abs_path</p>\n",
       "                                <span class=\"djtooltiptext\"></span>\n",
       "                            </div> </th> </tr> </thead>\n",
       "                <tbody> <tr> <td>despereaux20191125_.nwb</td>\n",
       "<td>=BLOB=</td></tr><tr><td>beans20190718_.nwb</td>\n",
       "<td>=BLOB=</td></tr><tr><td>peanut20201117_.nwb</td>\n",
       "<td>=BLOB=</td> </tr> </tbody>\n",
       "            </table>\n",
       "            \n",
       "            <p>Total: 3</p></div>\n",
       "            "
      ],
      "text/plain": [
       "*nwb_file_name nwb_file_a\n",
       "+------------+ +--------+\n",
       "despereaux2019 =BLOB=    \n",
       "beans20190718_ =BLOB=    \n",
       "peanut20201117 =BLOB=    \n",
       " (Total: 3)"
      ]
     },
     "execution_count": 16,
     "metadata": {},
     "output_type": "execute_result"
    }
   ],
   "source": [
    "nd.common.Nwbfile()\n"
   ]
  },
  {
   "cell_type": "code",
   "execution_count": 12,
   "metadata": {},
   "outputs": [],
   "source": [
    "(nd.common.Nwbfile()).cleanup()"
   ]
  },
  {
   "cell_type": "markdown",
   "metadata": {},
   "source": [
    "Each NWB file defines a session which also also information about the subject, institution, etc.:"
   ]
  },
  {
   "cell_type": "code",
   "execution_count": null,
   "metadata": {},
   "outputs": [],
   "source": [
    "nd.common.Session()"
   ]
  },
  {
   "cell_type": "markdown",
   "metadata": {},
   "source": [
    "We can use the datajoint Diagram method to represent the relationship between Nwbfile and Session: \n",
    "Session is defined by a Nwbfile"
   ]
  },
  {
   "cell_type": "code",
   "execution_count": 9,
   "metadata": {},
   "outputs": [
    {
     "name": "stderr",
     "output_type": "stream",
     "text": [
      "/home/loren/anaconda3/envs/nwb_datajoint/lib/python3.8/site-packages/ipykernel/ipkernel.py:287: DeprecationWarning: `should_run_async` will not call `transform_cell` automatically in the future. Please pass the result to `transformed_cell` argument and any exception that happen during thetransform in `preprocessing_exc_tuple` in IPython 7.17 and above.\n",
      "  and should_run_async(code)\n"
     ]
    },
    {
     "data": {
      "image/svg+xml": [
       "<svg xmlns=\"http://www.w3.org/2000/svg\" xmlns:xlink=\"http://www.w3.org/1999/xlink\" width=\"304pt\" height=\"43pt\" viewBox=\"0.00 0.00 304.12 43.00\">\n",
       "<g id=\"graph0\" class=\"graph\" transform=\"scale(1 1) rotate(0) translate(4 39)\">\n",
       "<title>%3</title>\n",
       "<polygon fill=\"#ffffff\" stroke=\"transparent\" points=\"-4,4 -4,-39 300.125,-39 300.125,4 -4,4\"/>\n",
       "<!-- nd.common.Session -->\n",
       "<g id=\"node1\" class=\"node\">\n",
       "<title>nd.common.Session</title>\n",
       "<g id=\"a_node1\"><a xlink:title=\"→ `common_lab`.`nwbfile`\r",
       "------------------------------\r",
       "→ nd.common.Subject\r",
       "→ nd.common.Institution\r",
       "→ nd.common.Lab\r",
       "session_id           \r",
       "session_description  \r",
       "session_start_time   \r",
       "timestamps_reference_time \r",
       "experiment_description \r",
       "\">\n",
       "<ellipse fill=\"#00007f\" fill-opacity=\"0.250980\" stroke=\"#00007f\" stroke-opacity=\"0.250980\" cx=\"78.125\" cy=\"-17.5\" rx=\"78.2502\" ry=\"17.5\"/>\n",
       "<text text-anchor=\"middle\" x=\"78.125\" y=\"-14.4\" font-family=\"arial\" font-size=\"12.00\" fill=\"#00007f\">nd.common.Session</text>\n",
       "</a>\n",
       "</g>\n",
       "</g>\n",
       "<!-- nd.common.Nwbfile -->\n",
       "<g id=\"node2\" class=\"node\">\n",
       "<title>nd.common.Nwbfile</title>\n",
       "<g id=\"a_node2\"><a xlink:title=\"nwb_file_name        \r",
       "------------------------------\r",
       "nwb_file_abs_path    \r",
       "INDEX (nwb_file_abs_path)\r",
       "\">\n",
       "<polygon fill=\"#00ff00\" fill-opacity=\"0.188235\" stroke=\"#00ff00\" stroke-opacity=\"0.188235\" points=\"296.125,-35 174.125,-35 174.125,0 296.125,0 296.125,-35\"/>\n",
       "<text text-anchor=\"start\" x=\"182.125\" y=\"-15.4\" font-family=\"arial\" text-decoration=\"underline\" font-size=\"12.00\" fill=\"#006400\">nd.common.Nwbfile</text>\n",
       "</a>\n",
       "</g>\n",
       "</g>\n",
       "</g>\n",
       "</svg>"
      ],
      "text/plain": [
       "<datajoint.diagram.Diagram at 0x7f387c06e370>"
      ]
     },
     "execution_count": 9,
     "metadata": {},
     "output_type": "execute_result"
    }
   ],
   "source": [
    "dj.Diagram(nd.common.Nwbfile()) + dj.Diagram(nd.common.Session())"
   ]
  },
  {
   "cell_type": "markdown",
   "metadata": {},
   "source": [
    "The solid line indicates that the Nwbfile is the primary key for Session, so each Session has exactly one Nwbfile associated with it.\n",
    "\n",
    "The session also contains references to other schema, including Subject(), Institution, etc. "
   ]
  },
  {
   "cell_type": "code",
   "execution_count": null,
   "metadata": {},
   "outputs": [],
   "source": [
    "dj.Diagram(nd.common.Nwbfile()) + dj.Diagram(nd.common.Session()) + dj.Diagram(nd.common.Subject()) + dj.Diagram(nd.common.Institution()) + dj.Diagram(nd.common.Lab())"
   ]
  },
  {
   "cell_type": "code",
   "execution_count": null,
   "metadata": {},
   "outputs": [],
   "source": []
  },
  {
   "cell_type": "code",
   "execution_count": 19,
   "metadata": {
    "jupyter": {
     "source_hidden": true
    }
   },
   "outputs": [
    {
     "data": {
      "text/html": [
       "\n",
       "        \n",
       "        <style type=\"text/css\">\n",
       "            .Relation{\n",
       "                border-collapse:collapse;\n",
       "            }\n",
       "            .Relation th{\n",
       "                background: #A0A0A0; color: #ffffff; padding:4px; border:#f0e0e0 1px solid;\n",
       "                font-weight: normal; font-family: monospace; font-size: 100%;\n",
       "            }\n",
       "            .Relation td{\n",
       "                padding:4px; border:#f0e0e0 1px solid; font-size:100%;\n",
       "            }\n",
       "            .Relation tr:nth-child(odd){\n",
       "                background: #ffffff;\n",
       "            }\n",
       "            .Relation tr:nth-child(even){\n",
       "                background: #f3f1ff;\n",
       "            }\n",
       "            /* Tooltip container */\n",
       "            .djtooltip {\n",
       "            }\n",
       "            /* Tooltip text */\n",
       "            .djtooltip .djtooltiptext {\n",
       "                visibility: hidden;\n",
       "                width: 120px;\n",
       "                background-color: black;\n",
       "                color: #fff;\n",
       "                text-align: center;\n",
       "                padding: 5px 0;\n",
       "                border-radius: 6px;\n",
       "                /* Position the tooltip text - see examples below! */\n",
       "                position: absolute;\n",
       "                z-index: 1;\n",
       "            }\n",
       "            #primary {\n",
       "                font-weight: bold;\n",
       "                color: black;\n",
       "            }\n",
       "\n",
       "            #nonprimary {\n",
       "                font-weight: normal;\n",
       "                color: white;\n",
       "            }\n",
       "\n",
       "            /* Show the tooltip text when you mouse over the tooltip container */\n",
       "            .djtooltip:hover .djtooltiptext {\n",
       "                visibility: visible;\n",
       "            }\n",
       "        </style>\n",
       "        \n",
       "        <b>Table for holding experimental sessions.</b>\n",
       "            <div style=\"max-height:1000px;max-width:1500px;overflow:auto;\">\n",
       "            <table border=\"1\" class=\"Relation\">\n",
       "                <thead> <tr style=\"text-align: right;\"> <th> <div class=\"djtooltip\">\n",
       "                                <p id=\"primary\">nwb_file_name</p>\n",
       "                                <span class=\"djtooltiptext\">name of the NWB file</span>\n",
       "                            </div></th><th><div class=\"djtooltip\">\n",
       "                                <p id=\"nonprimary\">subject_id</p>\n",
       "                                <span class=\"djtooltiptext\"></span>\n",
       "                            </div></th><th><div class=\"djtooltip\">\n",
       "                                <p id=\"nonprimary\">institution_name</p>\n",
       "                                <span class=\"djtooltiptext\"></span>\n",
       "                            </div></th><th><div class=\"djtooltip\">\n",
       "                                <p id=\"nonprimary\">lab_name</p>\n",
       "                                <span class=\"djtooltiptext\"></span>\n",
       "                            </div></th><th><div class=\"djtooltip\">\n",
       "                                <p id=\"nonprimary\">session_id</p>\n",
       "                                <span class=\"djtooltiptext\"></span>\n",
       "                            </div></th><th><div class=\"djtooltip\">\n",
       "                                <p id=\"nonprimary\">session_description</p>\n",
       "                                <span class=\"djtooltiptext\"></span>\n",
       "                            </div></th><th><div class=\"djtooltip\">\n",
       "                                <p id=\"nonprimary\">session_start_time</p>\n",
       "                                <span class=\"djtooltiptext\"></span>\n",
       "                            </div></th><th><div class=\"djtooltip\">\n",
       "                                <p id=\"nonprimary\">timestamps_reference_time</p>\n",
       "                                <span class=\"djtooltiptext\"></span>\n",
       "                            </div></th><th><div class=\"djtooltip\">\n",
       "                                <p id=\"nonprimary\">experiment_description</p>\n",
       "                                <span class=\"djtooltiptext\"></span>\n",
       "                            </div> </th> </tr> </thead>\n",
       "                <tbody> <tr> <td>beans20190718_.nwb</td>\n",
       "<td>Beans</td>\n",
       "<td>University of California, San Francisco</td>\n",
       "<td>Loren Frank</td>\n",
       "<td>beans_01</td>\n",
       "<td>Reinforcement leaarning</td>\n",
       "<td>2019-07-18 15:29:47</td>\n",
       "<td>1970-01-01 00:00:00</td>\n",
       "<td>Reinforcement learning</td></tr><tr><td>despereaux20191125_.nwb</td>\n",
       "<td>Despereaux</td>\n",
       "<td>University of California, San Francisco</td>\n",
       "<td>Loren Frank</td>\n",
       "<td>4</td>\n",
       "<td>Sungod</td>\n",
       "<td>2019-11-25 10:17:29</td>\n",
       "<td>1970-01-01 00:00:00</td>\n",
       "<td>Sungod control</td></tr><tr><td>peanut20201117_.nwb</td>\n",
       "<td>peanut</td>\n",
       "<td>University of California, San Francisco</td>\n",
       "<td>Loren Frank</td>\n",
       "<td>peanut_20201117</td>\n",
       "<td>spatial alternation memory task</td>\n",
       "<td>2020-11-17 08:50:38</td>\n",
       "<td>1970-01-01 00:00:00</td>\n",
       "<td>spatial alternation memory task</td> </tr> </tbody>\n",
       "            </table>\n",
       "            \n",
       "            <p>Total: 3</p></div>\n",
       "            "
      ],
      "text/plain": [
       "*nwb_file_name subject_id     institution_na lab_name       session_id     session_descri session_start_ timestamps_ref experiment_des\n",
       "+------------+ +------------+ +------------+ +------------+ +------------+ +------------+ +------------+ +------------+ +------------+\n",
       "beans20190718_ Beans          University of  Loren Frank    beans_01       Reinforcement  2019-07-18 15: 1970-01-01 00: Reinforcement \n",
       "despereaux2019 Despereaux     University of  Loren Frank    4              Sungod         2019-11-25 10: 1970-01-01 00: Sungod control\n",
       "peanut20201117 peanut         University of  Loren Frank    peanut_2020111 spatial altern 2020-11-17 08: 1970-01-01 00: spatial altern\n",
       " (Total: 3)"
      ]
     },
     "execution_count": 19,
     "metadata": {},
     "output_type": "execute_result"
    }
   ],
   "source": [
    "nd.common.Session()"
   ]
  },
  {
   "cell_type": "code",
   "execution_count": 36,
   "metadata": {},
   "outputs": [],
   "source": [
    "a = (nd.common.Raw() & {'nwb_file_name': 'peanut20201117_.nwb'}).fetch_nwb()\n"
   ]
  },
  {
   "cell_type": "code",
   "execution_count": 33,
   "metadata": {},
   "outputs": [
    {
     "data": {
      "text/plain": [
       "<HDF5 dataset \"timestamps\": shape (36478349,), type \"<f8\">"
      ]
     },
     "execution_count": 33,
     "metadata": {},
     "output_type": "execute_result"
    }
   ],
   "source": [
    "a[0]['raw'].timestamps"
   ]
  },
  {
   "cell_type": "code",
   "execution_count": null,
   "metadata": {},
   "outputs": [],
   "source": [
    "dj.Diagram(nd.common.Subject()) + dj.Diagram(nd.common.Session())+dj.Diagram(nd.common.Nwbfile())+dj.Diagram(nd.common.Raw())"
   ]
  },
  {
   "cell_type": "code",
   "execution_count": 17,
   "metadata": {},
   "outputs": [
    {
     "data": {
      "image/svg+xml": [
       "<svg xmlns=\"http://www.w3.org/2000/svg\" xmlns:xlink=\"http://www.w3.org/1999/xlink\" width=\"694pt\" height=\"256pt\" viewBox=\"0.00 0.00 693.50 256.00\">\n",
       "<g id=\"graph0\" class=\"graph\" transform=\"scale(1 1) rotate(0) translate(4 252)\">\n",
       "<title>%3</title>\n",
       "<polygon fill=\"#ffffff\" stroke=\"transparent\" points=\"-4,4 -4,-252 689.5,-252 689.5,4 -4,4\"/>\n",
       "<!-- nd.common.Nwbfile -->\n",
       "<g id=\"node1\" class=\"node\">\n",
       "<title>nd.common.Nwbfile</title>\n",
       "<g id=\"a_node1\"><a xlink:title=\"nwb_file_name        \r",
       "------------------------------\r",
       "nwb_file_abs_path    \r",
       "INDEX (nwb_file_abs_path)\r",
       "\">\n",
       "<polygon fill=\"#00ff00\" fill-opacity=\"0.188235\" stroke=\"#00ff00\" stroke-opacity=\"0.188235\" points=\"216,-248 94,-248 94,-213 216,-213 216,-248\"/>\n",
       "<text text-anchor=\"start\" x=\"102\" y=\"-228.4\" font-family=\"arial\" text-decoration=\"underline\" font-size=\"12.00\" fill=\"#006400\">nd.common.Nwbfile</text>\n",
       "</a>\n",
       "</g>\n",
       "</g>\n",
       "<!-- nd.common.Session -->\n",
       "<g id=\"node5\" class=\"node\">\n",
       "<title>nd.common.Session</title>\n",
       "<g id=\"a_node5\"><a xlink:title=\"→ nd.common.Nwbfile\r",
       "------------------------------\r",
       "→ nd.common.Subject\r",
       "→ nd.common.Institution\r",
       "→ nd.common.Lab\r",
       "session_id           \r",
       "session_description  \r",
       "session_start_time   \r",
       "timestamps_reference_time \r",
       "experiment_description \r",
       "\">\n",
       "<ellipse fill=\"#00007f\" fill-opacity=\"0.250980\" stroke=\"#00007f\" stroke-opacity=\"0.250980\" cx=\"310\" cy=\"-159.5\" rx=\"78.2502\" ry=\"17.5\"/>\n",
       "<text text-anchor=\"middle\" x=\"310\" y=\"-156.4\" font-family=\"arial\" font-size=\"12.00\" fill=\"#00007f\">nd.common.Session</text>\n",
       "</a>\n",
       "</g>\n",
       "</g>\n",
       "<!-- nd.common.Nwbfile&#45;&gt;nd.common.Session -->\n",
       "<g id=\"edge1\" class=\"edge\">\n",
       "<title>nd.common.Nwbfile-&gt;nd.common.Session</title>\n",
       "<path fill=\"none\" stroke=\"#000000\" stroke-width=\"2\" stroke-opacity=\"0.250980\" d=\"M193.3146,-212.9494C218.5058,-201.4102 251.1928,-186.4375 275.5599,-175.2758\"/>\n",
       "</g>\n",
       "<!-- nd.common.AnalysisNwbfile -->\n",
       "<g id=\"node10\" class=\"node\">\n",
       "<title>nd.common.AnalysisNwbfile</title>\n",
       "<g id=\"a_node10\"><a xlink:title=\"analysis_file_name   \r",
       "------------------------------\r",
       "→ nd.common.Nwbfile\r",
       "analysis_file_abs_path \r",
       "analysis_file_description=&quot;&quot; \r",
       "analysis_parameters=null \r",
       "INDEX (analysis_file_abs_path)\r",
       "\">\n",
       "<polygon fill=\"#00ff00\" fill-opacity=\"0.188235\" stroke=\"#00ff00\" stroke-opacity=\"0.188235\" points=\"168,-177 0,-177 0,-142 168,-142 168,-177\"/>\n",
       "<text text-anchor=\"middle\" x=\"84\" y=\"-156.4\" font-family=\"arial\" font-size=\"12.00\" fill=\"#006400\">nd.common.AnalysisNwbfile</text>\n",
       "</a>\n",
       "</g>\n",
       "</g>\n",
       "<!-- nd.common.Nwbfile&#45;&gt;nd.common.AnalysisNwbfile -->\n",
       "<g id=\"edge2\" class=\"edge\">\n",
       "<title>nd.common.Nwbfile-&gt;nd.common.AnalysisNwbfile</title>\n",
       "<path fill=\"none\" stroke=\"#000000\" stroke-width=\".75\" stroke-dasharray=\"5,2\" stroke-opacity=\"0.250980\" d=\"M137.4494,-212.9494C126.6083,-202.1083 112.7366,-188.2366 101.8418,-177.3418\"/>\n",
       "</g>\n",
       "<!-- nd.common.Raw -->\n",
       "<g id=\"node2\" class=\"node\">\n",
       "<title>nd.common.Raw</title>\n",
       "<g id=\"a_node2\"><a xlink:title=\"→ nd.common.Session\r",
       "------------------------------\r",
       "→ nd.common.IntervalList\r",
       "raw_object_id        \r",
       "sampling_rate        \r",
       "comments             \r",
       "description          \r",
       "\">\n",
       "<ellipse fill=\"#00007f\" fill-opacity=\"0.250980\" stroke=\"#00007f\" stroke-opacity=\"0.250980\" cx=\"263\" cy=\"-17.5\" rx=\"66.7502\" ry=\"17.5\"/>\n",
       "<text text-anchor=\"middle\" x=\"263\" y=\"-14.4\" font-family=\"arial\" font-size=\"12.00\" fill=\"#00007f\">nd.common.Raw</text>\n",
       "</a>\n",
       "</g>\n",
       "</g>\n",
       "<!-- nd.common.IntervalList -->\n",
       "<g id=\"node3\" class=\"node\">\n",
       "<title>nd.common.IntervalList</title>\n",
       "<g id=\"a_node3\"><a xlink:title=\"→ nd.common.Session\r",
       "interval_list_name   \r",
       "------------------------------\r",
       "valid_times          \r",
       "\">\n",
       "<polygon fill=\"#00ff00\" fill-opacity=\"0.188235\" stroke=\"#00ff00\" stroke-opacity=\"0.188235\" points=\"331,-106 191,-106 191,-71 331,-71 331,-106\"/>\n",
       "<text text-anchor=\"middle\" x=\"261\" y=\"-85.4\" font-family=\"arial\" font-size=\"12.00\" fill=\"#006400\">nd.common.IntervalList</text>\n",
       "</a>\n",
       "</g>\n",
       "</g>\n",
       "<!-- nd.common.IntervalList&#45;&gt;nd.common.Raw -->\n",
       "<g id=\"edge3\" class=\"edge\">\n",
       "<title>nd.common.IntervalList-&gt;nd.common.Raw</title>\n",
       "<path fill=\"none\" stroke=\"#000000\" stroke-width=\".75\" stroke-dasharray=\"5,2\" stroke-opacity=\"0.250980\" d=\"M261.4944,-70.9494C261.7998,-60.1083 262.1905,-46.2366 262.4974,-35.3418\"/>\n",
       "</g>\n",
       "<!-- nd.common.LFP -->\n",
       "<g id=\"node8\" class=\"node\">\n",
       "<title>nd.common.LFP</title>\n",
       "<g id=\"a_node8\"><a xlink:title=\"→ nd.common.LFPSelection\r",
       "------------------------------\r",
       "→ nd.common.IntervalList\r",
       "→ nd.common.FirFilter\r",
       "→ nd.common.AnalysisNwbfile\r",
       "lfp_object_id        \r",
       "lfp_sampling_rate    \r",
       "\">\n",
       "<ellipse fill=\"#00007f\" fill-opacity=\"0.250980\" stroke=\"#00007f\" stroke-opacity=\"0.250980\" cx=\"95\" cy=\"-17.5\" rx=\"65\" ry=\"17.5\"/>\n",
       "<text text-anchor=\"middle\" x=\"95\" y=\"-14.4\" font-family=\"arial\" font-size=\"12.00\" fill=\"#00007f\">nd.common.LFP</text>\n",
       "</a>\n",
       "</g>\n",
       "</g>\n",
       "<!-- nd.common.IntervalList&#45;&gt;nd.common.LFP -->\n",
       "<g id=\"edge4\" class=\"edge\">\n",
       "<title>nd.common.IntervalList-&gt;nd.common.LFP</title>\n",
       "<path fill=\"none\" stroke=\"#000000\" stroke-width=\".75\" stroke-dasharray=\"5,2\" stroke-opacity=\"0.250980\" d=\"M219.9663,-70.9494C192.2193,-59.0817 155.9809,-43.5822 129.6774,-32.3319\"/>\n",
       "</g>\n",
       "<!-- nd.common.SpikeSortingParameters -->\n",
       "<g id=\"node9\" class=\"node\">\n",
       "<title>nd.common.SpikeSortingParameters</title>\n",
       "<g id=\"a_node9\"><a xlink:title=\"→ nd.common.SortGroup\r",
       "→ nd.common.SpikeSorterParameters\r",
       "→ nd.common.SortInterval\r",
       "------------------------------\r",
       "→ nd.common.SpikeSortingMetrics\r",
       "→ nd.common.IntervalList\r",
       "import_path=&quot;&quot;       \r",
       "\">\n",
       "<polygon fill=\"#00ff00\" fill-opacity=\"0.188235\" stroke=\"#00ff00\" stroke-opacity=\"0.188235\" points=\"562,-35 350,-35 350,0 562,0 562,-35\"/>\n",
       "<text text-anchor=\"middle\" x=\"456\" y=\"-14.4\" font-family=\"arial\" font-size=\"12.00\" fill=\"#006400\">nd.common.SpikeSortingParameters</text>\n",
       "</a>\n",
       "</g>\n",
       "</g>\n",
       "<!-- nd.common.IntervalList&#45;&gt;nd.common.SpikeSortingParameters -->\n",
       "<g id=\"edge5\" class=\"edge\">\n",
       "<title>nd.common.IntervalList-&gt;nd.common.SpikeSortingParameters</title>\n",
       "<path fill=\"none\" stroke=\"#000000\" stroke-width=\".75\" stroke-dasharray=\"5,2\" stroke-opacity=\"0.250980\" d=\"M309.2023,-70.9494C339.2026,-60.0262 377.6533,-46.0262 407.6764,-35.0947\"/>\n",
       "</g>\n",
       "<!-- nd.common.SortGroup -->\n",
       "<g id=\"node4\" class=\"node\">\n",
       "<title>nd.common.SortGroup</title>\n",
       "<g id=\"a_node4\"><a xlink:title=\"→ nd.common.Session\r",
       "sort_group_id        \r",
       "------------------------------\r",
       "sort_reference_electrode_id=-1 \r",
       "\">\n",
       "<polygon fill=\"#00ff00\" fill-opacity=\"0.188235\" stroke=\"#00ff00\" stroke-opacity=\"0.188235\" points=\"524.5,-106 387.5,-106 387.5,-71 524.5,-71 524.5,-106\"/>\n",
       "<text text-anchor=\"middle\" x=\"456\" y=\"-85.4\" font-family=\"arial\" font-size=\"12.00\" fill=\"#006400\">nd.common.SortGroup</text>\n",
       "</a>\n",
       "</g>\n",
       "</g>\n",
       "<!-- nd.common.SortGroup&#45;&gt;nd.common.SpikeSortingParameters -->\n",
       "<g id=\"edge6\" class=\"edge\">\n",
       "<title>nd.common.SortGroup-&gt;nd.common.SpikeSortingParameters</title>\n",
       "<path fill=\"none\" stroke=\"#000000\" stroke-width=\".75\" stroke-opacity=\"0.250980\" d=\"M456,-70.9494C456,-60.1083 456,-46.2366 456,-35.3418\"/>\n",
       "</g>\n",
       "<!-- nd.common.Session&#45;&gt;nd.common.Raw -->\n",
       "<g id=\"edge7\" class=\"edge\">\n",
       "<title>nd.common.Session-&gt;nd.common.Raw</title>\n",
       "<path fill=\"none\" stroke=\"#000000\" stroke-width=\"2\" stroke-opacity=\"0.250980\" d=\"M323.8522,-142.225C336.7403,-123.9051 352.2531,-94.4339 340,-71 331.0997,-53.9783 314.0447,-41.2817 298.2436,-32.5395\"/>\n",
       "</g>\n",
       "<!-- nd.common.Session&#45;&gt;nd.common.IntervalList -->\n",
       "<g id=\"edge8\" class=\"edge\">\n",
       "<title>nd.common.Session-&gt;nd.common.IntervalList</title>\n",
       "<path fill=\"none\" stroke=\"#000000\" stroke-width=\".75\" stroke-opacity=\"0.250980\" d=\"M297.8876,-141.9494C290.4058,-131.1083 280.8323,-117.2366 273.3134,-106.3418\"/>\n",
       "</g>\n",
       "<!-- nd.common.Session&#45;&gt;nd.common.SortGroup -->\n",
       "<g id=\"edge9\" class=\"edge\">\n",
       "<title>nd.common.Session-&gt;nd.common.SortGroup</title>\n",
       "<path fill=\"none\" stroke=\"#000000\" stroke-width=\".75\" stroke-opacity=\"0.250980\" d=\"M342.7652,-143.5662C365.6333,-132.4455 396.1619,-117.5994 419.7577,-106.1247\"/>\n",
       "</g>\n",
       "<!-- nd.common.SortInterval -->\n",
       "<g id=\"node7\" class=\"node\">\n",
       "<title>nd.common.SortInterval</title>\n",
       "<g id=\"a_node7\"><a xlink:title=\"→ nd.common.Session\r",
       "sort_interval_name   \r",
       "------------------------------\r",
       "sort_interval        \r",
       "\">\n",
       "<polygon fill=\"#00ff00\" fill-opacity=\"0.188235\" stroke=\"#00ff00\" stroke-opacity=\"0.188235\" points=\"685.5,-106 542.5,-106 542.5,-71 685.5,-71 685.5,-106\"/>\n",
       "<text text-anchor=\"middle\" x=\"614\" y=\"-85.4\" font-family=\"arial\" font-size=\"12.00\" fill=\"#006400\">nd.common.SortInterval</text>\n",
       "</a>\n",
       "</g>\n",
       "</g>\n",
       "<!-- nd.common.Session&#45;&gt;nd.common.SortInterval -->\n",
       "<g id=\"edge10\" class=\"edge\">\n",
       "<title>nd.common.Session-&gt;nd.common.SortInterval</title>\n",
       "<path fill=\"none\" stroke=\"#000000\" stroke-width=\".75\" stroke-opacity=\"0.250980\" d=\"M364.3491,-146.8066C414.0471,-135.1995 487.8978,-117.9515 542.3923,-105.2242\"/>\n",
       "</g>\n",
       "<!-- nd.common.LFPSelection -->\n",
       "<g id=\"node11\" class=\"node\">\n",
       "<title>nd.common.LFPSelection</title>\n",
       "<g id=\"a_node11\"><a xlink:title=\"→ nd.common.Session\r",
       "\">\n",
       "<polygon fill=\"#00ff00\" fill-opacity=\"0.188235\" stroke=\"#00ff00\" stroke-opacity=\"0.188235\" points=\"172.5,-106 17.5,-106 17.5,-71 172.5,-71 172.5,-106\"/>\n",
       "<text text-anchor=\"middle\" x=\"95\" y=\"-85.4\" font-family=\"arial\" font-size=\"12.00\" fill=\"#006400\">nd.common.LFPSelection</text>\n",
       "</a>\n",
       "</g>\n",
       "</g>\n",
       "<!-- nd.common.Session&#45;&gt;nd.common.LFPSelection -->\n",
       "<g id=\"edge11\" class=\"edge\">\n",
       "<title>nd.common.Session-&gt;nd.common.LFPSelection</title>\n",
       "<path fill=\"none\" stroke=\"#000000\" stroke-width=\"2\" stroke-opacity=\"0.250980\" d=\"M265.9727,-144.9608C231.8194,-133.6822 184.3491,-118.006 148.0922,-106.0328\"/>\n",
       "</g>\n",
       "<!-- nd.common.Lab -->\n",
       "<g id=\"node6\" class=\"node\">\n",
       "<title>nd.common.Lab</title>\n",
       "<g id=\"a_node6\"><a xlink:title=\"lab_name             \r",
       "\">\n",
       "<polygon fill=\"#00ff00\" fill-opacity=\"0.188235\" stroke=\"#00ff00\" stroke-opacity=\"0.188235\" points=\"361,-248 259,-248 259,-213 361,-213 361,-248\"/>\n",
       "<text text-anchor=\"start\" x=\"267\" y=\"-228.4\" font-family=\"arial\" text-decoration=\"underline\" font-size=\"12.00\" fill=\"#006400\">nd.common.Lab</text>\n",
       "</a>\n",
       "</g>\n",
       "</g>\n",
       "<!-- nd.common.Lab&#45;&gt;nd.common.Session -->\n",
       "<g id=\"edge12\" class=\"edge\">\n",
       "<title>nd.common.Lab-&gt;nd.common.Session</title>\n",
       "<path fill=\"none\" stroke=\"#000000\" stroke-width=\".75\" stroke-dasharray=\"5,2\" stroke-opacity=\"0.250980\" d=\"M310,-212.9494C310,-202.1083 310,-188.2366 310,-177.3418\"/>\n",
       "</g>\n",
       "<!-- nd.common.SortInterval&#45;&gt;nd.common.SpikeSortingParameters -->\n",
       "<g id=\"edge13\" class=\"edge\">\n",
       "<title>nd.common.SortInterval-&gt;nd.common.SpikeSortingParameters</title>\n",
       "<path fill=\"none\" stroke=\"#000000\" stroke-width=\".75\" stroke-opacity=\"0.250980\" d=\"M574.9438,-70.9494C550.6358,-60.0262 519.4809,-46.0262 495.1545,-35.0947\"/>\n",
       "</g>\n",
       "<!-- nd.common.AnalysisNwbfile&#45;&gt;nd.common.LFP -->\n",
       "<g id=\"edge14\" class=\"edge\">\n",
       "<title>nd.common.AnalysisNwbfile-&gt;nd.common.LFP</title>\n",
       "<path fill=\"none\" stroke=\"#000000\" stroke-width=\".75\" stroke-dasharray=\"5,2\" stroke-opacity=\"0.250980\" d=\"M44.8149,-141.8C30.5349,-133.185 15.953,-121.3245 8,-106 .8345,-92.1931 .4098,-84.5781 8,-71 18.2093,-52.7367 37.4912,-39.943 55.3128,-31.457\"/>\n",
       "</g>\n",
       "<!-- nd.common.LFPSelection&#45;&gt;nd.common.LFP -->\n",
       "<g id=\"edge15\" class=\"edge\">\n",
       "<title>nd.common.LFPSelection-&gt;nd.common.LFP</title>\n",
       "<path fill=\"none\" stroke=\"#000000\" stroke-width=\"2\" stroke-opacity=\"0.250980\" d=\"M95,-70.9494C95,-60.1083 95,-46.2366 95,-35.3418\"/>\n",
       "</g>\n",
       "</g>\n",
       "</svg>"
      ],
      "text/plain": [
       "<datajoint.diagram.Diagram at 0x7fc2414cedf0>"
      ]
     },
     "execution_count": 17,
     "metadata": {},
     "output_type": "execute_result"
    }
   ],
   "source": [
    "dj.Diagram(nd.common.Session())+dj.Diagram(nd.common.Nwbfile())+dj.Diagram(nd.common.Raw())+dj.Diagram(nd.common.LFP())+dj.Diagram(nd.common.SpikeSortingParameters())+dj.Diagram(nd.common.Lab)"
   ]
  },
  {
   "cell_type": "code",
   "execution_count": null,
   "metadata": {
    "jupyter": {
     "source_hidden": true
    }
   },
   "outputs": [],
   "source": [
    "a = (nd.common.IntervalList() & {'interval_list_name' : 'raw data valid times'}).fetch1('valid_times')\n",
    "print(a)\n"
   ]
  },
  {
   "cell_type": "code",
   "execution_count": null,
   "metadata": {},
   "outputs": [],
   "source": [
    "nd.common.VideoFile()"
   ]
  },
  {
   "cell_type": "code",
   "execution_count": null,
   "metadata": {},
   "outputs": [],
   "source": [
    "data = (nd.common.Raw() & {'nwb_file_name' : 'beans20190718.nwb'}).fetch_nwb()"
   ]
  },
  {
   "cell_type": "code",
   "execution_count": 29,
   "metadata": {},
   "outputs": [
    {
     "ename": "AttributeError",
     "evalue": "type object 'Lab' has no attribute 'list_tables'",
     "output_type": "error",
     "traceback": [
      "\u001b[0;31m---------------------------------------------------------------------------\u001b[0m",
      "\u001b[0;31mAttributeError\u001b[0m                            Traceback (most recent call last)",
      "\u001b[0;32m<ipython-input-29-0661a793226d>\u001b[0m in \u001b[0;36m<module>\u001b[0;34m\u001b[0m\n\u001b[0;32m----> 1\u001b[0;31m \u001b[0mnd\u001b[0m\u001b[0;34m.\u001b[0m\u001b[0mcommon\u001b[0m\u001b[0;34m.\u001b[0m\u001b[0mLab\u001b[0m\u001b[0;34m.\u001b[0m\u001b[0mlist_tables\u001b[0m\u001b[0;34m(\u001b[0m\u001b[0;34m)\u001b[0m\u001b[0;34m\u001b[0m\u001b[0;34m\u001b[0m\u001b[0m\n\u001b[0m",
      "\u001b[0;32m~/anaconda3/envs/nwb_datajoint/lib/python3.8/site-packages/datajoint/user_tables.py\u001b[0m in \u001b[0;36m__getattribute__\u001b[0;34m(cls, name)\u001b[0m\n\u001b[1;32m     43\u001b[0m         \u001b[0;31m# trigger instantiation for supported class attrs\u001b[0m\u001b[0;34m\u001b[0m\u001b[0;34m\u001b[0m\u001b[0;34m\u001b[0m\u001b[0m\n\u001b[1;32m     44\u001b[0m         return (cls().__getattribute__(name) if name in supported_class_attrs\n\u001b[0;32m---> 45\u001b[0;31m                 else super().__getattribute__(name))\n\u001b[0m\u001b[1;32m     46\u001b[0m \u001b[0;34m\u001b[0m\u001b[0m\n\u001b[1;32m     47\u001b[0m     \u001b[0;32mdef\u001b[0m \u001b[0m__and__\u001b[0m\u001b[0;34m(\u001b[0m\u001b[0mcls\u001b[0m\u001b[0;34m,\u001b[0m \u001b[0marg\u001b[0m\u001b[0;34m)\u001b[0m\u001b[0;34m:\u001b[0m\u001b[0;34m\u001b[0m\u001b[0;34m\u001b[0m\u001b[0m\n",
      "\u001b[0;31mAttributeError\u001b[0m: type object 'Lab' has no attribute 'list_tables'"
     ]
    }
   ],
   "source": [
    "nd.common.Lab.list_tables()"
   ]
  },
  {
   "cell_type": "code",
   "execution_count": null,
   "metadata": {
    "jupyter": {
     "source_hidden": true
    }
   },
   "outputs": [],
   "source": [
    "nd.common.SpikeSorting().drop()"
   ]
  },
  {
   "cell_type": "code",
   "execution_count": null,
   "metadata": {
    "jupyter": {
     "source_hidden": true
    },
    "tags": []
   },
   "outputs": [],
   "source": [
    "nd.common.Session().delete()\n",
    "nd.common.Nwbfile().drop()"
   ]
  },
  {
   "cell_type": "code",
   "execution_count": null,
   "metadata": {},
   "outputs": [],
   "source": [
    "nd.common.Nwbfile().delete()"
   ]
  },
  {
   "cell_type": "code",
   "execution_count": null,
   "metadata": {},
   "outputs": [],
   "source": [
    "(nd.common.Raw() & {'nwb_file_name' : 'beans20190718.nwb'}).fetch1('interval_list_name')"
   ]
  },
  {
   "cell_type": "code",
   "execution_count": null,
   "metadata": {},
   "outputs": [],
   "source": [
    "nd.common.SpikeSorting().drop()"
   ]
  },
  {
   "cell_type": "code",
   "execution_count": null,
   "metadata": {},
   "outputs": [],
   "source": [
    "s1 = (nd.common.IntervalList() & {'interval_list_name': '01_s1'}).fetch1()\n",
    "s2 = (nd.common.IntervalList() & {'interval_list_name': '03_s2'}).fetch1()\n",
    "r1 = (nd.common.IntervalList() & {'interval_list_name': '02_r1'}).fetch1()\n",
    "\n",
    "r2 = (nd.common.IntervalList() & {'interval_list_name': '04_r2'}).fetch1()"
   ]
  },
  {
   "cell_type": "code",
   "execution_count": 35,
   "metadata": {},
   "outputs": [
    {
     "data": {
      "text/html": [
       "\n",
       "        \n",
       "        <style type=\"text/css\">\n",
       "            .Relation{\n",
       "                border-collapse:collapse;\n",
       "            }\n",
       "            .Relation th{\n",
       "                background: #A0A0A0; color: #ffffff; padding:4px; border:#f0e0e0 1px solid;\n",
       "                font-weight: normal; font-family: monospace; font-size: 100%;\n",
       "            }\n",
       "            .Relation td{\n",
       "                padding:4px; border:#f0e0e0 1px solid; font-size:100%;\n",
       "            }\n",
       "            .Relation tr:nth-child(odd){\n",
       "                background: #ffffff;\n",
       "            }\n",
       "            .Relation tr:nth-child(even){\n",
       "                background: #f3f1ff;\n",
       "            }\n",
       "            /* Tooltip container */\n",
       "            .djtooltip {\n",
       "            }\n",
       "            /* Tooltip text */\n",
       "            .djtooltip .djtooltiptext {\n",
       "                visibility: hidden;\n",
       "                width: 120px;\n",
       "                background-color: black;\n",
       "                color: #fff;\n",
       "                text-align: center;\n",
       "                padding: 5px 0;\n",
       "                border-radius: 6px;\n",
       "                /* Position the tooltip text - see examples below! */\n",
       "                position: absolute;\n",
       "                z-index: 1;\n",
       "            }\n",
       "            #primary {\n",
       "                font-weight: bold;\n",
       "                color: black;\n",
       "            }\n",
       "\n",
       "            #nonprimary {\n",
       "                font-weight: normal;\n",
       "                color: white;\n",
       "            }\n",
       "\n",
       "            /* Show the tooltip text when you mouse over the tooltip container */\n",
       "            .djtooltip:hover .djtooltiptext {\n",
       "                visibility: visible;\n",
       "            }\n",
       "        </style>\n",
       "        \n",
       "        <b>Time intervals with data</b>\n",
       "            <div style=\"max-height:1000px;max-width:1500px;overflow:auto;\">\n",
       "            <table border=\"1\" class=\"Relation\">\n",
       "                <thead> <tr style=\"text-align: right;\"> <th> <div class=\"djtooltip\">\n",
       "                                <p id=\"primary\">nwb_file_name</p>\n",
       "                                <span class=\"djtooltiptext\">name of the NWB file</span>\n",
       "                            </div></th><th><div class=\"djtooltip\">\n",
       "                                <p id=\"primary\">interval_list_name</p>\n",
       "                                <span class=\"djtooltiptext\">descriptive name of this interval list</span>\n",
       "                            </div></th><th><div class=\"djtooltip\">\n",
       "                                <p id=\"nonprimary\">valid_times</p>\n",
       "                                <span class=\"djtooltiptext\">numpy array with start and end times for each interval</span>\n",
       "                            </div> </th> </tr> </thead>\n",
       "                <tbody> <tr> <td>beans20190718_.nwb</td>\n",
       "<td>01_s1</td>\n",
       "<td>=BLOB=</td></tr><tr><td>beans20190718_.nwb</td>\n",
       "<td>02_r1</td>\n",
       "<td>=BLOB=</td></tr><tr><td>beans20190718_.nwb</td>\n",
       "<td>03_s2</td>\n",
       "<td>=BLOB=</td></tr><tr><td>beans20190718_.nwb</td>\n",
       "<td>04_r2</td>\n",
       "<td>=BLOB=</td></tr><tr><td>beans20190718_.nwb</td>\n",
       "<td>pos 0 valid times</td>\n",
       "<td>=BLOB=</td></tr><tr><td>beans20190718_.nwb</td>\n",
       "<td>pos 1 valid times</td>\n",
       "<td>=BLOB=</td></tr><tr><td>beans20190718_.nwb</td>\n",
       "<td>pos 2 valid times</td>\n",
       "<td>=BLOB=</td></tr><tr><td>beans20190718_.nwb</td>\n",
       "<td>pos 3 valid times</td>\n",
       "<td>=BLOB=</td></tr><tr><td>beans20190718_.nwb</td>\n",
       "<td>raw data valid times</td>\n",
       "<td>=BLOB=</td></tr><tr><td>despereaux20191125_.nwb</td>\n",
       "<td>01_s1</td>\n",
       "<td>=BLOB=</td></tr><tr><td>despereaux20191125_.nwb</td>\n",
       "<td>02_r1</td>\n",
       "<td>=BLOB=</td></tr><tr><td>despereaux20191125_.nwb</td>\n",
       "<td>03_s2</td>\n",
       "<td>=BLOB=</td> </tr> </tbody>\n",
       "            </table>\n",
       "            <p>...</p>\n",
       "            <p>Total: 27</p></div>\n",
       "            "
      ],
      "text/plain": [
       "*nwb_file_name *interval_list valid_time\n",
       "+------------+ +------------+ +--------+\n",
       "beans20190718_ 01_s1          =BLOB=    \n",
       "beans20190718_ 02_r1          =BLOB=    \n",
       "beans20190718_ 03_s2          =BLOB=    \n",
       "beans20190718_ 04_r2          =BLOB=    \n",
       "beans20190718_ pos 0 valid ti =BLOB=    \n",
       "beans20190718_ pos 1 valid ti =BLOB=    \n",
       "beans20190718_ pos 2 valid ti =BLOB=    \n",
       "beans20190718_ pos 3 valid ti =BLOB=    \n",
       "beans20190718_ raw data valid =BLOB=    \n",
       "despereaux2019 01_s1          =BLOB=    \n",
       "despereaux2019 02_r1          =BLOB=    \n",
       "despereaux2019 03_s2          =BLOB=    \n",
       "   ...\n",
       " (Total: 27)"
      ]
     },
     "execution_count": 35,
     "metadata": {},
     "output_type": "execute_result"
    }
   ],
   "source": [
    "nd.common.IntervalList()\n",
    "#s1 = (nd.common.IntervalList() & {'interval_list_name' : '01_s1'}).fetch1('valid_times')"
   ]
  },
  {
   "cell_type": "code",
   "execution_count": null,
   "metadata": {},
   "outputs": [],
   "source": [
    "s1"
   ]
  },
  {
   "cell_type": "code",
   "execution_count": null,
   "metadata": {},
   "outputs": [],
   "source": [
    "t[0][1] = t[0][0] + 100"
   ]
  },
  {
   "cell_type": "code",
   "execution_count": null,
   "metadata": {},
   "outputs": [],
   "source": [
    "t = s1.copy()"
   ]
  },
  {
   "cell_type": "code",
   "execution_count": null,
   "metadata": {},
   "outputs": [],
   "source": [
    "nd.common.IntervalList.insert1({'nwb_file_name' : 'beans20190718.nwb', 'interval_list_name' : 'test', 'valid_times' : t})"
   ]
  },
  {
   "cell_type": "code",
   "execution_count": null,
   "metadata": {},
   "outputs": [],
   "source": [
    "nd.common.IntervalList()"
   ]
  },
  {
   "cell_type": "code",
   "execution_count": null,
   "metadata": {},
   "outputs": [],
   "source": [
    "a = (nd.common.IntervalList() & {'interval_list_name' : '01_s1'}).fetch1()"
   ]
  },
  {
   "cell_type": "code",
   "execution_count": null,
   "metadata": {},
   "outputs": [],
   "source": [
    "a"
   ]
  },
  {
   "cell_type": "code",
   "execution_count": null,
   "metadata": {},
   "outputs": [],
   "source": [
    "b = a.copy()"
   ]
  },
  {
   "cell_type": "code",
   "execution_count": null,
   "metadata": {},
   "outputs": [],
   "source": [
    "b['interval_list_name'] = 'test'"
   ]
  },
  {
   "cell_type": "code",
   "execution_count": null,
   "metadata": {},
   "outputs": [],
   "source": [
    "(nd.common.IntervalList & {'interval_list_name' : 'test'}).delete()"
   ]
  },
  {
   "cell_type": "code",
   "execution_count": null,
   "metadata": {},
   "outputs": [],
   "source": []
  }
 ],
 "metadata": {
  "kernelspec": {
   "display_name": "Python 3",
   "language": "python",
   "name": "python3"
  },
  "language_info": {
   "codemirror_mode": {
    "name": "ipython",
    "version": 3
   },
   "file_extension": ".py",
   "mimetype": "text/x-python",
   "name": "python",
   "nbconvert_exporter": "python",
   "pygments_lexer": "ipython3",
   "version": "3.8.0"
  }
 },
 "nbformat": 4,
 "nbformat_minor": 4
}
