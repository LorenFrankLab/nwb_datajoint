{
 "cells": [
  {
   "cell_type": "markdown",
   "metadata": {},
   "source": [
    "## This notebook shows an example where a set of electrodes are selected from a dataset and then LFP is extracted from those electrodes and written to a new NWB file\n"
   ]
  },
  {
   "cell_type": "markdown",
   "metadata": {},
   "source": [
    "### We assume that you have added an NWB file to the database (see Populate_from_NWB_tutorial notebook)"
   ]
  },
  {
   "cell_type": "markdown",
   "metadata": {},
   "source": [
    "#### Load all of the relevant modules and set the environment variables. \n",
    "Note that the datadir and datadir/analysis must exist"
   ]
  },
  {
   "cell_type": "code",
   "execution_count": 1,
   "metadata": {},
   "outputs": [
    {
     "name": "stdout",
     "output_type": "stream",
     "text": [
      "env: DJ_SUPPORT_FILEPATH_MANAGEMENT=TRUE\n",
      "Connecting root@localhost:3306\n"
     ]
    }
   ],
   "source": [
    "%env DJ_SUPPORT_FILEPATH_MANAGEMENT=TRUE\n",
    "%load_ext autoreload\n",
    "%autoreload 2\n",
    "\n",
    "import pynwb\n",
    "import os\n",
    "\n",
    "# DataJoint and DataJoint schema\n",
    "import datajoint as dj\n",
    "\n",
    "# the commands below can be run once to update your global configuration\n",
    "#dj.config[\"enable_python_native_blobs\"] = True\n",
    "#dj.config[\"database.user\"] = 'root'\n",
    "#dj.config[\"database.password\"] = 'tutorial'\n",
    "#dj.config.save_global()\n",
    "\n",
    "import nwb_datajoint as nd\n",
    "import ndx_franklab_novela.probe\n",
    "\n",
    "import warnings\n",
    "warnings.simplefilter('ignore')\n",
    "\n",
    "# Note that all of the following must exist\n",
    "data_dir = '/Users/loren/data/nwb_builder_test_data'  # CHANGE ME\n",
    "os.environ['NWB_DATAJOINT_BASE_DIR'] = data_dir\n",
    "os.environ['KACHERY_STORAGE_DIR'] = os.path.join(data_dir, 'kachery-storage')\n",
    "os.environ['SPIKE_SORTING_STORAGE_DIR'] = os.path.join(data_dir, 'spikesorting')"
   ]
  },
  {
   "cell_type": "markdown",
   "metadata": {},
   "source": [
    "#### Next we select the NWB file, which corresponds to the dataset we want to extract LFP from"
   ]
  },
  {
   "cell_type": "code",
   "execution_count": 2,
   "metadata": {},
   "outputs": [
    {
     "name": "stdout",
     "output_type": "stream",
     "text": [
      "beans20190718-trim.nwb\n"
     ]
    }
   ],
   "source": [
    "nwb_file_names = nd.common.Nwbfile().fetch('nwb_file_name')\n",
    "# take the first one for this demonstration\n",
    "nwb_file_name = nwb_file_names[0]\n",
    "print(nwb_file_name)"
   ]
  },
  {
   "cell_type": "markdown",
   "metadata": {},
   "source": [
    "#### Create the standard LFP Filters. This only needs to be done once."
   ]
  },
  {
   "cell_type": "code",
   "execution_count": 3,
   "metadata": {},
   "outputs": [],
   "source": [
    "nd.common.FirFilter().create_standard_filters()"
   ]
  },
  {
   "cell_type": "markdown",
   "metadata": {},
   "source": [
    "### Select every 16th electrode for LFP"
   ]
  },
  {
   "cell_type": "code",
   "execution_count": 4,
   "metadata": {},
   "outputs": [
    {
     "name": "stdout",
     "output_type": "stream",
     "text": [
      "About to delete:\n",
      "`common_ephys`.`__l_f_p_band`: 1 items\n",
      "`common_ephys`.`l_f_p_band_selection__l_f_p_band_electrode`: 3 items\n",
      "`common_ephys`.`l_f_p_band_selection`: 1 items\n",
      "`common_ephys`.`_l_f_p`: 1 items\n",
      "`common_ephys`.`l_f_p_selection__l_f_p_electrode`: 16 items\n",
      "`common_ephys`.`l_f_p_selection`: 1 items\n"
     ]
    },
    {
     "name": "stdin",
     "output_type": "stream",
     "text": [
      "Proceed? [yes, No]:  yes\n"
     ]
    },
    {
     "name": "stdout",
     "output_type": "stream",
     "text": [
      "Committed.\n"
     ]
    }
   ],
   "source": [
    "electrode_ids = nd.common.Electrode.fetch('electrode_id')\n",
    "lfp_electrode_ids = electrode_ids[range(0, len(electrode_ids), 16)]\n",
    "nd.common.LFPSelection().set_lfp_electrodes(nwb_file_name, lfp_electrode_ids.tolist())"
   ]
  },
  {
   "cell_type": "markdown",
   "metadata": {},
   "source": [
    "Show the list of selected electrodes. Note that the electrode_group corresponds to the physical probe the electrode was part of."
   ]
  },
  {
   "cell_type": "code",
   "execution_count": 5,
   "metadata": {},
   "outputs": [
    {
     "data": {
      "text/html": [
       "\n",
       "        \n",
       "        <style type=\"text/css\">\n",
       "            .Relation{\n",
       "                border-collapse:collapse;\n",
       "            }\n",
       "            .Relation th{\n",
       "                background: #A0A0A0; color: #ffffff; padding:4px; border:#f0e0e0 1px solid;\n",
       "                font-weight: normal; font-family: monospace; font-size: 100%;\n",
       "            }\n",
       "            .Relation td{\n",
       "                padding:4px; border:#f0e0e0 1px solid; font-size:100%;\n",
       "            }\n",
       "            .Relation tr:nth-child(odd){\n",
       "                background: #ffffff;\n",
       "            }\n",
       "            .Relation tr:nth-child(even){\n",
       "                background: #f3f1ff;\n",
       "            }\n",
       "            /* Tooltip container */\n",
       "            .djtooltip {\n",
       "            }\n",
       "            /* Tooltip text */\n",
       "            .djtooltip .djtooltiptext {\n",
       "                visibility: hidden;\n",
       "                width: 120px;\n",
       "                background-color: black;\n",
       "                color: #fff;\n",
       "                text-align: center;\n",
       "                padding: 5px 0;\n",
       "                border-radius: 6px;\n",
       "                /* Position the tooltip text - see examples below! */\n",
       "                position: absolute;\n",
       "                z-index: 1;\n",
       "            }\n",
       "            #primary {\n",
       "                font-weight: bold;\n",
       "                color: black;\n",
       "            }\n",
       "\n",
       "            #nonprimary {\n",
       "                font-weight: normal;\n",
       "                color: white;\n",
       "            }\n",
       "\n",
       "            /* Show the tooltip text when you mouse over the tooltip container */\n",
       "            .djtooltip:hover .djtooltiptext {\n",
       "                visibility: visible;\n",
       "            }\n",
       "        </style>\n",
       "        \n",
       "        <b></b>\n",
       "            <div style=\"max-height:1000px;max-width:1500px;overflow:auto;\">\n",
       "            <table border=\"1\" class=\"Relation\">\n",
       "                <thead> <tr style=\"text-align: right;\"> <th> <div class=\"djtooltip\">\n",
       "                                <p id=\"primary\">nwb_file_name</p>\n",
       "                                <span class=\"djtooltiptext\">the name of the NWB file</span>\n",
       "                            </div></th><th><div class=\"djtooltip\">\n",
       "                                <p id=\"primary\">electrode_group_name</p>\n",
       "                                <span class=\"djtooltiptext\">electrode group name from NWBFile</span>\n",
       "                            </div></th><th><div class=\"djtooltip\">\n",
       "                                <p id=\"primary\">electrode_id</p>\n",
       "                                <span class=\"djtooltiptext\">the unique number for this electrode</span>\n",
       "                            </div> </th> </tr> </thead>\n",
       "                <tbody> <tr> <td>beans20190718-trim.nwb</td>\n",
       "<td>0</td>\n",
       "<td>0</td></tr><tr><td>beans20190718-trim.nwb</td>\n",
       "<td>0</td>\n",
       "<td>16</td></tr><tr><td>beans20190718-trim.nwb</td>\n",
       "<td>0</td>\n",
       "<td>32</td></tr><tr><td>beans20190718-trim.nwb</td>\n",
       "<td>0</td>\n",
       "<td>48</td></tr><tr><td>beans20190718-trim.nwb</td>\n",
       "<td>0</td>\n",
       "<td>64</td></tr><tr><td>beans20190718-trim.nwb</td>\n",
       "<td>0</td>\n",
       "<td>80</td></tr><tr><td>beans20190718-trim.nwb</td>\n",
       "<td>0</td>\n",
       "<td>96</td></tr><tr><td>beans20190718-trim.nwb</td>\n",
       "<td>0</td>\n",
       "<td>112</td></tr><tr><td>beans20190718-trim.nwb</td>\n",
       "<td>1</td>\n",
       "<td>128</td></tr><tr><td>beans20190718-trim.nwb</td>\n",
       "<td>1</td>\n",
       "<td>144</td></tr><tr><td>beans20190718-trim.nwb</td>\n",
       "<td>1</td>\n",
       "<td>160</td></tr><tr><td>beans20190718-trim.nwb</td>\n",
       "<td>1</td>\n",
       "<td>176</td> </tr> </tbody>\n",
       "            </table>\n",
       "            <p>...</p>\n",
       "            <p>Total: 16</p></div>\n",
       "            "
      ],
      "text/plain": [
       "*nwb_file_name *electrode_gro *electrode_id \n",
       "+------------+ +------------+ +------------+\n",
       "beans20190718- 0              0             \n",
       "beans20190718- 0              16            \n",
       "beans20190718- 0              32            \n",
       "beans20190718- 0              48            \n",
       "beans20190718- 0              64            \n",
       "beans20190718- 0              80            \n",
       "beans20190718- 0              96            \n",
       "beans20190718- 0              112           \n",
       "beans20190718- 1              128           \n",
       "beans20190718- 1              144           \n",
       "beans20190718- 1              160           \n",
       "beans20190718- 1              176           \n",
       "   ...\n",
       " (Total: 16)"
      ]
     },
     "execution_count": 5,
     "metadata": {},
     "output_type": "execute_result"
    }
   ],
   "source": [
    "nd.common.LFPSelection().LFPElectrode()"
   ]
  },
  {
   "cell_type": "markdown",
   "metadata": {},
   "source": [
    "### Populate the LFP table"
   ]
  },
  {
   "cell_type": "code",
   "execution_count": 6,
   "metadata": {},
   "outputs": [
    {
     "name": "stdout",
     "output_type": "stream",
     "text": [
      "writing new NWB file beans20190718-trim_00000004.nwb\n",
      "Output array should have shape (200000, 16) and dtype <f8\n",
      "Checking output array shape is disabled, make sure portion of output array has shape (200000, 16)\n"
     ]
    }
   ],
   "source": [
    "nd.common.LFP().populate()"
   ]
  },
  {
   "cell_type": "markdown",
   "metadata": {},
   "source": [
    "### Now that we've created the LFP object we can perform a second level of filtering for a band of interest, in this case the theta band\n",
    "We first need to create the filter"
   ]
  },
  {
   "cell_type": "code",
   "execution_count": 7,
   "metadata": {},
   "outputs": [],
   "source": [
    "lfp_sampling_rate = (nd.common.LFP() & {'nwb_file_name' : nwb_file_name}).fetch1('lfp_sampling_rate')\n",
    "filter_name = 'Theta 5-11 Hz'\n",
    "nd.common.FirFilter().add_filter(filter_name, lfp_sampling_rate, 'bandpass', [4, 5, 11, 12], 'theta filter for 1 KHz data')"
   ]
  },
  {
   "cell_type": "code",
   "execution_count": 8,
   "metadata": {},
   "outputs": [
    {
     "data": {
      "text/html": [
       "\n",
       "        \n",
       "        <style type=\"text/css\">\n",
       "            .Relation{\n",
       "                border-collapse:collapse;\n",
       "            }\n",
       "            .Relation th{\n",
       "                background: #A0A0A0; color: #ffffff; padding:4px; border:#f0e0e0 1px solid;\n",
       "                font-weight: normal; font-family: monospace; font-size: 100%;\n",
       "            }\n",
       "            .Relation td{\n",
       "                padding:4px; border:#f0e0e0 1px solid; font-size:100%;\n",
       "            }\n",
       "            .Relation tr:nth-child(odd){\n",
       "                background: #ffffff;\n",
       "            }\n",
       "            .Relation tr:nth-child(even){\n",
       "                background: #f3f1ff;\n",
       "            }\n",
       "            /* Tooltip container */\n",
       "            .djtooltip {\n",
       "            }\n",
       "            /* Tooltip text */\n",
       "            .djtooltip .djtooltiptext {\n",
       "                visibility: hidden;\n",
       "                width: 120px;\n",
       "                background-color: black;\n",
       "                color: #fff;\n",
       "                text-align: center;\n",
       "                padding: 5px 0;\n",
       "                border-radius: 6px;\n",
       "                /* Position the tooltip text - see examples below! */\n",
       "                position: absolute;\n",
       "                z-index: 1;\n",
       "            }\n",
       "            #primary {\n",
       "                font-weight: bold;\n",
       "                color: black;\n",
       "            }\n",
       "\n",
       "            #nonprimary {\n",
       "                font-weight: normal;\n",
       "                color: white;\n",
       "            }\n",
       "\n",
       "            /* Show the tooltip text when you mouse over the tooltip container */\n",
       "            .djtooltip:hover .djtooltiptext {\n",
       "                visibility: visible;\n",
       "            }\n",
       "        </style>\n",
       "        \n",
       "        <b></b>\n",
       "            <div style=\"max-height:1000px;max-width:1500px;overflow:auto;\">\n",
       "            <table border=\"1\" class=\"Relation\">\n",
       "                <thead> <tr style=\"text-align: right;\"> <th> <div class=\"djtooltip\">\n",
       "                                <p id=\"primary\">filter_name</p>\n",
       "                                <span class=\"djtooltiptext\">descriptive name of this filter</span>\n",
       "                            </div></th><th><div class=\"djtooltip\">\n",
       "                                <p id=\"primary\">filter_sampling_rate</p>\n",
       "                                <span class=\"djtooltiptext\">sampling rate for this filter</span>\n",
       "                            </div></th><th><div class=\"djtooltip\">\n",
       "                                <p id=\"nonprimary\">filter_type</p>\n",
       "                                <span class=\"djtooltiptext\"></span>\n",
       "                            </div></th><th><div class=\"djtooltip\">\n",
       "                                <p id=\"nonprimary\">filter_low_stop</p>\n",
       "                                <span class=\"djtooltiptext\">lowest frequency for stop band for low frequency side of filter</span>\n",
       "                            </div></th><th><div class=\"djtooltip\">\n",
       "                                <p id=\"nonprimary\">filter_low_pass</p>\n",
       "                                <span class=\"djtooltiptext\">lowest frequency for pass band of low frequency side of filter</span>\n",
       "                            </div></th><th><div class=\"djtooltip\">\n",
       "                                <p id=\"nonprimary\">filter_high_pass</p>\n",
       "                                <span class=\"djtooltiptext\">highest frequency for pass band for high frequency side of filter</span>\n",
       "                            </div></th><th><div class=\"djtooltip\">\n",
       "                                <p id=\"nonprimary\">filter_high_stop</p>\n",
       "                                <span class=\"djtooltiptext\">highest frequency for stop band of high frequency side of filter</span>\n",
       "                            </div></th><th><div class=\"djtooltip\">\n",
       "                                <p id=\"nonprimary\">filter_comments</p>\n",
       "                                <span class=\"djtooltiptext\">comments about the filter</span>\n",
       "                            </div></th><th><div class=\"djtooltip\">\n",
       "                                <p id=\"nonprimary\">filter_band_edges</p>\n",
       "                                <span class=\"djtooltiptext\">numpy array containing the filter bands (redundant with individual parameters)</span>\n",
       "                            </div></th><th><div class=\"djtooltip\">\n",
       "                                <p id=\"nonprimary\">filter_coeff</p>\n",
       "                                <span class=\"djtooltiptext\">numpy array containing the filter coefficients</span>\n",
       "                            </div> </th> </tr> </thead>\n",
       "                <tbody> <tr> <td>LFP 0-400 Hz</td>\n",
       "<td>20000</td>\n",
       "<td>lowpass</td>\n",
       "<td>0.0</td>\n",
       "<td>0.0</td>\n",
       "<td>400.0</td>\n",
       "<td>425.0</td>\n",
       "<td>standard LFP filter for 20 KHz data</td>\n",
       "<td>=BLOB=</td>\n",
       "<td>=BLOB=</td></tr><tr><td>LFP 0-400 Hz</td>\n",
       "<td>30000</td>\n",
       "<td>lowpass</td>\n",
       "<td>0.0</td>\n",
       "<td>0.0</td>\n",
       "<td>400.0</td>\n",
       "<td>425.0</td>\n",
       "<td>standard LFP filter for 20 KHz data</td>\n",
       "<td>=BLOB=</td>\n",
       "<td>=BLOB=</td></tr><tr><td>Theta 5-11 Hz</td>\n",
       "<td>1000</td>\n",
       "<td>lowpass</td>\n",
       "<td>4.0</td>\n",
       "<td>5.0</td>\n",
       "<td>11.0</td>\n",
       "<td>12.0</td>\n",
       "<td>theta filter for 1 Khz data</td>\n",
       "<td>=BLOB=</td>\n",
       "<td>=BLOB=</td> </tr> </tbody>\n",
       "            </table>\n",
       "            \n",
       "            <p>Total: 3</p></div>\n",
       "            "
      ],
      "text/plain": [
       "*filter_name   *filter_sampli filter_type    filter_low_sto filter_low_pas filter_high_pa filter_high_st filter_comment filter_ban filter_coe\n",
       "+------------+ +------------+ +------------+ +------------+ +------------+ +------------+ +------------+ +------------+ +--------+ +--------+\n",
       "LFP 0-400 Hz   20000          lowpass        0.0            0.0            400.0          425.0          standard LFP f =BLOB=     =BLOB=    \n",
       "LFP 0-400 Hz   30000          lowpass        0.0            0.0            400.0          425.0          standard LFP f =BLOB=     =BLOB=    \n",
       "Theta 5-11 Hz  1000           lowpass        4.0            5.0            11.0           12.0           theta filter f =BLOB=     =BLOB=    \n",
       " (Total: 3)"
      ]
     },
     "execution_count": 8,
     "metadata": {},
     "output_type": "execute_result"
    }
   ],
   "source": [
    "nd.common.FirFilter()"
   ]
  },
  {
   "cell_type": "markdown",
   "metadata": {},
   "source": [
    "Next we add an entry for the LFP Band and the electrodes we want to filter"
   ]
  },
  {
   "cell_type": "code",
   "execution_count": 9,
   "metadata": {},
   "outputs": [],
   "source": [
    "# assume that we've filtered these electrodes; change this if not\n",
    "lfp_band_electrode_ids = [0, 16, 32]\n",
    "\n",
    "# set the interval list name corresponding to the first epoch (a sleep session)\n",
    "interval_list_name = '01_s1'\n",
    "\n",
    "# set the reference to -1 to indicate no reference for all channels\n",
    "ref_elect = [-1]\n",
    "\n",
    "# desired sampling rate\n",
    "lfp_band_sampling_rate = lfp_sampling_rate // 10"
   ]
  },
  {
   "cell_type": "code",
   "execution_count": 10,
   "metadata": {},
   "outputs": [
    {
     "data": {
      "text/plain": [
       "1563489188.87307"
      ]
     },
     "execution_count": 10,
     "metadata": {},
     "output_type": "execute_result"
    }
   ],
   "source": [
    "(nd.common.IntervalList() & {'nwb_file_name' : nwb_file_name, 'interval_list_name': interval_list_name}).fetch1('valid_times')[0, 1]"
   ]
  },
  {
   "cell_type": "code",
   "execution_count": 11,
   "metadata": {},
   "outputs": [],
   "source": [
    "nd.common.LFPBandSelection().set_lfp_band_electrodes(nwb_file_name, lfp_band_electrode_ids, filter_name, interval_list_name, ref_elect, lfp_band_sampling_rate)"
   ]
  },
  {
   "cell_type": "markdown",
   "metadata": {},
   "source": [
    "Check to make sure it worked"
   ]
  },
  {
   "cell_type": "code",
   "execution_count": 12,
   "metadata": {},
   "outputs": [
    {
     "data": {
      "text/html": [
       "\n",
       "        \n",
       "        <style type=\"text/css\">\n",
       "            .Relation{\n",
       "                border-collapse:collapse;\n",
       "            }\n",
       "            .Relation th{\n",
       "                background: #A0A0A0; color: #ffffff; padding:4px; border:#f0e0e0 1px solid;\n",
       "                font-weight: normal; font-family: monospace; font-size: 100%;\n",
       "            }\n",
       "            .Relation td{\n",
       "                padding:4px; border:#f0e0e0 1px solid; font-size:100%;\n",
       "            }\n",
       "            .Relation tr:nth-child(odd){\n",
       "                background: #ffffff;\n",
       "            }\n",
       "            .Relation tr:nth-child(even){\n",
       "                background: #f3f1ff;\n",
       "            }\n",
       "            /* Tooltip container */\n",
       "            .djtooltip {\n",
       "            }\n",
       "            /* Tooltip text */\n",
       "            .djtooltip .djtooltiptext {\n",
       "                visibility: hidden;\n",
       "                width: 120px;\n",
       "                background-color: black;\n",
       "                color: #fff;\n",
       "                text-align: center;\n",
       "                padding: 5px 0;\n",
       "                border-radius: 6px;\n",
       "                /* Position the tooltip text - see examples below! */\n",
       "                position: absolute;\n",
       "                z-index: 1;\n",
       "            }\n",
       "            #primary {\n",
       "                font-weight: bold;\n",
       "                color: black;\n",
       "            }\n",
       "\n",
       "            #nonprimary {\n",
       "                font-weight: normal;\n",
       "                color: white;\n",
       "            }\n",
       "\n",
       "            /* Show the tooltip text when you mouse over the tooltip container */\n",
       "            .djtooltip:hover .djtooltiptext {\n",
       "                visibility: visible;\n",
       "            }\n",
       "        </style>\n",
       "        \n",
       "        <b></b>\n",
       "            <div style=\"max-height:1000px;max-width:1500px;overflow:auto;\">\n",
       "            <table border=\"1\" class=\"Relation\">\n",
       "                <thead> <tr style=\"text-align: right;\"> <th> <div class=\"djtooltip\">\n",
       "                                <p id=\"primary\">nwb_file_name</p>\n",
       "                                <span class=\"djtooltiptext\">the name of the NWB file</span>\n",
       "                            </div></th><th><div class=\"djtooltip\">\n",
       "                                <p id=\"primary\">filter_name</p>\n",
       "                                <span class=\"djtooltiptext\">descriptive name of this filter</span>\n",
       "                            </div></th><th><div class=\"djtooltip\">\n",
       "                                <p id=\"primary\">filter_sampling_rate</p>\n",
       "                                <span class=\"djtooltiptext\">sampling rate for this filter</span>\n",
       "                            </div></th><th><div class=\"djtooltip\">\n",
       "                                <p id=\"nonprimary\">interval_list_name</p>\n",
       "                                <span class=\"djtooltiptext\">descriptive name of this interval list</span>\n",
       "                            </div></th><th><div class=\"djtooltip\">\n",
       "                                <p id=\"nonprimary\">lfp_band_sampling_rate</p>\n",
       "                                <span class=\"djtooltiptext\">the sampling rate for this band</span>\n",
       "                            </div> </th> </tr> </thead>\n",
       "                <tbody> <tr> <td>beans20190718-trim.nwb</td>\n",
       "<td>Theta 5-11 Hz</td>\n",
       "<td>1000</td>\n",
       "<td>01_s1</td>\n",
       "<td>100</td> </tr> </tbody>\n",
       "            </table>\n",
       "            \n",
       "            <p>Total: 1</p></div>\n",
       "            "
      ],
      "text/plain": [
       "*nwb_file_name *filter_name   *filter_sampli interval_list_ lfp_band_sampl\n",
       "+------------+ +------------+ +------------+ +------------+ +------------+\n",
       "beans20190718- Theta 5-11 Hz  1000           01_s1          100           \n",
       " (Total: 1)"
      ]
     },
     "execution_count": 12,
     "metadata": {},
     "output_type": "execute_result"
    }
   ],
   "source": [
    "nd.common.LFPBandSelection()"
   ]
  },
  {
   "cell_type": "code",
   "execution_count": 13,
   "metadata": {},
   "outputs": [
    {
     "data": {
      "text/html": [
       "\n",
       "        \n",
       "        <style type=\"text/css\">\n",
       "            .Relation{\n",
       "                border-collapse:collapse;\n",
       "            }\n",
       "            .Relation th{\n",
       "                background: #A0A0A0; color: #ffffff; padding:4px; border:#f0e0e0 1px solid;\n",
       "                font-weight: normal; font-family: monospace; font-size: 100%;\n",
       "            }\n",
       "            .Relation td{\n",
       "                padding:4px; border:#f0e0e0 1px solid; font-size:100%;\n",
       "            }\n",
       "            .Relation tr:nth-child(odd){\n",
       "                background: #ffffff;\n",
       "            }\n",
       "            .Relation tr:nth-child(even){\n",
       "                background: #f3f1ff;\n",
       "            }\n",
       "            /* Tooltip container */\n",
       "            .djtooltip {\n",
       "            }\n",
       "            /* Tooltip text */\n",
       "            .djtooltip .djtooltiptext {\n",
       "                visibility: hidden;\n",
       "                width: 120px;\n",
       "                background-color: black;\n",
       "                color: #fff;\n",
       "                text-align: center;\n",
       "                padding: 5px 0;\n",
       "                border-radius: 6px;\n",
       "                /* Position the tooltip text - see examples below! */\n",
       "                position: absolute;\n",
       "                z-index: 1;\n",
       "            }\n",
       "            #primary {\n",
       "                font-weight: bold;\n",
       "                color: black;\n",
       "            }\n",
       "\n",
       "            #nonprimary {\n",
       "                font-weight: normal;\n",
       "                color: white;\n",
       "            }\n",
       "\n",
       "            /* Show the tooltip text when you mouse over the tooltip container */\n",
       "            .djtooltip:hover .djtooltiptext {\n",
       "                visibility: visible;\n",
       "            }\n",
       "        </style>\n",
       "        \n",
       "        <b></b>\n",
       "            <div style=\"max-height:1000px;max-width:1500px;overflow:auto;\">\n",
       "            <table border=\"1\" class=\"Relation\">\n",
       "                <thead> <tr style=\"text-align: right;\"> <th> <div class=\"djtooltip\">\n",
       "                                <p id=\"primary\">nwb_file_name</p>\n",
       "                                <span class=\"djtooltiptext\">the name of the NWB file</span>\n",
       "                            </div></th><th><div class=\"djtooltip\">\n",
       "                                <p id=\"primary\">filter_name</p>\n",
       "                                <span class=\"djtooltiptext\">descriptive name of this filter</span>\n",
       "                            </div></th><th><div class=\"djtooltip\">\n",
       "                                <p id=\"primary\">filter_sampling_rate</p>\n",
       "                                <span class=\"djtooltiptext\">sampling rate for this filter</span>\n",
       "                            </div></th><th><div class=\"djtooltip\">\n",
       "                                <p id=\"primary\">electrode_group_name</p>\n",
       "                                <span class=\"djtooltiptext\">electrode group name from NWBFile</span>\n",
       "                            </div></th><th><div class=\"djtooltip\">\n",
       "                                <p id=\"primary\">electrode_id</p>\n",
       "                                <span class=\"djtooltiptext\">the unique number for this electrode</span>\n",
       "                            </div></th><th><div class=\"djtooltip\">\n",
       "                                <p id=\"primary\">reference_elect_id</p>\n",
       "                                <span class=\"djtooltiptext\">the reference electrode to use; -1 for no reference</span>\n",
       "                            </div> </th> </tr> </thead>\n",
       "                <tbody> <tr> <td>beans20190718-trim.nwb</td>\n",
       "<td>Theta 5-11 Hz</td>\n",
       "<td>1000</td>\n",
       "<td>0</td>\n",
       "<td>0</td>\n",
       "<td>-1</td></tr><tr><td>beans20190718-trim.nwb</td>\n",
       "<td>Theta 5-11 Hz</td>\n",
       "<td>1000</td>\n",
       "<td>0</td>\n",
       "<td>16</td>\n",
       "<td>-1</td></tr><tr><td>beans20190718-trim.nwb</td>\n",
       "<td>Theta 5-11 Hz</td>\n",
       "<td>1000</td>\n",
       "<td>0</td>\n",
       "<td>32</td>\n",
       "<td>-1</td> </tr> </tbody>\n",
       "            </table>\n",
       "            \n",
       "            <p>Total: 3</p></div>\n",
       "            "
      ],
      "text/plain": [
       "*nwb_file_name *filter_name   *filter_sampli *electrode_gro *electrode_id  *reference_ele\n",
       "+------------+ +------------+ +------------+ +------------+ +------------+ +------------+\n",
       "beans20190718- Theta 5-11 Hz  1000           0              0              -1            \n",
       "beans20190718- Theta 5-11 Hz  1000           0              16             -1            \n",
       "beans20190718- Theta 5-11 Hz  1000           0              32             -1            \n",
       " (Total: 3)"
      ]
     },
     "execution_count": 13,
     "metadata": {},
     "output_type": "execute_result"
    }
   ],
   "source": [
    "nd.common.LFPBandSelection().LFPBandElectrode()"
   ]
  },
  {
   "cell_type": "code",
   "execution_count": 14,
   "metadata": {},
   "outputs": [
    {
     "name": "stdout",
     "output_type": "stream",
     "text": [
      "[{'nwb_file_name': 'beans20190718-trim.nwb', 'analysis_file_name': 'beans20190718-trim_00000004.nwb', 'interval_list_name': 'raw data valid times', 'filter_name': 'LFP 0-400 Hz', 'filter_sampling_rate': 20000, 'lfp_object_id': 'ba029d4d-6716-467b-a1cc-2ff26f788e38', 'lfp_sampling_rate': 1000.0, 'nwb2load_filepath': '/Users/loren/data/nwb_builder_test_data/analysis/beans20190718-trim_00000004.nwb'}]\n"
     ]
    },
    {
     "data": {
      "text/plain": [
       "[{'nwb_file_name': 'beans20190718-trim.nwb',\n",
       "  'analysis_file_name': 'beans20190718-trim_00000004.nwb',\n",
       "  'interval_list_name': 'raw data valid times',\n",
       "  'filter_name': 'LFP 0-400 Hz',\n",
       "  'filter_sampling_rate': 20000,\n",
       "  'lfp_object_id': 'ba029d4d-6716-467b-a1cc-2ff26f788e38',\n",
       "  'lfp_sampling_rate': 1000.0,\n",
       "  'lfp': filtered data pynwb.ecephys.ElectricalSeries at 0x140450135078560\n",
       "  Fields:\n",
       "    comments: no comments\n",
       "    conversion: 1.0\n",
       "    data: <HDF5 dataset \"data\": shape (200000, 16), type \"<i2\">\n",
       "    description: no description\n",
       "    electrodes: electrodes <class 'hdmf.common.table.DynamicTableRegion'>\n",
       "    interval: 1\n",
       "    resolution: -1.0\n",
       "    timestamps: <HDF5 dataset \"timestamps\": shape (200000,), type \"<f8\">\n",
       "    timestamps_unit: seconds\n",
       "    unit: volts}]"
      ]
     },
     "execution_count": 14,
     "metadata": {},
     "output_type": "execute_result"
    }
   ],
   "source": [
    "(nd.common.LFP()& {'nwb_file_name' : nwb_file_name}).fetch_nwb()"
   ]
  },
  {
   "cell_type": "code",
   "execution_count": 15,
   "metadata": {},
   "outputs": [
    {
     "name": "stdout",
     "output_type": "stream",
     "text": [
      "[{'nwb_file_name': 'beans20190718-trim.nwb', 'analysis_file_name': 'beans20190718-trim_00000004.nwb', 'interval_list_name': 'raw data valid times', 'filter_name': 'LFP 0-400 Hz', 'filter_sampling_rate': 20000, 'lfp_object_id': 'ba029d4d-6716-467b-a1cc-2ff26f788e38', 'lfp_sampling_rate': 1000.0, 'nwb2load_filepath': '/Users/loren/data/nwb_builder_test_data/analysis/beans20190718-trim_00000004.nwb'}]\n",
      "writing new NWB file beans20190718-trim_00000005.nwb\n",
      "Output array should have shape (20000, 3) and dtype <f8\n",
      "Checking output array shape is disabled, make sure portion of output array has shape (20000, 3)\n"
     ]
    }
   ],
   "source": [
    "nd.common.LFPBand().populate()"
   ]
  },
  {
   "cell_type": "markdown",
   "metadata": {},
   "source": [
    "### Now we can plot the original signal, the LFP filtered trace, and the theta filtered trace together.\n",
    "Much of the code below could be replaced by a function calls that would return the data from each electrical series, or better yet, plot the data in an electrical series."
   ]
  },
  {
   "cell_type": "code",
   "execution_count": 16,
   "metadata": {},
   "outputs": [],
   "source": [
    "import matplotlib.pyplot as plt\n",
    "import numpy as np"
   ]
  },
  {
   "cell_type": "code",
   "execution_count": 17,
   "metadata": {},
   "outputs": [
    {
     "name": "stdout",
     "output_type": "stream",
     "text": [
      "[{'nwb_file_name': 'beans20190718-trim.nwb', 'interval_list_name': 'raw data valid times', 'raw_object_id': 'b03547f7-7f3c-4d5b-ad9a-0beb267c8992', 'sampling_rate': 20000.0, 'comments': 'no comments', 'description': 'Electrical series registered on electrode', 'nwb2load_filepath': '/Users/loren/data/nwb_builder_test_data/beans20190718-trim.nwb'}]\n",
      "[{'nwb_file_name': 'beans20190718-trim.nwb', 'analysis_file_name': 'beans20190718-trim_00000004.nwb', 'interval_list_name': 'raw data valid times', 'filter_name': 'LFP 0-400 Hz', 'filter_sampling_rate': 20000, 'lfp_object_id': 'ba029d4d-6716-467b-a1cc-2ff26f788e38', 'lfp_sampling_rate': 1000.0, 'nwb2load_filepath': '/Users/loren/data/nwb_builder_test_data/analysis/beans20190718-trim_00000004.nwb'}]\n",
      "[{'nwb_file_name': 'beans20190718-trim.nwb', 'filter_name': 'Theta 5-11 Hz', 'filter_sampling_rate': 1000, 'analysis_file_name': 'beans20190718-trim_00000005.nwb', 'filtered_data_object_id': '9c4a170f-53b8-4e51-8b14-3038b8a1e9fe', 'nwb2load_filepath': '/Users/loren/data/nwb_builder_test_data/analysis/beans20190718-trim_00000005.nwb'}]\n"
     ]
    }
   ],
   "source": [
    "#get the three electrical series objects and the indeces of the electrodes we band pass filtered\n",
    "orig_eseries = (nd.common.Raw() & {'nwb_file_name' : nwb_file_name}).fetch_nwb()[0]['raw']\n",
    "orig_elect_indeces = nd.common.get_electrode_indeces(orig_eseries, lfp_band_electrode_ids)\n",
    "\n",
    "lfp_eseries = (nd.common.LFP() & {'nwb_file_name' : nwb_file_name}).fetch_nwb()[0]['lfp']\n",
    "lfp_elect_indeces = nd.common.get_electrode_indeces(lfp_eseries, lfp_band_electrode_ids)\n",
    "\n",
    "lfp_band_eseries = (nd.common.LFPBand() & {'nwb_file_name' : nwb_file_name}).fetch_nwb()[0]['filtered_data']\n",
    "lfp_band_elect_indeces = nd.common.get_electrode_indeces(lfp_band_eseries, lfp_band_electrode_ids)"
   ]
  },
  {
   "cell_type": "code",
   "execution_count": 21,
   "metadata": {},
   "outputs": [],
   "source": [
    "# get a list of times for the first run epoch and then select a 1 second interval 100 seconds from the beginning\n",
    "times = (nd.common.IntervalList & {'interval_list_name' : interval_list_name}).fetch1('valid_times')\n",
    "plottimes = [times[0][0] + 101, times[0][0] + 102]"
   ]
  },
  {
   "cell_type": "code",
   "execution_count": 22,
   "metadata": {},
   "outputs": [],
   "source": [
    "# get the time indeces for each dataset\n",
    "orig_time_ind = np.argwhere(np.logical_and(orig_eseries.timestamps > plottimes[0], orig_eseries.timestamps < plottimes[1]))\n",
    "lfp_time_ind = np.argwhere(np.logical_and(lfp_eseries.timestamps > plottimes[0], lfp_eseries.timestamps < plottimes[1]))\n",
    "lfp_band_time_ind = np.argwhere(np.logical_and(lfp_band_eseries.timestamps > plottimes[0], lfp_band_eseries.timestamps < plottimes[1]))"
   ]
  },
  {
   "cell_type": "code",
   "execution_count": 23,
   "metadata": {},
   "outputs": [
    {
     "data": {
      "image/png": "[encoded data removed]",
      "text/plain": [
       "<Figure size 432x288 with 1 Axes>"
      ]
     },
     "metadata": {
      "needs_background": "light"
     },
     "output_type": "display_data"
    }
   ],
   "source": [
    "plt.plot(orig_eseries.timestamps[orig_time_ind], orig_eseries.data[orig_time_ind,orig_elect_indeces[1]], 'k-')\n",
    "plt.plot(lfp_eseries.timestamps[lfp_time_ind], lfp_eseries.data[lfp_time_ind,lfp_elect_indeces[1]], 'b-')\n",
    "plt.plot(lfp_band_eseries.timestamps[lfp_band_time_ind], lfp_band_eseries.data[lfp_band_time_ind,lfp_band_elect_indeces[1]], 'r-')\n",
    "plt.xlabel('Time (sec)')\n",
    "plt.ylabel('Amplitude (AD units)')\n",
    "\n",
    "plt.show()"
   ]
  },
  {
   "cell_type": "code",
   "execution_count": null,
   "metadata": {},
   "outputs": [],
   "source": []
  }
 ],
 "metadata": {
  "kernelspec": {
   "display_name": "Python 3",
   "language": "python",
   "name": "python3"
  },
  "language_info": {
   "codemirror_mode": {
    "name": "ipython",
    "version": 3
   },
   "file_extension": ".py",
   "mimetype": "text/x-python",
   "name": "python",
   "nbconvert_exporter": "python",
   "pygments_lexer": "ipython3",
   "version": "3.8.0"
  }
 },
 "nbformat": 4,
 "nbformat_minor": 4
}
