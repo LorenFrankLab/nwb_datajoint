{
 "cells": [
  {
   "cell_type": "markdown",
   "metadata": {},
   "source": [
    "### Dropbox link for beans20190718.nwb: https://www.dropbox.com/s/srra33e0igaj5rm/beans20190718.nwb?dl=0"
   ]
  },
  {
   "cell_type": "code",
   "execution_count": 1,
   "metadata": {
    "tags": []
   },
   "outputs": [],
   "source": [
    "%reload_ext autoreload\n",
    "%autoreload 2"
   ]
  },
  {
   "cell_type": "code",
   "execution_count": 2,
   "metadata": {
    "tags": []
   },
   "outputs": [],
   "source": [
    "import os\n",
    "data_dir = '/Users/loren/data/nwb_builder_test_data'\n",
    "os.environ['NWB_DATAJOINT_BASE_DIR'] = data_dir\n",
    "os.environ['KACHERY_STORAGE_DIR'] = os.path.join(data_dir, 'kachery-storage')"
   ]
  },
  {
   "cell_type": "code",
   "execution_count": 3,
   "metadata": {},
   "outputs": [],
   "source": [
    "import warnings\n",
    "warnings.simplefilter('ignore')"
   ]
  },
  {
   "cell_type": "code",
   "execution_count": 5,
   "metadata": {
    "tags": []
   },
   "outputs": [
    {
     "name": "stdout",
     "output_type": "stream",
     "text": [
      "Connecting root@localhost:3306\n"
     ]
    }
   ],
   "source": [
    "import nwb_datajoint as nd\n",
    "import datajoint as dj"
   ]
  },
  {
   "cell_type": "code",
   "execution_count": 8,
   "metadata": {
    "tags": []
   },
   "outputs": [
    {
     "name": "stdout",
     "output_type": "stream",
     "text": [
      "Populate Session...\n",
      "Populate NwbfileKachery...\n",
      "Populate ExperimenterList...\n",
      "Populate ElectrodeGroup...\n",
      "Populate Electrode...\n",
      "Populate Raw...\n",
      "Populate SampleCount...\n",
      "Populate DIOEvants...\n",
      "Populate SensorData\n",
      "Populate TaskEpochs\n",
      "Populate StateScriptFile\n",
      "Populate VideoFile\n",
      "RawPosition...\n",
      "HeadDir...\n",
      "Unable to import HeadDir: no Behavior module found in beans20190718.nwb\n",
      "Speed...\n",
      "Unable to import Speed: no Behavior module found in beans20190718.nwb\n",
      "LinPos...\n",
      "Unable to import LinPos: no Behavior module found in beans20190718.nwb\n"
     ]
    }
   ],
   "source": [
    "nd.insert_sessions(['beans20190718.nwb'])"
   ]
  },
  {
   "cell_type": "markdown",
   "metadata": {},
   "source": [
    "#### Let's look at the core schema (schema = database table). \n",
    "First, Nwbfile:"
   ]
  },
  {
   "cell_type": "code",
   "execution_count": 17,
   "metadata": {},
   "outputs": [
    {
     "data": {
      "text/html": [
       "\n",
       "        \n",
       "        <style type=\"text/css\">\n",
       "            .Relation{\n",
       "                border-collapse:collapse;\n",
       "            }\n",
       "            .Relation th{\n",
       "                background: #A0A0A0; color: #ffffff; padding:4px; border:#f0e0e0 1px solid;\n",
       "                font-weight: normal; font-family: monospace; font-size: 100%;\n",
       "            }\n",
       "            .Relation td{\n",
       "                padding:4px; border:#f0e0e0 1px solid; font-size:100%;\n",
       "            }\n",
       "            .Relation tr:nth-child(odd){\n",
       "                background: #ffffff;\n",
       "            }\n",
       "            .Relation tr:nth-child(even){\n",
       "                background: #f3f1ff;\n",
       "            }\n",
       "            /* Tooltip container */\n",
       "            .djtooltip {\n",
       "            }\n",
       "            /* Tooltip text */\n",
       "            .djtooltip .djtooltiptext {\n",
       "                visibility: hidden;\n",
       "                width: 120px;\n",
       "                background-color: black;\n",
       "                color: #fff;\n",
       "                text-align: center;\n",
       "                padding: 5px 0;\n",
       "                border-radius: 6px;\n",
       "                /* Position the tooltip text - see examples below! */\n",
       "                position: absolute;\n",
       "                z-index: 1;\n",
       "            }\n",
       "            #primary {\n",
       "                font-weight: bold;\n",
       "                color: black;\n",
       "            }\n",
       "\n",
       "            #nonprimary {\n",
       "                font-weight: normal;\n",
       "                color: white;\n",
       "            }\n",
       "\n",
       "            /* Show the tooltip text when you mouse over the tooltip container */\n",
       "            .djtooltip:hover .djtooltiptext {\n",
       "                visibility: visible;\n",
       "            }\n",
       "        </style>\n",
       "        \n",
       "        <b></b>\n",
       "            <div style=\"max-height:1000px;max-width:1500px;overflow:auto;\">\n",
       "            <table border=\"1\" class=\"Relation\">\n",
       "                <thead> <tr style=\"text-align: right;\"> <th> <div class=\"djtooltip\">\n",
       "                                <p id=\"primary\">nwb_file_name</p>\n",
       "                                <span class=\"djtooltiptext\">the name of the NWB file</span>\n",
       "                            </div></th><th><div class=\"djtooltip\">\n",
       "                                <p id=\"nonprimary\">nwb_file_abs_path</p>\n",
       "                                <span class=\"djtooltiptext\">the full path name to the file</span>\n",
       "                            </div> </th> </tr> </thead>\n",
       "                <tbody> <tr> <td>beans20190718.nwb</td>\n",
       "<td>/Users/loren/data/nwb_builder_test_data/beans20190718.nwb</td> </tr> </tbody>\n",
       "            </table>\n",
       "            \n",
       "            <p>Total: 1</p></div>\n",
       "            "
      ],
      "text/plain": [
       "*nwb_file_name nwb_file_abs_p\n",
       "+------------+ +------------+\n",
       "beans20190718. /Users/loren/d\n",
       " (Total: 1)"
      ]
     },
     "execution_count": 17,
     "metadata": {},
     "output_type": "execute_result"
    }
   ],
   "source": [
    "nd.common.Nwbfile()"
   ]
  },
  {
   "cell_type": "markdown",
   "metadata": {},
   "source": [
    "Each NWB file defines a session which also also information about the subject, institution, etc.:"
   ]
  },
  {
   "cell_type": "code",
   "execution_count": 14,
   "metadata": {},
   "outputs": [
    {
     "data": {
      "text/html": [
       "\n",
       "        \n",
       "        <style type=\"text/css\">\n",
       "            .Relation{\n",
       "                border-collapse:collapse;\n",
       "            }\n",
       "            .Relation th{\n",
       "                background: #A0A0A0; color: #ffffff; padding:4px; border:#f0e0e0 1px solid;\n",
       "                font-weight: normal; font-family: monospace; font-size: 100%;\n",
       "            }\n",
       "            .Relation td{\n",
       "                padding:4px; border:#f0e0e0 1px solid; font-size:100%;\n",
       "            }\n",
       "            .Relation tr:nth-child(odd){\n",
       "                background: #ffffff;\n",
       "            }\n",
       "            .Relation tr:nth-child(even){\n",
       "                background: #f3f1ff;\n",
       "            }\n",
       "            /* Tooltip container */\n",
       "            .djtooltip {\n",
       "            }\n",
       "            /* Tooltip text */\n",
       "            .djtooltip .djtooltiptext {\n",
       "                visibility: hidden;\n",
       "                width: 120px;\n",
       "                background-color: black;\n",
       "                color: #fff;\n",
       "                text-align: center;\n",
       "                padding: 5px 0;\n",
       "                border-radius: 6px;\n",
       "                /* Position the tooltip text - see examples below! */\n",
       "                position: absolute;\n",
       "                z-index: 1;\n",
       "            }\n",
       "            #primary {\n",
       "                font-weight: bold;\n",
       "                color: black;\n",
       "            }\n",
       "\n",
       "            #nonprimary {\n",
       "                font-weight: normal;\n",
       "                color: white;\n",
       "            }\n",
       "\n",
       "            /* Show the tooltip text when you mouse over the tooltip container */\n",
       "            .djtooltip:hover .djtooltiptext {\n",
       "                visibility: visible;\n",
       "            }\n",
       "        </style>\n",
       "        \n",
       "        <b></b>\n",
       "            <div style=\"max-height:1000px;max-width:1500px;overflow:auto;\">\n",
       "            <table border=\"1\" class=\"Relation\">\n",
       "                <thead> <tr style=\"text-align: right;\"> <th> <div class=\"djtooltip\">\n",
       "                                <p id=\"primary\">nwb_file_name</p>\n",
       "                                <span class=\"djtooltiptext\">the name of the NWB file</span>\n",
       "                            </div></th><th><div class=\"djtooltip\">\n",
       "                                <p id=\"nonprimary\">subject_id</p>\n",
       "                                <span class=\"djtooltiptext\"></span>\n",
       "                            </div></th><th><div class=\"djtooltip\">\n",
       "                                <p id=\"nonprimary\">institution_name</p>\n",
       "                                <span class=\"djtooltiptext\"></span>\n",
       "                            </div></th><th><div class=\"djtooltip\">\n",
       "                                <p id=\"nonprimary\">lab_name</p>\n",
       "                                <span class=\"djtooltiptext\"></span>\n",
       "                            </div></th><th><div class=\"djtooltip\">\n",
       "                                <p id=\"nonprimary\">session_id</p>\n",
       "                                <span class=\"djtooltiptext\"></span>\n",
       "                            </div></th><th><div class=\"djtooltip\">\n",
       "                                <p id=\"nonprimary\">session_description</p>\n",
       "                                <span class=\"djtooltiptext\"></span>\n",
       "                            </div></th><th><div class=\"djtooltip\">\n",
       "                                <p id=\"nonprimary\">session_start_time</p>\n",
       "                                <span class=\"djtooltiptext\"></span>\n",
       "                            </div></th><th><div class=\"djtooltip\">\n",
       "                                <p id=\"nonprimary\">timestamps_reference_time</p>\n",
       "                                <span class=\"djtooltiptext\"></span>\n",
       "                            </div></th><th><div class=\"djtooltip\">\n",
       "                                <p id=\"nonprimary\">experiment_description</p>\n",
       "                                <span class=\"djtooltiptext\"></span>\n",
       "                            </div> </th> </tr> </thead>\n",
       "                <tbody> <tr> <td>beans20190718.nwb</td>\n",
       "<td>Beans</td>\n",
       "<td>University of California, San Francisco</td>\n",
       "<td>Loren Frank</td>\n",
       "<td>beans_01</td>\n",
       "<td>Reinforcement leaarning</td>\n",
       "<td>2019-07-18 15:29:47</td>\n",
       "<td>1970-01-01 00:00:00</td>\n",
       "<td>Reinforcement learning</td> </tr> </tbody>\n",
       "            </table>\n",
       "            \n",
       "            <p>Total: 1</p></div>\n",
       "            "
      ],
      "text/plain": [
       "*nwb_file_name subject_id     institution_na lab_name       session_id     session_descri session_start_ timestamps_ref experiment_des\n",
       "+------------+ +------------+ +------------+ +------------+ +------------+ +------------+ +------------+ +------------+ +------------+\n",
       "beans20190718. Beans          University of  Loren Frank    beans_01       Reinforcement  2019-07-18 15: 1970-01-01 00: Reinforcement \n",
       " (Total: 1)"
      ]
     },
     "execution_count": 14,
     "metadata": {},
     "output_type": "execute_result"
    }
   ],
   "source": [
    "nd.common.Session()"
   ]
  },
  {
   "cell_type": "markdown",
   "metadata": {},
   "source": [
    "We can use the datajoint Diagram method to represent the relationship between Nwbfile and Session: \n",
    "Session is defined by a Nwbfile"
   ]
  },
  {
   "cell_type": "code",
   "execution_count": 18,
   "metadata": {},
   "outputs": [
    {
     "data": {
      "image/svg+xml": [
       "<svg xmlns=\"http://www.w3.org/2000/svg\" xmlns:xlink=\"http://www.w3.org/1999/xlink\" width=\"164pt\" height=\"114pt\" viewBox=\"0.00 0.00 164.25 114.00\">\n",
       "<g id=\"graph0\" class=\"graph\" transform=\"scale(1 1) rotate(0) translate(4 110)\">\n",
       "<title>%3</title>\n",
       "<polygon fill=\"#ffffff\" stroke=\"transparent\" points=\"-4,4 -4,-110 160.25,-110 160.25,4 -4,4\"/>\n",
       "<!-- nd.common.Session -->\n",
       "<g id=\"node1\" class=\"node\">\n",
       "<title>nd.common.Session</title>\n",
       "<g id=\"a_node1\"><a xlink:title=\"→ nd.common.Nwbfile\r",
       "------------------------------\r",
       "→ nd.common.Subject\r",
       "→ nd.common.Institution\r",
       "→ nd.common.Lab\r",
       "session_id           \r",
       "session_description  \r",
       "session_start_time   \r",
       "timestamps_reference_time \r",
       "experiment_description \r",
       "\">\n",
       "<ellipse fill=\"#00007f\" fill-opacity=\"0.250980\" stroke=\"#00007f\" stroke-opacity=\"0.250980\" cx=\"78.125\" cy=\"-17.5\" rx=\"78.2502\" ry=\"17.5\"/>\n",
       "<text text-anchor=\"middle\" x=\"78.125\" y=\"-14.4\" font-family=\"arial\" font-size=\"12.00\" fill=\"#00007f\">nd.common.Session</text>\n",
       "</a>\n",
       "</g>\n",
       "</g>\n",
       "<!-- nd.common.Nwbfile -->\n",
       "<g id=\"node2\" class=\"node\">\n",
       "<title>nd.common.Nwbfile</title>\n",
       "<g id=\"a_node2\"><a xlink:title=\"nwb_file_name        \r",
       "------------------------------\r",
       "nwb_file_abs_path    \r",
       "\">\n",
       "<polygon fill=\"#00ff00\" fill-opacity=\"0.188235\" stroke=\"#00ff00\" stroke-opacity=\"0.188235\" points=\"139.125,-106 17.125,-106 17.125,-71 139.125,-71 139.125,-106\"/>\n",
       "<text text-anchor=\"start\" x=\"25.125\" y=\"-86.4\" font-family=\"arial\" text-decoration=\"underline\" font-size=\"12.00\" fill=\"#006400\">nd.common.Nwbfile</text>\n",
       "</a>\n",
       "</g>\n",
       "</g>\n",
       "<!-- nd.common.Nwbfile&#45;&gt;nd.common.Session -->\n",
       "<g id=\"edge1\" class=\"edge\">\n",
       "<title>nd.common.Nwbfile-&gt;nd.common.Session</title>\n",
       "<path fill=\"none\" stroke=\"#000000\" stroke-width=\"2\" stroke-opacity=\"0.250980\" d=\"M78.125,-70.9494C78.125,-60.1083 78.125,-46.2366 78.125,-35.3418\"/>\n",
       "</g>\n",
       "</g>\n",
       "</svg>"
      ],
      "text/plain": [
       "<datajoint.diagram.Diagram at 0x7f9b5bc03cd0>"
      ]
     },
     "execution_count": 18,
     "metadata": {},
     "output_type": "execute_result"
    }
   ],
   "source": [
    "dj.Diagram(nd.common.Nwbfile()) + dj.Diagram(nd.common.Session())"
   ]
  },
  {
   "cell_type": "markdown",
   "metadata": {},
   "source": [
    "The solid line indicates that the Nwbfile is the primary key for Session, so each Session has exactly one Nwbfile associated with it.\n",
    "\n",
    "The session also contains references to other schema, including Subject(), Institution, etc. "
   ]
  },
  {
   "cell_type": "code",
   "execution_count": 19,
   "metadata": {},
   "outputs": [
    {
     "data": {
      "image/svg+xml": [
       "<svg xmlns=\"http://www.w3.org/2000/svg\" xmlns:xlink=\"http://www.w3.org/1999/xlink\" width=\"546pt\" height=\"114pt\" viewBox=\"0.00 0.00 545.50 114.00\">\n",
       "<g id=\"graph0\" class=\"graph\" transform=\"scale(1 1) rotate(0) translate(4 110)\">\n",
       "<title>%3</title>\n",
       "<polygon fill=\"#ffffff\" stroke=\"transparent\" points=\"-4,4 -4,-110 541.5,-110 541.5,4 -4,4\"/>\n",
       "<!-- nd.common.Subject -->\n",
       "<g id=\"node1\" class=\"node\">\n",
       "<title>nd.common.Subject</title>\n",
       "<g id=\"a_node1\"><a xlink:title=\"subject_id           \r",
       "------------------------------\r",
       "age                  \r",
       "description          \r",
       "genotype             \r",
       "sex                  \r",
       "species              \r",
       "\">\n",
       "<polygon fill=\"#00ff00\" fill-opacity=\"0.188235\" stroke=\"#00ff00\" stroke-opacity=\"0.188235\" points=\"123,-106 0,-106 0,-71 123,-71 123,-106\"/>\n",
       "<text text-anchor=\"start\" x=\"8\" y=\"-86.4\" font-family=\"arial\" text-decoration=\"underline\" font-size=\"12.00\" fill=\"#006400\">nd.common.Subject</text>\n",
       "</a>\n",
       "</g>\n",
       "</g>\n",
       "<!-- nd.common.Session -->\n",
       "<g id=\"node5\" class=\"node\">\n",
       "<title>nd.common.Session</title>\n",
       "<g id=\"a_node5\"><a xlink:title=\"→ nd.common.Nwbfile\r",
       "------------------------------\r",
       "→ nd.common.Subject\r",
       "→ nd.common.Institution\r",
       "→ nd.common.Lab\r",
       "session_id           \r",
       "session_description  \r",
       "session_start_time   \r",
       "timestamps_reference_time \r",
       "experiment_description \r",
       "\">\n",
       "<ellipse fill=\"#00007f\" fill-opacity=\"0.250980\" stroke=\"#00007f\" stroke-opacity=\"0.250980\" cx=\"276.5\" cy=\"-17.5\" rx=\"78.2502\" ry=\"17.5\"/>\n",
       "<text text-anchor=\"middle\" x=\"276.5\" y=\"-14.4\" font-family=\"arial\" font-size=\"12.00\" fill=\"#00007f\">nd.common.Session</text>\n",
       "</a>\n",
       "</g>\n",
       "</g>\n",
       "<!-- nd.common.Subject&#45;&gt;nd.common.Session -->\n",
       "<g id=\"edge1\" class=\"edge\">\n",
       "<title>nd.common.Subject-&gt;nd.common.Session</title>\n",
       "<path fill=\"none\" stroke=\"#000000\" stroke-width=\".75\" stroke-dasharray=\"5,2\" stroke-opacity=\"0.250980\" d=\"M114.6461,-70.9494C150.9565,-58.9585 198.4944,-43.26 232.6432,-31.9829\"/>\n",
       "</g>\n",
       "<!-- nd.common.Institution -->\n",
       "<g id=\"node2\" class=\"node\">\n",
       "<title>nd.common.Institution</title>\n",
       "<g id=\"a_node2\"><a xlink:title=\"institution_name     \r",
       "\">\n",
       "<polygon fill=\"#00ff00\" fill-opacity=\"0.188235\" stroke=\"#00ff00\" stroke-opacity=\"0.188235\" points=\"275.5,-106 141.5,-106 141.5,-71 275.5,-71 275.5,-106\"/>\n",
       "<text text-anchor=\"start\" x=\"149.5\" y=\"-86.4\" font-family=\"arial\" text-decoration=\"underline\" font-size=\"12.00\" fill=\"#006400\">nd.common.Institution</text>\n",
       "</a>\n",
       "</g>\n",
       "</g>\n",
       "<!-- nd.common.Institution&#45;&gt;nd.common.Session -->\n",
       "<g id=\"edge2\" class=\"edge\">\n",
       "<title>nd.common.Institution-&gt;nd.common.Session</title>\n",
       "<path fill=\"none\" stroke=\"#000000\" stroke-width=\".75\" stroke-dasharray=\"5,2\" stroke-opacity=\"0.250980\" d=\"M225.309,-70.9494C235.8493,-59.9441 249.3809,-45.8155 259.8844,-34.8487\"/>\n",
       "</g>\n",
       "<!-- nd.common.Lab -->\n",
       "<g id=\"node3\" class=\"node\">\n",
       "<title>nd.common.Lab</title>\n",
       "<g id=\"a_node3\"><a xlink:title=\"lab_name             \r",
       "\">\n",
       "<polygon fill=\"#00ff00\" fill-opacity=\"0.188235\" stroke=\"#00ff00\" stroke-opacity=\"0.188235\" points=\"397,-106 294,-106 294,-71 397,-71 397,-106\"/>\n",
       "<text text-anchor=\"start\" x=\"302\" y=\"-86.4\" font-family=\"arial\" text-decoration=\"underline\" font-size=\"12.00\" fill=\"#006400\">nd.common.Lab</text>\n",
       "</a>\n",
       "</g>\n",
       "</g>\n",
       "<!-- nd.common.Lab&#45;&gt;nd.common.Session -->\n",
       "<g id=\"edge3\" class=\"edge\">\n",
       "<title>nd.common.Lab-&gt;nd.common.Session</title>\n",
       "<path fill=\"none\" stroke=\"#000000\" stroke-width=\".75\" stroke-dasharray=\"5,2\" stroke-opacity=\"0.250980\" d=\"M328.4438,-70.9494C317.7485,-59.9441 304.0179,-45.8155 293.36,-34.8487\"/>\n",
       "</g>\n",
       "<!-- nd.common.Nwbfile -->\n",
       "<g id=\"node4\" class=\"node\">\n",
       "<title>nd.common.Nwbfile</title>\n",
       "<g id=\"a_node4\"><a xlink:title=\"nwb_file_name        \r",
       "------------------------------\r",
       "nwb_file_abs_path    \r",
       "\">\n",
       "<polygon fill=\"#00ff00\" fill-opacity=\"0.188235\" stroke=\"#00ff00\" stroke-opacity=\"0.188235\" points=\"537.5,-106 415.5,-106 415.5,-71 537.5,-71 537.5,-106\"/>\n",
       "<text text-anchor=\"start\" x=\"423.5\" y=\"-86.4\" font-family=\"arial\" text-decoration=\"underline\" font-size=\"12.00\" fill=\"#006400\">nd.common.Nwbfile</text>\n",
       "</a>\n",
       "</g>\n",
       "</g>\n",
       "<!-- nd.common.Nwbfile&#45;&gt;nd.common.Session -->\n",
       "<g id=\"edge4\" class=\"edge\">\n",
       "<title>nd.common.Nwbfile-&gt;nd.common.Session</title>\n",
       "<path fill=\"none\" stroke=\"#000000\" stroke-width=\"2\" stroke-opacity=\"0.250980\" d=\"M427.0618,-70.9494C393.6316,-59.0817 349.9709,-43.5822 318.28,-32.3319\"/>\n",
       "</g>\n",
       "</g>\n",
       "</svg>"
      ],
      "text/plain": [
       "<datajoint.diagram.Diagram at 0x7f9b5baf4850>"
      ]
     },
     "execution_count": 19,
     "metadata": {},
     "output_type": "execute_result"
    }
   ],
   "source": [
    "dj.Diagram(nd.common.Nwbfile()) + dj.Diagram(nd.common.Session()) + dj.Diagram(nd.common.Subject()) + dj.Diagram(nd.common.Institution()) + dj.Diagram(nd.common.Lab())"
   ]
  },
  {
   "cell_type": "code",
   "execution_count": 16,
   "metadata": {},
   "outputs": [
    {
     "data": {
      "text/html": [
       "\n",
       "        \n",
       "        <style type=\"text/css\">\n",
       "            .Relation{\n",
       "                border-collapse:collapse;\n",
       "            }\n",
       "            .Relation th{\n",
       "                background: #A0A0A0; color: #ffffff; padding:4px; border:#f0e0e0 1px solid;\n",
       "                font-weight: normal; font-family: monospace; font-size: 100%;\n",
       "            }\n",
       "            .Relation td{\n",
       "                padding:4px; border:#f0e0e0 1px solid; font-size:100%;\n",
       "            }\n",
       "            .Relation tr:nth-child(odd){\n",
       "                background: #ffffff;\n",
       "            }\n",
       "            .Relation tr:nth-child(even){\n",
       "                background: #f3f1ff;\n",
       "            }\n",
       "            /* Tooltip container */\n",
       "            .djtooltip {\n",
       "            }\n",
       "            /* Tooltip text */\n",
       "            .djtooltip .djtooltiptext {\n",
       "                visibility: hidden;\n",
       "                width: 120px;\n",
       "                background-color: black;\n",
       "                color: #fff;\n",
       "                text-align: center;\n",
       "                padding: 5px 0;\n",
       "                border-radius: 6px;\n",
       "                /* Position the tooltip text - see examples below! */\n",
       "                position: absolute;\n",
       "                z-index: 1;\n",
       "            }\n",
       "            #primary {\n",
       "                font-weight: bold;\n",
       "                color: black;\n",
       "            }\n",
       "\n",
       "            #nonprimary {\n",
       "                font-weight: normal;\n",
       "                color: white;\n",
       "            }\n",
       "\n",
       "            /* Show the tooltip text when you mouse over the tooltip container */\n",
       "            .djtooltip:hover .djtooltiptext {\n",
       "                visibility: visible;\n",
       "            }\n",
       "        </style>\n",
       "        \n",
       "        <b>Raw voltage timeseries data, electricalSeries in NWB</b>\n",
       "            <div style=\"max-height:1000px;max-width:1500px;overflow:auto;\">\n",
       "            <table border=\"1\" class=\"Relation\">\n",
       "                <thead> <tr style=\"text-align: right;\"> <th> <div class=\"djtooltip\">\n",
       "                                <p id=\"primary\">nwb_file_name</p>\n",
       "                                <span class=\"djtooltiptext\">the name of the NWB file</span>\n",
       "                            </div></th><th><div class=\"djtooltip\">\n",
       "                                <p id=\"nonprimary\">interval_list_name</p>\n",
       "                                <span class=\"djtooltiptext\">descriptive name of this interval list</span>\n",
       "                            </div></th><th><div class=\"djtooltip\">\n",
       "                                <p id=\"nonprimary\">raw_object_id</p>\n",
       "                                <span class=\"djtooltiptext\">the NWB object ID for loading this object from the file</span>\n",
       "                            </div></th><th><div class=\"djtooltip\">\n",
       "                                <p id=\"nonprimary\">sampling_rate</p>\n",
       "                                <span class=\"djtooltiptext\">Sampling rate calculated from data, in Hz</span>\n",
       "                            </div></th><th><div class=\"djtooltip\">\n",
       "                                <p id=\"nonprimary\">comments</p>\n",
       "                                <span class=\"djtooltiptext\"></span>\n",
       "                            </div></th><th><div class=\"djtooltip\">\n",
       "                                <p id=\"nonprimary\">description</p>\n",
       "                                <span class=\"djtooltiptext\"></span>\n",
       "                            </div> </th> </tr> </thead>\n",
       "                <tbody> <tr> <td>beans20190718.nwb</td>\n",
       "<td>raw data valid times</td>\n",
       "<td>16dddd7b-846a-4a57-a996-26d26ff45101</td>\n",
       "<td>20000.0</td>\n",
       "<td>sample comment</td>\n",
       "<td>Electrical series registered on electrode</td> </tr> </tbody>\n",
       "            </table>\n",
       "            \n",
       "            <p>Total: 1</p></div>\n",
       "            "
      ],
      "text/plain": [
       "*nwb_file_name interval_list_ raw_object_id  sampling_rate  comments       description   \n",
       "+------------+ +------------+ +------------+ +------------+ +------------+ +------------+\n",
       "beans20190718. raw data valid 16dddd7b-846a- 20000.0        sample comment Electrical ser\n",
       " (Total: 1)"
      ]
     },
     "execution_count": 16,
     "metadata": {},
     "output_type": "execute_result"
    }
   ],
   "source": [
    "nd.common.Raw()"
   ]
  },
  {
   "cell_type": "code",
   "execution_count": 11,
   "metadata": {},
   "outputs": [
    {
     "data": {
      "image/svg+xml": [
       "<svg xmlns=\"http://www.w3.org/2000/svg\" xmlns:xlink=\"http://www.w3.org/1999/xlink\" width=\"272pt\" height=\"256pt\" viewBox=\"0.00 0.00 271.50 256.00\">\n",
       "<g id=\"graph0\" class=\"graph\" transform=\"scale(1 1) rotate(0) translate(4 252)\">\n",
       "<title>%3</title>\n",
       "<polygon fill=\"#ffffff\" stroke=\"transparent\" points=\"-4,4 -4,-252 267.5,-252 267.5,4 -4,4\"/>\n",
       "<!-- nd.common.Subject -->\n",
       "<g id=\"node1\" class=\"node\">\n",
       "<title>nd.common.Subject</title>\n",
       "<g id=\"a_node1\"><a xlink:title=\"subject_id           \r",
       "------------------------------\r",
       "age                  \r",
       "description          \r",
       "genotype             \r",
       "sex                  \r",
       "species              \r",
       "\">\n",
       "<polygon fill=\"#00ff00\" fill-opacity=\"0.188235\" stroke=\"#00ff00\" stroke-opacity=\"0.188235\" points=\"123,-248 0,-248 0,-213 123,-213 123,-248\"/>\n",
       "<text text-anchor=\"start\" x=\"8\" y=\"-228.4\" font-family=\"arial\" text-decoration=\"underline\" font-size=\"12.00\" fill=\"#006400\">nd.common.Subject</text>\n",
       "</a>\n",
       "</g>\n",
       "</g>\n",
       "<!-- nd.common.Session -->\n",
       "<g id=\"node5\" class=\"node\">\n",
       "<title>nd.common.Session</title>\n",
       "<g id=\"a_node5\"><a xlink:title=\"→ nd.common.Nwbfile\r",
       "------------------------------\r",
       "→ nd.common.Subject\r",
       "→ nd.common.Institution\r",
       "→ nd.common.Lab\r",
       "session_id           \r",
       "session_description  \r",
       "session_start_time   \r",
       "timestamps_reference_time \r",
       "experiment_description \r",
       "\">\n",
       "<ellipse fill=\"#00007f\" fill-opacity=\"0.250980\" stroke=\"#00007f\" stroke-opacity=\"0.250980\" cx=\"131.5\" cy=\"-159.5\" rx=\"78.2502\" ry=\"17.5\"/>\n",
       "<text text-anchor=\"middle\" x=\"131.5\" y=\"-156.4\" font-family=\"arial\" font-size=\"12.00\" fill=\"#00007f\">nd.common.Session</text>\n",
       "</a>\n",
       "</g>\n",
       "</g>\n",
       "<!-- nd.common.Subject&#45;&gt;nd.common.Session -->\n",
       "<g id=\"edge1\" class=\"edge\">\n",
       "<title>nd.common.Subject-&gt;nd.common.Session</title>\n",
       "<path fill=\"none\" stroke=\"#000000\" stroke-width=\".75\" stroke-dasharray=\"5,2\" stroke-opacity=\"0.250980\" d=\"M78.8034,-212.9494C89.6537,-201.9441 103.5833,-187.8155 114.3957,-176.8487\"/>\n",
       "</g>\n",
       "<!-- nd.common.IntervalList -->\n",
       "<g id=\"node2\" class=\"node\">\n",
       "<title>nd.common.IntervalList</title>\n",
       "<g id=\"a_node2\"><a xlink:title=\"→ nd.common.Session\r",
       "interval_list_name   \r",
       "------------------------------\r",
       "valid_times          \r",
       "\">\n",
       "<polygon fill=\"#00ff00\" fill-opacity=\"0.188235\" stroke=\"#00ff00\" stroke-opacity=\"0.188235\" points=\"153,-106 12,-106 12,-71 153,-71 153,-106\"/>\n",
       "<text text-anchor=\"middle\" x=\"82.5\" y=\"-85.4\" font-family=\"arial\" font-size=\"12.00\" fill=\"#006400\">nd.common.IntervalList</text>\n",
       "</a>\n",
       "</g>\n",
       "</g>\n",
       "<!-- nd.common.Raw -->\n",
       "<g id=\"node3\" class=\"node\">\n",
       "<title>nd.common.Raw</title>\n",
       "<g id=\"a_node3\"><a xlink:title=\"→ nd.common.Session\r",
       "------------------------------\r",
       "→ nd.common.IntervalList\r",
       "raw_object_id        \r",
       "sampling_rate        \r",
       "comments             \r",
       "description          \r",
       "\">\n",
       "<ellipse fill=\"#00007f\" fill-opacity=\"0.250980\" stroke=\"#00007f\" stroke-opacity=\"0.250980\" cx=\"131.5\" cy=\"-17.5\" rx=\"66.7502\" ry=\"17.5\"/>\n",
       "<text text-anchor=\"middle\" x=\"131.5\" y=\"-14.4\" font-family=\"arial\" font-size=\"12.00\" fill=\"#00007f\">nd.common.Raw</text>\n",
       "</a>\n",
       "</g>\n",
       "</g>\n",
       "<!-- nd.common.IntervalList&#45;&gt;nd.common.Raw -->\n",
       "<g id=\"edge2\" class=\"edge\">\n",
       "<title>nd.common.IntervalList-&gt;nd.common.Raw</title>\n",
       "<path fill=\"none\" stroke=\"#000000\" stroke-width=\".75\" stroke-dasharray=\"5,2\" stroke-opacity=\"0.250980\" d=\"M94.6124,-70.9494C102.2076,-59.9441 111.9583,-45.8155 119.527,-34.8487\"/>\n",
       "</g>\n",
       "<!-- nd.common.Nwbfile -->\n",
       "<g id=\"node4\" class=\"node\">\n",
       "<title>nd.common.Nwbfile</title>\n",
       "<g id=\"a_node4\"><a xlink:title=\"nwb_file_name        \r",
       "------------------------------\r",
       "nwb_file_abs_path    \r",
       "\">\n",
       "<polygon fill=\"#00ff00\" fill-opacity=\"0.188235\" stroke=\"#00ff00\" stroke-opacity=\"0.188235\" points=\"263.5,-248 141.5,-248 141.5,-213 263.5,-213 263.5,-248\"/>\n",
       "<text text-anchor=\"start\" x=\"149.5\" y=\"-228.4\" font-family=\"arial\" text-decoration=\"underline\" font-size=\"12.00\" fill=\"#006400\">nd.common.Nwbfile</text>\n",
       "</a>\n",
       "</g>\n",
       "</g>\n",
       "<!-- nd.common.Nwbfile&#45;&gt;nd.common.Session -->\n",
       "<g id=\"edge3\" class=\"edge\">\n",
       "<title>nd.common.Nwbfile-&gt;nd.common.Session</title>\n",
       "<path fill=\"none\" stroke=\"#000000\" stroke-width=\"2\" stroke-opacity=\"0.250980\" d=\"M184.9494,-212.9494C173.9441,-201.9441 159.8155,-187.8155 148.8487,-176.8487\"/>\n",
       "</g>\n",
       "<!-- nd.common.Session&#45;&gt;nd.common.IntervalList -->\n",
       "<g id=\"edge4\" class=\"edge\">\n",
       "<title>nd.common.Session-&gt;nd.common.IntervalList</title>\n",
       "<path fill=\"none\" stroke=\"#000000\" stroke-width=\".75\" stroke-opacity=\"0.250980\" d=\"M119.3876,-141.9494C111.9058,-131.1083 102.3323,-117.2366 94.8134,-106.3418\"/>\n",
       "</g>\n",
       "<!-- nd.common.Session&#45;&gt;nd.common.Raw -->\n",
       "<g id=\"edge5\" class=\"edge\">\n",
       "<title>nd.common.Session-&gt;nd.common.Raw</title>\n",
       "<path fill=\"none\" stroke=\"#000000\" stroke-width=\"2\" stroke-opacity=\"0.250980\" d=\"M144.6471,-142.2283C151.4245,-132.2266 158.989,-119.0622 162.5,-106 166.5378,-90.9776 166.5378,-86.0224 162.5,-71 158.989,-57.9378 151.4245,-44.7734 144.6471,-34.7717\"/>\n",
       "</g>\n",
       "</g>\n",
       "</svg>"
      ],
      "text/plain": [
       "<datajoint.diagram.Diagram at 0x7f9b5afec790>"
      ]
     },
     "execution_count": 11,
     "metadata": {},
     "output_type": "execute_result"
    }
   ],
   "source": [
    "dj.Diagram(nd.common.Subject()) + dj.Diagram(nd.common.Session())+dj.Diagram(nd.common.Nwbfile())+dj.Diagram(nd.common.Raw())"
   ]
  },
  {
   "cell_type": "code",
   "execution_count": 10,
   "metadata": {},
   "outputs": [
    {
     "data": {
      "image/svg+xml": [
       "<svg xmlns=\"http://www.w3.org/2000/svg\" xmlns:xlink=\"http://www.w3.org/1999/xlink\" width=\"769pt\" height=\"256pt\" viewBox=\"0.00 0.00 768.50 256.00\">\n",
       "<g id=\"graph0\" class=\"graph\" transform=\"scale(1 1) rotate(0) translate(4 252)\">\n",
       "<title>%3</title>\n",
       "<polygon fill=\"#ffffff\" stroke=\"transparent\" points=\"-4,4 -4,-252 764.5,-252 764.5,4 -4,4\"/>\n",
       "<!-- nd.common.SortIntervalList -->\n",
       "<g id=\"node1\" class=\"node\">\n",
       "<title>nd.common.SortIntervalList</title>\n",
       "<g id=\"a_node1\"><a xlink:title=\"→ nd.common.Session\r",
       "sort_interval_list_name \r",
       "------------------------------\r",
       "sort_intervals       \r",
       "\">\n",
       "<polygon fill=\"#00ff00\" fill-opacity=\"0.188235\" stroke=\"#00ff00\" stroke-opacity=\"0.188235\" points=\"319.5,-106 156.5,-106 156.5,-71 319.5,-71 319.5,-106\"/>\n",
       "<text text-anchor=\"middle\" x=\"238\" y=\"-85.4\" font-family=\"arial\" font-size=\"12.00\" fill=\"#006400\">nd.common.SortIntervalList</text>\n",
       "</a>\n",
       "</g>\n",
       "</g>\n",
       "<!-- nd.common.SpikeSortingParameters -->\n",
       "<g id=\"node8\" class=\"node\">\n",
       "<title>nd.common.SpikeSortingParameters</title>\n",
       "<g id=\"a_node8\"><a xlink:title=\"→ nd.common.SortGroup\r",
       "→ nd.common.SpikeSorterParameters\r",
       "→ nd.common.SortIntervalList\r",
       "------------------------------\r",
       "→ nd.common.IntervalList\r",
       "\">\n",
       "<polygon fill=\"#00ff00\" fill-opacity=\"0.188235\" stroke=\"#00ff00\" stroke-opacity=\"0.188235\" points=\"344.5,-35 131.5,-35 131.5,0 344.5,0 344.5,-35\"/>\n",
       "<text text-anchor=\"middle\" x=\"238\" y=\"-14.4\" font-family=\"arial\" font-size=\"12.00\" fill=\"#006400\">nd.common.SpikeSortingParameters</text>\n",
       "</a>\n",
       "</g>\n",
       "</g>\n",
       "<!-- nd.common.SortIntervalList&#45;&gt;nd.common.SpikeSortingParameters -->\n",
       "<g id=\"edge1\" class=\"edge\">\n",
       "<title>nd.common.SortIntervalList-&gt;nd.common.SpikeSortingParameters</title>\n",
       "<path fill=\"none\" stroke=\"#000000\" stroke-width=\".75\" stroke-opacity=\"0.250980\" d=\"M238,-70.9494C238,-60.1083 238,-46.2366 238,-35.3418\"/>\n",
       "</g>\n",
       "<!-- nd.common.SortGroup -->\n",
       "<g id=\"node2\" class=\"node\">\n",
       "<title>nd.common.SortGroup</title>\n",
       "<g id=\"a_node2\"><a xlink:title=\"→ nd.common.Session\r",
       "sort_group_id        \r",
       "------------------------------\r",
       "sort_reference_electrode_id=-1 \r",
       "\">\n",
       "<polygon fill=\"#00ff00\" fill-opacity=\"0.188235\" stroke=\"#00ff00\" stroke-opacity=\"0.188235\" points=\"138,-106 0,-106 0,-71 138,-71 138,-106\"/>\n",
       "<text text-anchor=\"middle\" x=\"69\" y=\"-85.4\" font-family=\"arial\" font-size=\"12.00\" fill=\"#006400\">nd.common.SortGroup</text>\n",
       "</a>\n",
       "</g>\n",
       "</g>\n",
       "<!-- nd.common.SortGroup&#45;&gt;nd.common.SpikeSortingParameters -->\n",
       "<g id=\"edge2\" class=\"edge\">\n",
       "<title>nd.common.SortGroup-&gt;nd.common.SpikeSortingParameters</title>\n",
       "<path fill=\"none\" stroke=\"#000000\" stroke-width=\".75\" stroke-opacity=\"0.250980\" d=\"M110.7753,-70.9494C136.7756,-60.0262 170.0995,-46.0262 196.1196,-35.0947\"/>\n",
       "</g>\n",
       "<!-- nd.common.LFP -->\n",
       "<g id=\"node3\" class=\"node\">\n",
       "<title>nd.common.LFP</title>\n",
       "<g id=\"a_node3\"><a xlink:title=\"→ nd.common.LFPSelection\r",
       "------------------------------\r",
       "→ nd.common.IntervalList\r",
       "→ nd.common.FirFilter\r",
       "→ nd.common.AnalysisNwbfile\r",
       "lfp_object_id        \r",
       "lfp_sampling_rate    \r",
       "\">\n",
       "<ellipse fill=\"#00007f\" fill-opacity=\"0.250980\" stroke=\"#00007f\" stroke-opacity=\"0.250980\" cx=\"612\" cy=\"-17.5\" rx=\"65.7502\" ry=\"17.5\"/>\n",
       "<text text-anchor=\"middle\" x=\"612\" y=\"-14.4\" font-family=\"arial\" font-size=\"12.00\" fill=\"#00007f\">nd.common.LFP</text>\n",
       "</a>\n",
       "</g>\n",
       "</g>\n",
       "<!-- nd.common.IntervalList -->\n",
       "<g id=\"node4\" class=\"node\">\n",
       "<title>nd.common.IntervalList</title>\n",
       "<g id=\"a_node4\"><a xlink:title=\"→ nd.common.Session\r",
       "interval_list_name   \r",
       "------------------------------\r",
       "valid_times          \r",
       "\">\n",
       "<polygon fill=\"#00ff00\" fill-opacity=\"0.188235\" stroke=\"#00ff00\" stroke-opacity=\"0.188235\" points=\"478.5,-106 337.5,-106 337.5,-71 478.5,-71 478.5,-106\"/>\n",
       "<text text-anchor=\"middle\" x=\"408\" y=\"-85.4\" font-family=\"arial\" font-size=\"12.00\" fill=\"#006400\">nd.common.IntervalList</text>\n",
       "</a>\n",
       "</g>\n",
       "</g>\n",
       "<!-- nd.common.IntervalList&#45;&gt;nd.common.LFP -->\n",
       "<g id=\"edge3\" class=\"edge\">\n",
       "<title>nd.common.IntervalList-&gt;nd.common.LFP</title>\n",
       "<path fill=\"none\" stroke=\"#000000\" stroke-width=\".75\" stroke-dasharray=\"5,2\" stroke-opacity=\"0.250980\" d=\"M458.427,-70.9494C493.4696,-58.7532 539.5332,-42.7213 572.0402,-31.4076\"/>\n",
       "</g>\n",
       "<!-- nd.common.Raw -->\n",
       "<g id=\"node6\" class=\"node\">\n",
       "<title>nd.common.Raw</title>\n",
       "<g id=\"a_node6\"><a xlink:title=\"→ nd.common.Session\r",
       "------------------------------\r",
       "→ nd.common.IntervalList\r",
       "raw_object_id        \r",
       "sampling_rate        \r",
       "comments             \r",
       "description          \r",
       "\">\n",
       "<ellipse fill=\"#00007f\" fill-opacity=\"0.250980\" stroke=\"#00007f\" stroke-opacity=\"0.250980\" cx=\"445\" cy=\"-17.5\" rx=\"66.7502\" ry=\"17.5\"/>\n",
       "<text text-anchor=\"middle\" x=\"445\" y=\"-14.4\" font-family=\"arial\" font-size=\"12.00\" fill=\"#00007f\">nd.common.Raw</text>\n",
       "</a>\n",
       "</g>\n",
       "</g>\n",
       "<!-- nd.common.IntervalList&#45;&gt;nd.common.Raw -->\n",
       "<g id=\"edge4\" class=\"edge\">\n",
       "<title>nd.common.IntervalList-&gt;nd.common.Raw</title>\n",
       "<path fill=\"none\" stroke=\"#000000\" stroke-width=\".75\" stroke-dasharray=\"5,2\" stroke-opacity=\"0.250980\" d=\"M417.1461,-70.9494C422.8812,-59.9441 430.244,-45.8155 435.9591,-34.8487\"/>\n",
       "</g>\n",
       "<!-- nd.common.IntervalList&#45;&gt;nd.common.SpikeSortingParameters -->\n",
       "<g id=\"edge5\" class=\"edge\">\n",
       "<title>nd.common.IntervalList-&gt;nd.common.SpikeSortingParameters</title>\n",
       "<path fill=\"none\" stroke=\"#000000\" stroke-width=\".75\" stroke-dasharray=\"5,2\" stroke-opacity=\"0.250980\" d=\"M365.9775,-70.9494C339.8233,-60.0262 306.3022,-46.0262 280.1282,-35.0947\"/>\n",
       "</g>\n",
       "<!-- nd.common.AnalysisNwbfile -->\n",
       "<g id=\"node5\" class=\"node\">\n",
       "<title>nd.common.AnalysisNwbfile</title>\n",
       "<g id=\"a_node5\"><a xlink:title=\"analysis_file_name   \r",
       "------------------------------\r",
       "→ nd.common.Nwbfile\r",
       "analysis_file_abs_path \r",
       "analysis_file_description=&quot;&quot; \r",
       "analysis_parameters=null \r",
       "\">\n",
       "<polygon fill=\"#00ff00\" fill-opacity=\"0.188235\" stroke=\"#00ff00\" stroke-opacity=\"0.188235\" points=\"760.5,-177 593.5,-177 593.5,-142 760.5,-142 760.5,-177\"/>\n",
       "<text text-anchor=\"middle\" x=\"677\" y=\"-156.4\" font-family=\"arial\" font-size=\"12.00\" fill=\"#006400\">nd.common.AnalysisNwbfile</text>\n",
       "</a>\n",
       "</g>\n",
       "</g>\n",
       "<!-- nd.common.AnalysisNwbfile&#45;&gt;nd.common.LFP -->\n",
       "<g id=\"edge6\" class=\"edge\">\n",
       "<title>nd.common.AnalysisNwbfile-&gt;nd.common.LFP</title>\n",
       "<path fill=\"none\" stroke=\"#000000\" stroke-width=\".75\" stroke-dasharray=\"5,2\" stroke-opacity=\"0.250980\" d=\"M688.2502,-141.8553C698.5694,-123.2265 710.5013,-93.4999 698,-71 687.9226,-52.8626 668.8634,-40.0788 651.2437,-31.5669\"/>\n",
       "</g>\n",
       "<!-- nd.common.Nwbfile -->\n",
       "<g id=\"node7\" class=\"node\">\n",
       "<title>nd.common.Nwbfile</title>\n",
       "<g id=\"a_node7\"><a xlink:title=\"nwb_file_name        \r",
       "------------------------------\r",
       "nwb_file_abs_path    \r",
       "\">\n",
       "<polygon fill=\"#00ff00\" fill-opacity=\"0.188235\" stroke=\"#00ff00\" stroke-opacity=\"0.188235\" points=\"608,-248 486,-248 486,-213 608,-213 608,-248\"/>\n",
       "<text text-anchor=\"start\" x=\"494\" y=\"-228.4\" font-family=\"arial\" text-decoration=\"underline\" font-size=\"12.00\" fill=\"#006400\">nd.common.Nwbfile</text>\n",
       "</a>\n",
       "</g>\n",
       "</g>\n",
       "<!-- nd.common.Nwbfile&#45;&gt;nd.common.AnalysisNwbfile -->\n",
       "<g id=\"edge7\" class=\"edge\">\n",
       "<title>nd.common.Nwbfile-&gt;nd.common.AnalysisNwbfile</title>\n",
       "<path fill=\"none\" stroke=\"#000000\" stroke-width=\".75\" stroke-dasharray=\"5,2\" stroke-opacity=\"0.250980\" d=\"M579.1348,-212.9494C599.1351,-202.0262 624.7689,-188.0262 644.7843,-177.0947\"/>\n",
       "</g>\n",
       "<!-- nd.common.Session -->\n",
       "<g id=\"node9\" class=\"node\">\n",
       "<title>nd.common.Session</title>\n",
       "<g id=\"a_node9\"><a xlink:title=\"→ nd.common.Nwbfile\r",
       "------------------------------\r",
       "→ nd.common.Subject\r",
       "→ nd.common.Institution\r",
       "→ nd.common.Lab\r",
       "session_id           \r",
       "session_description  \r",
       "session_start_time   \r",
       "timestamps_reference_time \r",
       "experiment_description \r",
       "\">\n",
       "<ellipse fill=\"#00007f\" fill-opacity=\"0.250980\" stroke=\"#00007f\" stroke-opacity=\"0.250980\" cx=\"457\" cy=\"-159.5\" rx=\"78.2502\" ry=\"17.5\"/>\n",
       "<text text-anchor=\"middle\" x=\"457\" y=\"-156.4\" font-family=\"arial\" font-size=\"12.00\" fill=\"#00007f\">nd.common.Session</text>\n",
       "</a>\n",
       "</g>\n",
       "</g>\n",
       "<!-- nd.common.Nwbfile&#45;&gt;nd.common.Session -->\n",
       "<g id=\"edge8\" class=\"edge\">\n",
       "<title>nd.common.Nwbfile-&gt;nd.common.Session</title>\n",
       "<path fill=\"none\" stroke=\"#000000\" stroke-width=\"2\" stroke-opacity=\"0.250980\" d=\"M524.7528,-212.9494C510.5942,-201.7798 492.3574,-187.3931 478.3715,-176.3598\"/>\n",
       "</g>\n",
       "<!-- nd.common.Session&#45;&gt;nd.common.SortIntervalList -->\n",
       "<g id=\"edge9\" class=\"edge\">\n",
       "<title>nd.common.Session-&gt;nd.common.SortIntervalList</title>\n",
       "<path fill=\"none\" stroke=\"#000000\" stroke-width=\".75\" stroke-opacity=\"0.250980\" d=\"M412.4181,-145.0465C377.6505,-133.7748 329.2173,-118.0727 292.2084,-106.0744\"/>\n",
       "</g>\n",
       "<!-- nd.common.Session&#45;&gt;nd.common.SortGroup -->\n",
       "<g id=\"edge10\" class=\"edge\">\n",
       "<title>nd.common.Session-&gt;nd.common.SortGroup</title>\n",
       "<path fill=\"none\" stroke=\"#000000\" stroke-width=\".75\" stroke-opacity=\"0.250980\" d=\"M393.0044,-149.4109C330.201,-139.2848 231.7769,-122.8148 147,-106 144.1412,-105.433 141.2266,-104.8412 138.2846,-104.2326\"/>\n",
       "</g>\n",
       "<!-- nd.common.Session&#45;&gt;nd.common.IntervalList -->\n",
       "<g id=\"edge11\" class=\"edge\">\n",
       "<title>nd.common.Session-&gt;nd.common.IntervalList</title>\n",
       "<path fill=\"none\" stroke=\"#000000\" stroke-width=\".75\" stroke-opacity=\"0.250980\" d=\"M444.8876,-141.9494C437.4058,-131.1083 427.8323,-117.2366 420.3134,-106.3418\"/>\n",
       "</g>\n",
       "<!-- nd.common.Session&#45;&gt;nd.common.Raw -->\n",
       "<g id=\"edge12\" class=\"edge\">\n",
       "<title>nd.common.Session-&gt;nd.common.Raw</title>\n",
       "<path fill=\"none\" stroke=\"#000000\" stroke-width=\"2\" stroke-opacity=\"0.250980\" d=\"M469.7279,-142.1661C476.2882,-132.145 483.6086,-118.9818 487,-106 490.9318,-90.9495 492.0815,-85.7022 487,-71 482.2168,-57.1609 472.2133,-44.1763 463.1689,-34.4653\"/>\n",
       "</g>\n",
       "<!-- nd.common.LFPSelection -->\n",
       "<g id=\"node10\" class=\"node\">\n",
       "<title>nd.common.LFPSelection</title>\n",
       "<g id=\"a_node10\"><a xlink:title=\"→ nd.common.Session\r",
       "\">\n",
       "<polygon fill=\"#00ff00\" fill-opacity=\"0.188235\" stroke=\"#00ff00\" stroke-opacity=\"0.188235\" points=\"689,-106 535,-106 535,-71 689,-71 689,-106\"/>\n",
       "<text text-anchor=\"middle\" x=\"612\" y=\"-85.4\" font-family=\"arial\" font-size=\"12.00\" fill=\"#006400\">nd.common.LFPSelection</text>\n",
       "</a>\n",
       "</g>\n",
       "</g>\n",
       "<!-- nd.common.Session&#45;&gt;nd.common.LFPSelection -->\n",
       "<g id=\"edge13\" class=\"edge\">\n",
       "<title>nd.common.Session-&gt;nd.common.LFPSelection</title>\n",
       "<path fill=\"none\" stroke=\"#000000\" stroke-width=\"2\" stroke-opacity=\"0.250980\" d=\"M491.3995,-143.7428C515.7478,-132.5897 548.4184,-117.6245 573.6139,-106.0833\"/>\n",
       "</g>\n",
       "<!-- nd.common.LFPSelection&#45;&gt;nd.common.LFP -->\n",
       "<g id=\"edge14\" class=\"edge\">\n",
       "<title>nd.common.LFPSelection-&gt;nd.common.LFP</title>\n",
       "<path fill=\"none\" stroke=\"#000000\" stroke-width=\"2\" stroke-opacity=\"0.250980\" d=\"M612,-70.9494C612,-60.1083 612,-46.2366 612,-35.3418\"/>\n",
       "</g>\n",
       "</g>\n",
       "</svg>"
      ],
      "text/plain": [
       "<datajoint.diagram.Diagram at 0x7f9b5b92c880>"
      ]
     },
     "execution_count": 10,
     "metadata": {},
     "output_type": "execute_result"
    }
   ],
   "source": [
    "dj.Diagram(nd.common.Session())+dj.Diagram(nd.common.Nwbfile())+dj.Diagram(nd.common.Raw())+dj.Diagram(nd.common.LFP())+dj.Diagram(nd.common.SpikeSortingParameters())"
   ]
  },
  {
   "cell_type": "code",
   "execution_count": 5,
   "metadata": {
    "jupyter": {
     "source_hidden": true
    }
   },
   "outputs": [
    {
     "name": "stdout",
     "output_type": "stream",
     "text": [
      "[[1.56348899e+09 1.56349008e+09]\n",
      " [1.56349063e+09 1.56349084e+09]\n",
      " [1.56349084e+09 1.56349340e+09]\n",
      " [1.56349367e+09 1.56349502e+09]\n",
      " [1.56349543e+09 1.56349711e+09]]\n"
     ]
    },
    {
     "name": "stderr",
     "output_type": "stream",
     "text": [
      "/Users/loren/opt/anaconda3/envs/nwbdj/lib/python3.8/site-packages/ipykernel/ipkernel.py:287: DeprecationWarning: `should_run_async` will not call `transform_cell` automatically in the future. Please pass the result to `transformed_cell` argument and any exception that happen during thetransform in `preprocessing_exc_tuple` in IPython 7.17 and above.\n",
      "  and should_run_async(code)\n"
     ]
    }
   ],
   "source": [
    "a = (nd.common.IntervalList() & {'interval_list_name' : 'raw data valid times'}).fetch1('valid_times')\n",
    "print(a)\n"
   ]
  },
  {
   "cell_type": "code",
   "execution_count": 9,
   "metadata": {},
   "outputs": [
    {
     "name": "stderr",
     "output_type": "stream",
     "text": [
      "/Users/loren/opt/anaconda3/envs/nwbdj/lib/python3.8/site-packages/ipykernel/ipkernel.py:287: DeprecationWarning: `should_run_async` will not call `transform_cell` automatically in the future. Please pass the result to `transformed_cell` argument and any exception that happen during thetransform in `preprocessing_exc_tuple` in IPython 7.17 and above.\n",
      "  and should_run_async(code)\n"
     ]
    },
    {
     "data": {
      "text/html": [
       "\n",
       "        \n",
       "        <style type=\"text/css\">\n",
       "            .Relation{\n",
       "                border-collapse:collapse;\n",
       "            }\n",
       "            .Relation th{\n",
       "                background: #A0A0A0; color: #ffffff; padding:4px; border:#f0e0e0 1px solid;\n",
       "                font-weight: normal; font-family: monospace; font-size: 100%;\n",
       "            }\n",
       "            .Relation td{\n",
       "                padding:4px; border:#f0e0e0 1px solid; font-size:100%;\n",
       "            }\n",
       "            .Relation tr:nth-child(odd){\n",
       "                background: #ffffff;\n",
       "            }\n",
       "            .Relation tr:nth-child(even){\n",
       "                background: #f3f1ff;\n",
       "            }\n",
       "            /* Tooltip container */\n",
       "            .djtooltip {\n",
       "            }\n",
       "            /* Tooltip text */\n",
       "            .djtooltip .djtooltiptext {\n",
       "                visibility: hidden;\n",
       "                width: 120px;\n",
       "                background-color: black;\n",
       "                color: #fff;\n",
       "                text-align: center;\n",
       "                padding: 5px 0;\n",
       "                border-radius: 6px;\n",
       "                /* Position the tooltip text - see examples below! */\n",
       "                position: absolute;\n",
       "                z-index: 1;\n",
       "            }\n",
       "            #primary {\n",
       "                font-weight: bold;\n",
       "                color: black;\n",
       "            }\n",
       "\n",
       "            #nonprimary {\n",
       "                font-weight: normal;\n",
       "                color: white;\n",
       "            }\n",
       "\n",
       "            /* Show the tooltip text when you mouse over the tooltip container */\n",
       "            .djtooltip:hover .djtooltiptext {\n",
       "                visibility: visible;\n",
       "            }\n",
       "        </style>\n",
       "        \n",
       "        <b></b>\n",
       "            <div style=\"max-height:1000px;max-width:1500px;overflow:auto;\">\n",
       "            <table border=\"1\" class=\"Relation\">\n",
       "                <thead> <tr style=\"text-align: right;\"> <th> <div class=\"djtooltip\">\n",
       "                                <p id=\"primary\">nwb_file_name</p>\n",
       "                                <span class=\"djtooltiptext\">the name of the NWB file</span>\n",
       "                            </div></th><th><div class=\"djtooltip\">\n",
       "                                <p id=\"primary\">epoch</p>\n",
       "                                <span class=\"djtooltiptext\">the session epoch for this task and apparatus(1 based)</span>\n",
       "                            </div></th><th><div class=\"djtooltip\">\n",
       "                                <p id=\"primary\">video_file_num</p>\n",
       "                                <span class=\"djtooltiptext\"></span>\n",
       "                            </div></th><th><div class=\"djtooltip\">\n",
       "                                <p id=\"nonprimary\">video_file_object_id</p>\n",
       "                                <span class=\"djtooltiptext\">the object id of the file object</span>\n",
       "                            </div> </th> </tr> </thead>\n",
       "                <tbody> <tr>  </tr> </tbody>\n",
       "            </table>\n",
       "            \n",
       "            <p>Total: 0</p></div>\n",
       "            "
      ],
      "text/plain": [
       "*nwb_file_name *epoch    *video_file_nu video_file_obj\n",
       "+------------+ +-------+ +------------+ +------------+\n",
       "\n",
       " (Total: 0)"
      ]
     },
     "execution_count": 9,
     "metadata": {},
     "output_type": "execute_result"
    }
   ],
   "source": [
    "nd.common.VideoFile()"
   ]
  },
  {
   "cell_type": "code",
   "execution_count": 16,
   "metadata": {},
   "outputs": [],
   "source": [
    "data = (nd.common.Raw() & {'nwb_file_name' : 'beans20190718.nwb'}).fetch_nwb()"
   ]
  },
  {
   "cell_type": "code",
   "execution_count": 17,
   "metadata": {},
   "outputs": [
    {
     "data": {
      "text/plain": [
       "[{'nwb_file_name': 'beans20190718.nwb',\n",
       "  'interval_list_name': 'raw data valid times',\n",
       "  'raw_object_id': '83660030-6339-43ee-8bc8-69e81d4905f4',\n",
       "  'sampling_rate': 20000.0,\n",
       "  'comments': 'sample comment',\n",
       "  'description': 'Electrical series registered on electrode',\n",
       "  'raw': e-series pynwb.ecephys.ElectricalSeries at 0x140416502675728\n",
       "  Fields:\n",
       "    comments: sample comment\n",
       "    conversion: 1.0\n",
       "    data: <HDF5 dataset \"data\": shape (138007758, 256), type \"<i2\">\n",
       "    description: Electrical series registered on electrode\n",
       "    electrodes: electrodes <class 'hdmf.common.table.DynamicTableRegion'>\n",
       "    interval: 1\n",
       "    resolution: -1.0\n",
       "    timestamps: <HDF5 dataset \"timestamps\": shape (138007758,), type \"<f8\">\n",
       "    timestamps_unit: seconds\n",
       "    unit: volts}]"
      ]
     },
     "execution_count": 17,
     "metadata": {},
     "output_type": "execute_result"
    }
   ],
   "source": [
    "data"
   ]
  },
  {
   "cell_type": "code",
   "execution_count": 5,
   "metadata": {
    "collapsed": true,
    "jupyter": {
     "outputs_hidden": true,
     "source_hidden": true
    }
   },
   "outputs": [
    {
     "name": "stderr",
     "output_type": "stream",
     "text": [
      "[autoreload of nwb_datajoint.common.common_ephys failed: Traceback (most recent call last):\n",
      "  File \"/Users/loren/opt/anaconda3/envs/nwb_datajoint/lib/python3.7/site-packages/datajoint/declare.py\", line 142, in compile_foreign_key\n",
      "    ref = eval(result.ref_table, context)\n",
      "  File \"<string>\", line 1\n",
      "    units_object_id: varchar(40) # the object ID for the units for this sort group\n",
      "                   ^\n",
      "SyntaxError: invalid syntax\n",
      "\n",
      "During handling of the above exception, another exception occurred:\n",
      "\n",
      "Traceback (most recent call last):\n",
      "  File \"/Users/loren/opt/anaconda3/envs/nwb_datajoint/lib/python3.7/site-packages/IPython/extensions/autoreload.py\", line 245, in check\n",
      "    superreload(m, reload, self.old_objects)\n",
      "  File \"/Users/loren/opt/anaconda3/envs/nwb_datajoint/lib/python3.7/site-packages/IPython/extensions/autoreload.py\", line 394, in superreload\n",
      "    module = reload(module)\n",
      "  File \"/Users/loren/opt/anaconda3/envs/nwb_datajoint/lib/python3.7/imp.py\", line 314, in reload\n",
      "    return importlib.reload(module)\n",
      "  File \"/Users/loren/opt/anaconda3/envs/nwb_datajoint/lib/python3.7/importlib/__init__.py\", line 169, in reload\n",
      "    _bootstrap._exec(spec, module)\n",
      "  File \"<frozen importlib._bootstrap>\", line 630, in _exec\n",
      "  File \"<frozen importlib._bootstrap_external>\", line 728, in exec_module\n",
      "  File \"<frozen importlib._bootstrap>\", line 219, in _call_with_frames_removed\n",
      "  File \"/Users/loren/Src/NWB/nwb_datajoint/nwb_datajoint/common/common_ephys.py\", line 358, in <module>\n",
      "    class SpikeSorting(dj.Computed):\n",
      "  File \"/Users/loren/opt/anaconda3/envs/nwb_datajoint/lib/python3.7/site-packages/datajoint/schemas.py\", line 228, in __call__\n",
      "    context, master=cls, self=part, **{cls.__name__: cls}))\n",
      "  File \"/Users/loren/opt/anaconda3/envs/nwb_datajoint/lib/python3.7/site-packages/datajoint/schemas.py\", line 191, in process_table_class\n",
      "    instance.declare(context)\n",
      "datajoint.errors.DataJointError: Foreign key reference units_object_id: varchar(40) # the object ID for the units for this sort group could not be resolved\n",
      "]\n"
     ]
    },
    {
     "name": "stdout",
     "output_type": "stream",
     "text": [
      "`common_ephys`.`__spike_sorting` (0 tuples)\n"
     ]
    },
    {
     "name": "stdin",
     "output_type": "stream",
     "text": [
      "Proceed? [yes, No]:  yes\n"
     ]
    },
    {
     "name": "stdout",
     "output_type": "stream",
     "text": [
      "Tables dropped.  Restart kernel.\n"
     ]
    }
   ],
   "source": [
    "nd.common.SpikeSorting().drop()"
   ]
  },
  {
   "cell_type": "code",
   "execution_count": 8,
   "metadata": {
    "collapsed": true,
    "jupyter": {
     "outputs_hidden": true,
     "source_hidden": true
    },
    "tags": []
   },
   "outputs": [
    {
     "name": "stdout",
     "output_type": "stream",
     "text": [
      "About to delete:\n",
      "`common_ephys`.`l_f_p_selection__l_f_p_electrode`: 16 items\n",
      "`common_ephys`.`sort_group__sort_group_electrode`: 256 items\n",
      "`common_ephys`.`_electrode`: 256 items\n",
      "`common_ephys`.`_electrode_group`: 2 items\n",
      "`common_ephys`.`l_f_p_selection`: 1 items\n",
      "`common_ephys`.`__spike_sorting`: 1 items\n",
      "`common_ephys`.`spike_sorting_parameters`: 1 items\n",
      "`common_ephys`.`sort_group`: 8 items\n",
      "`common_behav`.`_raw_position`: 1 items\n",
      "`common_dio`.`_d_i_o_events`: 19 items\n",
      "`common_ephys`.`_raw`: 1 items\n",
      "`common_sensors`.`_sensor_data`: 1 items\n",
      "`common_task`.`_task_epoch`: 4 items\n",
      "`common_interval`.`interval_list`: 9 items\n",
      "`common_interval`.`sort_interval_list`: 1 items\n",
      "`common_session`.`_experimenter_list__experimenter`: 1 items\n",
      "`common_session`.`_experimenter_list`: 1 items\n",
      "`common_session`.`_session`: 1 items\n"
     ]
    },
    {
     "name": "stdin",
     "output_type": "stream",
     "text": [
      "Proceed? [yes, No]:  yes\n"
     ]
    },
    {
     "name": "stdout",
     "output_type": "stream",
     "text": [
      "Committed.\n",
      "`common_lab`.`nwbfile` (1 tuples)\n",
      "`common_session`.`_session` (0 tuples)\n",
      "`common_session`.`_experimenter_list` (0 tuples)\n",
      "`common_session`.`_experimenter_list__experimenter` (0 tuples)\n",
      "`common_interval`.`sort_interval_list` (0 tuples)\n",
      "`common_interval`.`interval_list` (0 tuples)\n",
      "`common_task`.`_task_epoch` (0 tuples)\n",
      "`common_sensors`.`_sensor_data` (0 tuples)\n",
      "`common_ephys`.`_raw` (0 tuples)\n",
      "`common_dio`.`_d_i_o_events` (0 tuples)\n",
      "`common_behav`.`_speed` (0 tuples)\n",
      "`common_behav`.`_raw_position` (0 tuples)\n",
      "`common_behav`.`_lin_pos` (0 tuples)\n",
      "`common_behav`.`_head_dir` (0 tuples)\n",
      "`common_ephys`.`sort_group` (0 tuples)\n",
      "`common_ephys`.`spike_sorting_parameters` (0 tuples)\n",
      "`common_ephys`.`l_f_p_selection` (0 tuples)\n",
      "`common_ephys`.`_electrode_group` (0 tuples)\n",
      "`common_ephys`.`_electrode` (0 tuples)\n",
      "`common_ephys`.`sort_group__sort_group_electrode` (0 tuples)\n",
      "`common_ephys`.`l_f_p_selection__l_f_p_electrode` (0 tuples)\n",
      "`common_lab`.`analysis_nwbfile` (1 tuples)\n",
      "`common_ephys`.`_l_f_p` (0 tuples)\n",
      "`common_ephys`.`l_f_p_band_selection` (0 tuples)\n",
      "`common_ephys`.`l_f_p_band_selection__l_f_p_band_electrode` (0 tuples)\n",
      "`common_ephys`.`__l_f_p_band` (0 tuples)\n",
      "`common_ephys`.`__spike_sorting` (0 tuples)\n"
     ]
    },
    {
     "name": "stdin",
     "output_type": "stream",
     "text": [
      "Proceed? [yes, No]:  no\n"
     ]
    }
   ],
   "source": [
    "nd.common.Session().delete()\n",
    "nd.common.Nwbfile().drop()"
   ]
  },
  {
   "cell_type": "code",
   "execution_count": 5,
   "metadata": {},
   "outputs": [
    {
     "name": "stderr",
     "output_type": "stream",
     "text": [
      "/Users/loren/opt/anaconda3/envs/nwbdj/lib/python3.8/site-packages/ipykernel/ipkernel.py:287: DeprecationWarning: `should_run_async` will not call `transform_cell` automatically in the future. Please pass the result to `transformed_cell` argument and any exception that happen during thetransform in `preprocessing_exc_tuple` in IPython 7.17 and above.\n",
      "  and should_run_async(code)\n"
     ]
    },
    {
     "name": "stdout",
     "output_type": "stream",
     "text": [
      "About to delete:\n",
      "`common_lab`.`__nwbfile_kachery`: 1 items\n",
      "`common_ephys`.`sort_group__sort_group_electrode`: 192 items\n",
      "`common_ephys`.`_electrode`: 192 items\n",
      "`common_ephys`.`_electrode_group`: 2 items\n",
      "`common_ephys`.`spike_sorting_parameters`: 2 items\n",
      "`common_ephys`.`sort_group`: 8 items\n",
      "`common_behav`.`_raw_position`: 1 items\n",
      "`common_dio`.`_d_i_o_events`: 19 items\n",
      "`common_ephys`.`_raw`: 1 items\n",
      "`common_sensors`.`_sensor_data`: 1 items\n",
      "`common_task`.`_task_epoch`: 4 items\n",
      "`common_interval`.`interval_list`: 9 items\n",
      "`common_interval`.`sort_interval_list`: 1 items\n",
      "`common_session`.`_experimenter_list__experimenter`: 1 items\n",
      "`common_session`.`_experimenter_list`: 1 items\n",
      "`common_session`.`_session`: 1 items\n",
      "`common_lab`.`nwbfile`: 1 items\n"
     ]
    },
    {
     "name": "stdin",
     "output_type": "stream",
     "text": [
      "Proceed? [yes, No]:  yes\n"
     ]
    },
    {
     "name": "stdout",
     "output_type": "stream",
     "text": [
      "Committed.\n"
     ]
    }
   ],
   "source": [
    "nd.common.Nwbfile().delete()"
   ]
  },
  {
   "cell_type": "code",
   "execution_count": 5,
   "metadata": {},
   "outputs": [
    {
     "data": {
      "text/plain": [
       "'raw data valid times'"
      ]
     },
     "execution_count": 5,
     "metadata": {},
     "output_type": "execute_result"
    }
   ],
   "source": [
    "(nd.common.Raw() & {'nwb_file_name' : 'beans20190718.nwb'}).fetch1('interval_list_name')"
   ]
  },
  {
   "cell_type": "code",
   "execution_count": 6,
   "metadata": {},
   "outputs": [
    {
     "name": "stderr",
     "output_type": "stream",
     "text": [
      "/Users/loren/opt/anaconda3/envs/nwb_datajoint/lib/python3.8/site-packages/ipykernel/ipkernel.py:287: DeprecationWarning: `should_run_async` will not call `transform_cell` automatically in the future. Please pass the result to `transformed_cell` argument and any exception that happen during thetransform in `preprocessing_exc_tuple` in IPython 7.17 and above.\n",
      "  and should_run_async(code)\n"
     ]
    },
    {
     "name": "stdout",
     "output_type": "stream",
     "text": [
      "`common_spikesorting`.`__spike_sorting` (1 tuples)\n"
     ]
    },
    {
     "name": "stdin",
     "output_type": "stream",
     "text": [
      "Proceed? [yes, No]:  yes\n"
     ]
    },
    {
     "name": "stdout",
     "output_type": "stream",
     "text": [
      "Tables dropped.  Restart kernel.\n"
     ]
    }
   ],
   "source": [
    "nd.common.SpikeSorting().drop()"
   ]
  },
  {
   "cell_type": "code",
   "execution_count": 6,
   "metadata": {},
   "outputs": [],
   "source": [
    "s1 = (nd.common.IntervalList() & {'interval_list_name': '01_s1'}).fetch1()\n",
    "s2 = (nd.common.IntervalList() & {'interval_list_name': '03_s2'}).fetch1()\n",
    "r1 = (nd.common.IntervalList() & {'interval_list_name': '02_r1'}).fetch1()\n",
    "\n",
    "r2 = (nd.common.IntervalList() & {'interval_list_name': '04_r2'}).fetch1()"
   ]
  },
  {
   "cell_type": "code",
   "execution_count": 8,
   "metadata": {},
   "outputs": [],
   "source": [
    "nd.common.IntervalList()\n",
    "s1 = (nd.common.IntervalList() & {'interval_list_name' : '01_s1'}).fetch1('valid_times')"
   ]
  },
  {
   "cell_type": "code",
   "execution_count": 9,
   "metadata": {},
   "outputs": [
    {
     "data": {
      "text/plain": [
       "array([[1.56348899e+09, 1.56349008e+09]])"
      ]
     },
     "execution_count": 9,
     "metadata": {},
     "output_type": "execute_result"
    }
   ],
   "source": [
    "s1"
   ]
  },
  {
   "cell_type": "code",
   "execution_count": 24,
   "metadata": {},
   "outputs": [],
   "source": [
    "t[0][1] = t[0][0] + 100"
   ]
  },
  {
   "cell_type": "code",
   "execution_count": 22,
   "metadata": {},
   "outputs": [],
   "source": [
    "t = s1.copy()"
   ]
  },
  {
   "cell_type": "code",
   "execution_count": 27,
   "metadata": {},
   "outputs": [],
   "source": [
    "nd.common.IntervalList.insert1({'nwb_file_name' : 'beans20190718.nwb', 'interval_list_name' : 'test', 'valid_times' : t})"
   ]
  },
  {
   "cell_type": "code",
   "execution_count": 17,
   "metadata": {},
   "outputs": [
    {
     "data": {
      "text/html": [
       "\n",
       "        \n",
       "        <style type=\"text/css\">\n",
       "            .Relation{\n",
       "                border-collapse:collapse;\n",
       "            }\n",
       "            .Relation th{\n",
       "                background: #A0A0A0; color: #ffffff; padding:4px; border:#f0e0e0 1px solid;\n",
       "                font-weight: normal; font-family: monospace; font-size: 100%;\n",
       "            }\n",
       "            .Relation td{\n",
       "                padding:4px; border:#f0e0e0 1px solid; font-size:100%;\n",
       "            }\n",
       "            .Relation tr:nth-child(odd){\n",
       "                background: #ffffff;\n",
       "            }\n",
       "            .Relation tr:nth-child(even){\n",
       "                background: #f3f1ff;\n",
       "            }\n",
       "            /* Tooltip container */\n",
       "            .djtooltip {\n",
       "            }\n",
       "            /* Tooltip text */\n",
       "            .djtooltip .djtooltiptext {\n",
       "                visibility: hidden;\n",
       "                width: 120px;\n",
       "                background-color: black;\n",
       "                color: #fff;\n",
       "                text-align: center;\n",
       "                padding: 5px 0;\n",
       "                border-radius: 6px;\n",
       "                /* Position the tooltip text - see examples below! */\n",
       "                position: absolute;\n",
       "                z-index: 1;\n",
       "            }\n",
       "            #primary {\n",
       "                font-weight: bold;\n",
       "                color: black;\n",
       "            }\n",
       "\n",
       "            #nonprimary {\n",
       "                font-weight: normal;\n",
       "                color: white;\n",
       "            }\n",
       "\n",
       "            /* Show the tooltip text when you mouse over the tooltip container */\n",
       "            .djtooltip:hover .djtooltiptext {\n",
       "                visibility: visible;\n",
       "            }\n",
       "        </style>\n",
       "        \n",
       "        <b></b>\n",
       "            <div style=\"max-height:1000px;max-width:1500px;overflow:auto;\">\n",
       "            <table border=\"1\" class=\"Relation\">\n",
       "                <thead> <tr style=\"text-align: right;\"> <th> <div class=\"djtooltip\">\n",
       "                                <p id=\"primary\">nwb_file_name</p>\n",
       "                                <span class=\"djtooltiptext\">the name of the NWB file</span>\n",
       "                            </div></th><th><div class=\"djtooltip\">\n",
       "                                <p id=\"primary\">interval_list_name</p>\n",
       "                                <span class=\"djtooltiptext\">descriptive name of this interval list</span>\n",
       "                            </div></th><th><div class=\"djtooltip\">\n",
       "                                <p id=\"nonprimary\">valid_times</p>\n",
       "                                <span class=\"djtooltiptext\">2D numpy array with start and end times for each interval</span>\n",
       "                            </div> </th> </tr> </thead>\n",
       "                <tbody> <tr> <td>beans20190718.nwb</td>\n",
       "<td>01_s1</td>\n",
       "<td>=BLOB=</td></tr><tr><td>beans20190718.nwb</td>\n",
       "<td>02_r1</td>\n",
       "<td>=BLOB=</td></tr><tr><td>beans20190718.nwb</td>\n",
       "<td>03_s2</td>\n",
       "<td>=BLOB=</td></tr><tr><td>beans20190718.nwb</td>\n",
       "<td>04_r2</td>\n",
       "<td>=BLOB=</td></tr><tr><td>beans20190718.nwb</td>\n",
       "<td>pos 0 valid times</td>\n",
       "<td>=BLOB=</td></tr><tr><td>beans20190718.nwb</td>\n",
       "<td>pos 1 valid times</td>\n",
       "<td>=BLOB=</td></tr><tr><td>beans20190718.nwb</td>\n",
       "<td>pos 2 valid times</td>\n",
       "<td>=BLOB=</td></tr><tr><td>beans20190718.nwb</td>\n",
       "<td>pos 3 valid times</td>\n",
       "<td>=BLOB=</td></tr><tr><td>beans20190718.nwb</td>\n",
       "<td>raw data valid times</td>\n",
       "<td>=BLOB=</td></tr><tr><td>beans20190718.nwb</td>\n",
       "<td>test</td>\n",
       "<td>=BLOB=</td> </tr> </tbody>\n",
       "            </table>\n",
       "            \n",
       "            <p>Total: 10</p></div>\n",
       "            "
      ],
      "text/plain": [
       "*nwb_file_name *interval_list valid_time\n",
       "+------------+ +------------+ +--------+\n",
       "beans20190718. 01_s1          =BLOB=    \n",
       "beans20190718. 02_r1          =BLOB=    \n",
       "beans20190718. 03_s2          =BLOB=    \n",
       "beans20190718. 04_r2          =BLOB=    \n",
       "beans20190718. pos 0 valid ti =BLOB=    \n",
       "beans20190718. pos 1 valid ti =BLOB=    \n",
       "beans20190718. pos 2 valid ti =BLOB=    \n",
       "beans20190718. pos 3 valid ti =BLOB=    \n",
       "beans20190718. raw data valid =BLOB=    \n",
       "beans20190718. test           =BLOB=    \n",
       " (Total: 10)"
      ]
     },
     "execution_count": 17,
     "metadata": {},
     "output_type": "execute_result"
    }
   ],
   "source": [
    "nd.common.IntervalList()"
   ]
  },
  {
   "cell_type": "code",
   "execution_count": 12,
   "metadata": {},
   "outputs": [],
   "source": [
    "a = (nd.common.IntervalList() & {'interval_list_name' : '01_s1'}).fetch1()"
   ]
  },
  {
   "cell_type": "code",
   "execution_count": 13,
   "metadata": {},
   "outputs": [
    {
     "data": {
      "text/plain": [
       "{'nwb_file_name': 'beans20190718.nwb',\n",
       " 'interval_list_name': '01_s1',\n",
       " 'valid_times': array([[1.56348899e+09, 1.56349008e+09]])}"
      ]
     },
     "execution_count": 13,
     "metadata": {},
     "output_type": "execute_result"
    }
   ],
   "source": [
    "a"
   ]
  },
  {
   "cell_type": "code",
   "execution_count": 14,
   "metadata": {},
   "outputs": [],
   "source": [
    "b = a.copy()"
   ]
  },
  {
   "cell_type": "code",
   "execution_count": 15,
   "metadata": {},
   "outputs": [],
   "source": [
    "b['interval_list_name'] = 'test'"
   ]
  },
  {
   "cell_type": "code",
   "execution_count": 18,
   "metadata": {},
   "outputs": [
    {
     "name": "stdout",
     "output_type": "stream",
     "text": [
      "About to delete:\n",
      "`common_interval`.`interval_list`: 1 items\n"
     ]
    },
    {
     "name": "stdin",
     "output_type": "stream",
     "text": [
      "Proceed? [yes, No]:  yes\n"
     ]
    },
    {
     "name": "stdout",
     "output_type": "stream",
     "text": [
      "Committed.\n"
     ]
    }
   ],
   "source": [
    "(nd.common.IntervalList & {'interval_list_name' : 'test'}).delete()"
   ]
  },
  {
   "cell_type": "code",
   "execution_count": null,
   "metadata": {},
   "outputs": [],
   "source": []
  }
 ],
 "metadata": {
  "kernelspec": {
   "display_name": "Python 3",
   "language": "python",
   "name": "python3"
  },
  "language_info": {
   "codemirror_mode": {
    "name": "ipython",
    "version": 3
   },
   "file_extension": ".py",
   "mimetype": "text/x-python",
   "name": "python",
   "nbconvert_exporter": "python",
   "pygments_lexer": "ipython3",
   "version": "3.8.0"
  }
 },
 "nbformat": 4,
 "nbformat_minor": 4
}
