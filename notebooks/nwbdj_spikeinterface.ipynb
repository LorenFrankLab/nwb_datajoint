{
 "cells": [
  {
   "cell_type": "markdown",
   "metadata": {},
   "source": [
    "## This notebook assumes that you've imported one or more NWB files into DataJoint \n",
    "## It allows you to run spikesorters on those data using the SpikeInterface package"
   ]
  },
  {
   "cell_type": "markdown",
   "metadata": {},
   "source": [
    "#### Load all of the relevant modules"
   ]
  },
  {
   "cell_type": "code",
   "execution_count": 2,
   "metadata": {},
   "outputs": [
    {
     "name": "stdout",
     "output_type": "stream",
     "text": [
      "The autoreload extension is already loaded. To reload it, use:\n",
      "  %reload_ext autoreload\n",
      "Connecting root@localhost:3306\n"
     ]
    }
   ],
   "source": [
    "%load_ext autoreload\n",
    "%autoreload 2\n",
    "\n",
    "import os\n",
    "data_dir = '/Users/loren/data/nwb_builder_test_data'  # CHANGE ME\n",
    "\n",
    "os.environ['NWB_DATAJOINT_BASE_DIR'] = data_dir\n",
    "os.environ['KACHERY_STORAGE_DIR'] = os.path.join(data_dir, 'kachery-storage')\n",
    "os.environ['SPIKE_SORTING_STORAGE_DIR'] = os.path.join(data_dir, 'spikesorting')\n",
    "\n",
    "import numpy as np\n",
    "import pynwb\n",
    "import os\n",
    "\n",
    "# DataJoint and DataJoint schema\n",
    "import nwb_datajoint as nd\n",
    "import datajoint as dj\n",
    "from ndx_franklab_novela import Probe\n",
    "\n",
    "import warnings\n",
    "warnings.simplefilter('ignore')"
   ]
  },
  {
   "cell_type": "markdown",
   "metadata": {},
   "source": [
    "### Set the nwb file name and the name of the probe file to create from DataJoint"
   ]
  },
  {
   "cell_type": "code",
   "execution_count": 3,
   "metadata": {},
   "outputs": [],
   "source": [
    "nwb_file_name = (nd.common.Session() & {'session_id': 'beans_01'}).fetch1('nwb_file_name')"
   ]
  },
  {
   "cell_type": "markdown",
   "metadata": {},
   "source": [
    "### Set the sort grouping by shank"
   ]
  },
  {
   "cell_type": "code",
   "execution_count": 4,
   "metadata": {},
   "outputs": [
    {
     "name": "stdout",
     "output_type": "stream",
     "text": [
      "About to delete:\n",
      "`common_spikesorting`.`sort_group__sort_group_electrode`: 256 items\n",
      "`common_spikesorting`.`spike_sorting_parameters`: 1 items\n",
      "`common_spikesorting`.`sort_group`: 8 items\n"
     ]
    },
    {
     "name": "stdin",
     "output_type": "stream",
     "text": [
      "Proceed? [yes, No]:  yes\n"
     ]
    },
    {
     "name": "stdout",
     "output_type": "stream",
     "text": [
      "Committed.\n"
     ]
    },
    {
     "data": {
      "text/html": [
       "\n",
       "        \n",
       "        <style type=\"text/css\">\n",
       "            .Relation{\n",
       "                border-collapse:collapse;\n",
       "            }\n",
       "            .Relation th{\n",
       "                background: #A0A0A0; color: #ffffff; padding:4px; border:#f0e0e0 1px solid;\n",
       "                font-weight: normal; font-family: monospace; font-size: 100%;\n",
       "            }\n",
       "            .Relation td{\n",
       "                padding:4px; border:#f0e0e0 1px solid; font-size:100%;\n",
       "            }\n",
       "            .Relation tr:nth-child(odd){\n",
       "                background: #ffffff;\n",
       "            }\n",
       "            .Relation tr:nth-child(even){\n",
       "                background: #f3f1ff;\n",
       "            }\n",
       "            /* Tooltip container */\n",
       "            .djtooltip {\n",
       "            }\n",
       "            /* Tooltip text */\n",
       "            .djtooltip .djtooltiptext {\n",
       "                visibility: hidden;\n",
       "                width: 120px;\n",
       "                background-color: black;\n",
       "                color: #fff;\n",
       "                text-align: center;\n",
       "                padding: 5px 0;\n",
       "                border-radius: 6px;\n",
       "                /* Position the tooltip text - see examples below! */\n",
       "                position: absolute;\n",
       "                z-index: 1;\n",
       "            }\n",
       "            #primary {\n",
       "                font-weight: bold;\n",
       "                color: black;\n",
       "            }\n",
       "\n",
       "            #nonprimary {\n",
       "                font-weight: normal;\n",
       "                color: white;\n",
       "            }\n",
       "\n",
       "            /* Show the tooltip text when you mouse over the tooltip container */\n",
       "            .djtooltip:hover .djtooltiptext {\n",
       "                visibility: visible;\n",
       "            }\n",
       "        </style>\n",
       "        \n",
       "        <b></b>\n",
       "            <div style=\"max-height:1000px;max-width:1500px;overflow:auto;\">\n",
       "            <table border=\"1\" class=\"Relation\">\n",
       "                <thead> <tr style=\"text-align: right;\"> <th> <div class=\"djtooltip\">\n",
       "                                <p id=\"primary\">nwb_file_name</p>\n",
       "                                <span class=\"djtooltiptext\">the name of the NWB file</span>\n",
       "                            </div></th><th><div class=\"djtooltip\">\n",
       "                                <p id=\"primary\">sort_group_id</p>\n",
       "                                <span class=\"djtooltiptext\">identifier for a group of electrodes</span>\n",
       "                            </div></th><th><div class=\"djtooltip\">\n",
       "                                <p id=\"nonprimary\">sort_reference_electrode_id</p>\n",
       "                                <span class=\"djtooltiptext\">the electrode to use for reference. -1: no reference, -2: common median</span>\n",
       "                            </div> </th> </tr> </thead>\n",
       "                <tbody> <tr> <td>beans20190718-trim.nwb</td>\n",
       "<td>0</td>\n",
       "<td>-1</td></tr><tr><td>beans20190718-trim.nwb</td>\n",
       "<td>1</td>\n",
       "<td>-1</td></tr><tr><td>beans20190718-trim.nwb</td>\n",
       "<td>2</td>\n",
       "<td>-1</td></tr><tr><td>beans20190718-trim.nwb</td>\n",
       "<td>3</td>\n",
       "<td>-1</td></tr><tr><td>beans20190718-trim.nwb</td>\n",
       "<td>4</td>\n",
       "<td>-1</td></tr><tr><td>beans20190718-trim.nwb</td>\n",
       "<td>5</td>\n",
       "<td>-1</td></tr><tr><td>beans20190718-trim.nwb</td>\n",
       "<td>6</td>\n",
       "<td>-1</td></tr><tr><td>beans20190718-trim.nwb</td>\n",
       "<td>7</td>\n",
       "<td>-1</td> </tr> </tbody>\n",
       "            </table>\n",
       "            \n",
       "            <p>Total: 8</p></div>\n",
       "            "
      ],
      "text/plain": [
       "*nwb_file_name *sort_group_id sort_reference\n",
       "+------------+ +------------+ +------------+\n",
       "beans20190718- 0              -1            \n",
       "beans20190718- 1              -1            \n",
       "beans20190718- 2              -1            \n",
       "beans20190718- 3              -1            \n",
       "beans20190718- 4              -1            \n",
       "beans20190718- 5              -1            \n",
       "beans20190718- 6              -1            \n",
       "beans20190718- 7              -1            \n",
       " (Total: 8)"
      ]
     },
     "execution_count": 4,
     "metadata": {},
     "output_type": "execute_result"
    }
   ],
   "source": [
    "nd.common.SortGroup().set_group_by_shank(nwb_file_name)\n",
    "nd.common.SortGroup()"
   ]
  },
  {
   "cell_type": "markdown",
   "metadata": {},
   "source": [
    "Optional: Display all of the electrodes with their sort groups"
   ]
  },
  {
   "cell_type": "code",
   "execution_count": 5,
   "metadata": {},
   "outputs": [
    {
     "data": {
      "text/html": [
       "\n",
       "        \n",
       "        <style type=\"text/css\">\n",
       "            .Relation{\n",
       "                border-collapse:collapse;\n",
       "            }\n",
       "            .Relation th{\n",
       "                background: #A0A0A0; color: #ffffff; padding:4px; border:#f0e0e0 1px solid;\n",
       "                font-weight: normal; font-family: monospace; font-size: 100%;\n",
       "            }\n",
       "            .Relation td{\n",
       "                padding:4px; border:#f0e0e0 1px solid; font-size:100%;\n",
       "            }\n",
       "            .Relation tr:nth-child(odd){\n",
       "                background: #ffffff;\n",
       "            }\n",
       "            .Relation tr:nth-child(even){\n",
       "                background: #f3f1ff;\n",
       "            }\n",
       "            /* Tooltip container */\n",
       "            .djtooltip {\n",
       "            }\n",
       "            /* Tooltip text */\n",
       "            .djtooltip .djtooltiptext {\n",
       "                visibility: hidden;\n",
       "                width: 120px;\n",
       "                background-color: black;\n",
       "                color: #fff;\n",
       "                text-align: center;\n",
       "                padding: 5px 0;\n",
       "                border-radius: 6px;\n",
       "                /* Position the tooltip text - see examples below! */\n",
       "                position: absolute;\n",
       "                z-index: 1;\n",
       "            }\n",
       "            #primary {\n",
       "                font-weight: bold;\n",
       "                color: black;\n",
       "            }\n",
       "\n",
       "            #nonprimary {\n",
       "                font-weight: normal;\n",
       "                color: white;\n",
       "            }\n",
       "\n",
       "            /* Show the tooltip text when you mouse over the tooltip container */\n",
       "            .djtooltip:hover .djtooltiptext {\n",
       "                visibility: visible;\n",
       "            }\n",
       "        </style>\n",
       "        \n",
       "        <b></b>\n",
       "            <div style=\"max-height:1000px;max-width:1500px;overflow:auto;\">\n",
       "            <table border=\"1\" class=\"Relation\">\n",
       "                <thead> <tr style=\"text-align: right;\"> <th> <div class=\"djtooltip\">\n",
       "                                <p id=\"primary\">nwb_file_name</p>\n",
       "                                <span class=\"djtooltiptext\">the name of the NWB file</span>\n",
       "                            </div></th><th><div class=\"djtooltip\">\n",
       "                                <p id=\"primary\">sort_group_id</p>\n",
       "                                <span class=\"djtooltiptext\">identifier for a group of electrodes</span>\n",
       "                            </div></th><th><div class=\"djtooltip\">\n",
       "                                <p id=\"primary\">electrode_group_name</p>\n",
       "                                <span class=\"djtooltiptext\">electrode group name from NWBFile</span>\n",
       "                            </div></th><th><div class=\"djtooltip\">\n",
       "                                <p id=\"primary\">electrode_id</p>\n",
       "                                <span class=\"djtooltiptext\">the unique number for this electrode</span>\n",
       "                            </div> </th> </tr> </thead>\n",
       "                <tbody> <tr> <td>beans20190718-trim.nwb</td>\n",
       "<td>0</td>\n",
       "<td>0</td>\n",
       "<td>0</td></tr><tr><td>beans20190718-trim.nwb</td>\n",
       "<td>0</td>\n",
       "<td>0</td>\n",
       "<td>1</td></tr><tr><td>beans20190718-trim.nwb</td>\n",
       "<td>0</td>\n",
       "<td>0</td>\n",
       "<td>2</td></tr><tr><td>beans20190718-trim.nwb</td>\n",
       "<td>0</td>\n",
       "<td>0</td>\n",
       "<td>3</td></tr><tr><td>beans20190718-trim.nwb</td>\n",
       "<td>0</td>\n",
       "<td>0</td>\n",
       "<td>4</td></tr><tr><td>beans20190718-trim.nwb</td>\n",
       "<td>0</td>\n",
       "<td>0</td>\n",
       "<td>5</td></tr><tr><td>beans20190718-trim.nwb</td>\n",
       "<td>0</td>\n",
       "<td>0</td>\n",
       "<td>6</td></tr><tr><td>beans20190718-trim.nwb</td>\n",
       "<td>0</td>\n",
       "<td>0</td>\n",
       "<td>7</td></tr><tr><td>beans20190718-trim.nwb</td>\n",
       "<td>0</td>\n",
       "<td>0</td>\n",
       "<td>8</td></tr><tr><td>beans20190718-trim.nwb</td>\n",
       "<td>0</td>\n",
       "<td>0</td>\n",
       "<td>9</td></tr><tr><td>beans20190718-trim.nwb</td>\n",
       "<td>0</td>\n",
       "<td>0</td>\n",
       "<td>10</td></tr><tr><td>beans20190718-trim.nwb</td>\n",
       "<td>0</td>\n",
       "<td>0</td>\n",
       "<td>11</td> </tr> </tbody>\n",
       "            </table>\n",
       "            <p>...</p>\n",
       "            <p>Total: 256</p></div>\n",
       "            "
      ],
      "text/plain": [
       "*nwb_file_name *sort_group_id *electrode_gro *electrode_id \n",
       "+------------+ +------------+ +------------+ +------------+\n",
       "beans20190718- 0              0              0             \n",
       "beans20190718- 0              0              1             \n",
       "beans20190718- 0              0              2             \n",
       "beans20190718- 0              0              3             \n",
       "beans20190718- 0              0              4             \n",
       "beans20190718- 0              0              5             \n",
       "beans20190718- 0              0              6             \n",
       "beans20190718- 0              0              7             \n",
       "beans20190718- 0              0              8             \n",
       "beans20190718- 0              0              9             \n",
       "beans20190718- 0              0              10            \n",
       "beans20190718- 0              0              11            \n",
       "   ...\n",
       " (Total: 256)"
      ]
     },
     "execution_count": 5,
     "metadata": {},
     "output_type": "execute_result"
    }
   ],
   "source": [
    "nd.common.SortGroup.SortGroupElectrode()"
   ]
  },
  {
   "cell_type": "markdown",
   "metadata": {},
   "source": [
    "### create the spike sorter and parameter lists "
   ]
  },
  {
   "cell_type": "code",
   "execution_count": 6,
   "metadata": {},
   "outputs": [],
   "source": [
    "nd.common.SpikeSorter().insert_from_spikeinterface()\n",
    "nd.common.SpikeSorterParameters().insert_from_spikeinterface()"
   ]
  },
  {
   "cell_type": "markdown",
   "metadata": {},
   "source": [
    "### create a 'franklab_mountainsort' parameter set"
   ]
  },
  {
   "cell_type": "code",
   "execution_count": 7,
   "metadata": {},
   "outputs": [],
   "source": [
    "p = (nd.common.SpikeSorterParameters() & {'sorter_name': 'mountainsort4', 'parameter_set_name' : 'default'}).fetch1()\n",
    "param = p['parameter_dict']\n",
    "param['adjacency_radius'] = 100\n",
    "param['curation'] = False\n",
    "param['num_workers'] = 7\n",
    "param['verbose'] = True\n",
    "param['clip_size'] = 30\n",
    "param['noise_overlap_threshold'] = 0\n",
    "\n",
    "nd.common.SpikeSorterParameters().insert1({'sorter_name': 'mountainsort4', 'parameter_set_name' : 'franklab_mountainsort_20KHz', 'parameter_dict' : param}, skip_duplicates='True')"
   ]
  },
  {
   "cell_type": "markdown",
   "metadata": {},
   "source": [
    "Display the new parameter set"
   ]
  },
  {
   "cell_type": "code",
   "execution_count": 8,
   "metadata": {},
   "outputs": [
    {
     "data": {
      "text/plain": [
       "{'sorter_name': 'mountainsort4',\n",
       " 'parameter_set_name': 'franklab_mountainsort_20KHz',\n",
       " 'parameter_dict': {'detect_sign': -1,\n",
       "  'adjacency_radius': 100,\n",
       "  'freq_min': 300,\n",
       "  'freq_max': 6000,\n",
       "  'filter': True,\n",
       "  'whiten': True,\n",
       "  'curation': False,\n",
       "  'num_workers': 7,\n",
       "  'clip_size': 30,\n",
       "  'detect_threshold': 3,\n",
       "  'detect_interval': 10,\n",
       "  'noise_overlap_threshold': 0,\n",
       "  'verbose': True}}"
      ]
     },
     "execution_count": 8,
     "metadata": {},
     "output_type": "execute_result"
    }
   ],
   "source": [
    "p = (nd.common.SpikeSorterParameters() & {'sorter_name': 'mountainsort4', 'parameter_set_name' : 'franklab_mountainsort_20KHz'}).fetch1()\n",
    "p"
   ]
  },
  {
   "cell_type": "code",
   "execution_count": 9,
   "metadata": {},
   "outputs": [
    {
     "data": {
      "text/plain": [
       "{'detect_sign': -1,\n",
       " 'adjacency_radius': 100,\n",
       " 'freq_min': 300,\n",
       " 'freq_max': 6000,\n",
       " 'filter': True,\n",
       " 'whiten': True,\n",
       " 'curation': False,\n",
       " 'num_workers': 7,\n",
       " 'clip_size': 30,\n",
       " 'detect_threshold': 3,\n",
       " 'detect_interval': 10,\n",
       " 'noise_overlap_threshold': 0,\n",
       " 'verbose': True}"
      ]
     },
     "execution_count": 9,
     "metadata": {},
     "output_type": "execute_result"
    }
   ],
   "source": [
    "param = p['parameter_dict']\n",
    "param"
   ]
  },
  {
   "cell_type": "markdown",
   "metadata": {},
   "source": [
    "### Create a set of spike sorting parameters for sorting group 1"
   ]
  },
  {
   "cell_type": "code",
   "execution_count": 10,
   "metadata": {},
   "outputs": [
    {
     "name": "stdout",
     "output_type": "stream",
     "text": [
      "[[1.56348899e+09 1.56348900e+09]\n",
      " [1.56348911e+09 1.56348912e+09]]\n"
     ]
    }
   ],
   "source": [
    "# create two 10 second test intervals for debugging\n",
    "s1 = (nd.common.IntervalList() & {'interval_list_name' : '01_s1'}).fetch1('valid_times')\n",
    "a = s1[0][0]\n",
    "b = a + 10\n",
    "t = np.asarray([[a,b]])\n",
    "t = np.vstack((t, np.asarray([[a+120,b+120]])))\n",
    "nd.common.SortIntervalList().insert1({'nwb_file_name' : nwb_file_name, 'sort_interval_list_name' : 'test', 'sort_intervals' : t}, replace='True')\n",
    "\n",
    "print(t)"
   ]
  },
  {
   "cell_type": "code",
   "execution_count": 11,
   "metadata": {},
   "outputs": [],
   "source": [
    "sort_group_id = 1\n",
    "key = dict()\n",
    "key['nwb_file_name'] = nwb_file_name\n",
    "key['sort_group_id'] = sort_group_id\n",
    "key['sorter_name'] = 'mountainsort4'\n",
    "key['parameter_set_name'] = 'franklab_mountainsort_20KHz'\n",
    "key['interval_list_name'] = '01_s1'\n",
    "key['sort_interval_list_name'] = 'test'\n",
    "nd.common.SpikeSortingParameters().insert1(key, skip_duplicates='True')"
   ]
  },
  {
   "cell_type": "code",
   "execution_count": 12,
   "metadata": {},
   "outputs": [
    {
     "data": {
      "text/plain": [
       "{'nwb_file_name': 'beans20190718-trim.nwb',\n",
       " 'sort_interval_list_name': 'test',\n",
       " 'sort_intervals': array([[1.56348899e+09, 1.56348900e+09],\n",
       "        [1.56348911e+09, 1.56348912e+09]])}"
      ]
     },
     "execution_count": 12,
     "metadata": {},
     "output_type": "execute_result"
    }
   ],
   "source": [
    "(nd.common.SortIntervalList()).fetch1()"
   ]
  },
  {
   "cell_type": "markdown",
   "metadata": {},
   "source": [
    "### run the sort - this can take some time"
   ]
  },
  {
   "cell_type": "code",
   "execution_count": 13,
   "metadata": {},
   "outputs": [
    {
     "name": "stdout",
     "output_type": "stream",
     "text": [
      "writing new NWB file beans20190718-trim_00000003.nwb\n",
      "Sorting {'nwb_file_name': 'beans20190718-trim.nwb', 'sort_group_id': 1, 'sorter_name': 'mountainsort4', 'parameter_set_name': 'franklab_mountainsort_20KHz', 'sort_interval_list_name': 'test', 'analysis_file_name': 'beans20190718-trim_00000003.nwb'}...\n",
      "Using 7 workers.\n",
      "Using tmpdir: /tmp/tmps_ny5f7w\n",
      "Num. workers = 7\n",
      "Preparing /tmp/tmps_ny5f7w/timeseries.hdf5...\n",
      "'end_frame' set to 199999\n",
      "Preparing neighborhood sorters (M=32, N=199999)...\n",
      "Preparing output...\n",
      "Done with ms4alg.\n",
      "Cleaning tmpdir::::: /tmp/tmps_ny5f7w\n",
      "mountainsort4 run time 26.39s\n",
      "{'sorter_name': 'mountainsort4', 'parameter_set_name': 'franklab_mountainsort_20KHz', 'parameter_dict': {'detect_sign': -1, 'adjacency_radius': 100, 'freq_min': 300, 'freq_max': 6000, 'filter': True, 'whiten': True, 'curation': False, 'num_workers': 7, 'clip_size': 30, 'detect_threshold': 3, 'detect_interval': 10, 'noise_overlap_threshold': 0, 'verbose': True}}\n",
      "Sorting {'nwb_file_name': 'beans20190718-trim.nwb', 'sort_group_id': 1, 'sorter_name': 'mountainsort4', 'parameter_set_name': 'franklab_mountainsort_20KHz', 'sort_interval_list_name': 'test', 'analysis_file_name': 'beans20190718-trim_00000003.nwb'}...\n",
      "Using 7 workers.\n",
      "Using tmpdir: /tmp/tmpgzan6ivq\n",
      "Num. workers = 7\n",
      "Preparing /tmp/tmpgzan6ivq/timeseries.hdf5...\n",
      "'end_frame' set to 199999\n",
      "Preparing neighborhood sorters (M=32, N=199999)...\n",
      "Preparing output...\n",
      "Done with ms4alg.\n",
      "Cleaning tmpdir::::: /tmp/tmpgzan6ivq\n",
      "mountainsort4 run time 25.88s\n",
      "{'sorter_name': 'mountainsort4', 'parameter_set_name': 'franklab_mountainsort_20KHz', 'parameter_dict': {'detect_sign': -1, 'adjacency_radius': 100, 'freq_min': 300, 'freq_max': 6000, 'filter': True, 'whiten': True, 'curation': False, 'num_workers': 7, 'clip_size': 30, 'detect_threshold': 3, 'detect_interval': 10, 'noise_overlap_threshold': 0, 'verbose': True}}\n"
     ]
    }
   ],
   "source": [
    "nd.common.SpikeSorting().populate()"
   ]
  },
  {
   "cell_type": "markdown",
   "metadata": {},
   "source": [
    "\n",
    "### Example: Retrieve the spike trains:\n",
    "Note that these spikes are all noise; this is for demonstration purposes only."
   ]
  },
  {
   "cell_type": "code",
   "execution_count": null,
   "metadata": {},
   "outputs": [],
   "source": []
  },
  {
   "cell_type": "code",
   "execution_count": 54,
   "metadata": {},
   "outputs": [
    {
     "name": "stdout",
     "output_type": "stream",
     "text": [
      "[{'nwb_file_name': 'beans20190718-trim.nwb', 'sort_group_id': 1, 'sorter_name': 'mountainsort4', 'parameter_set_name': 'franklab_mountainsort_20KHz', 'sort_interval_list_name': 'test', 'analysis_file_name': 'beans20190718-trim_00000003.nwb', 'units_object_id': '3b112528-e0ec-4739-bd97-8b84baeed433', 'units_waveforms_object_id': '', 'nwb2load_filepath': '/Users/loren/data/nwb_builder_test_data/analysis/beans20190718-trim_00000003.nwb'}]\n"
     ]
    },
    {
     "data": {
      "text/html": [
       "<div>\n",
       "<style scoped>\n",
       "    .dataframe tbody tr th:only-of-type {\n",
       "        vertical-align: middle;\n",
       "    }\n",
       "\n",
       "    .dataframe tbody tr th {\n",
       "        vertical-align: top;\n",
       "    }\n",
       "\n",
       "    .dataframe thead th {\n",
       "        text-align: right;\n",
       "    }\n",
       "</style>\n",
       "<table border=\"1\" class=\"dataframe\">\n",
       "  <thead>\n",
       "    <tr style=\"text-align: right;\">\n",
       "      <th></th>\n",
       "      <th>spike_times</th>\n",
       "      <th>obs_intervals</th>\n",
       "      <th>waveform_mean</th>\n",
       "      <th>sort_interval</th>\n",
       "    </tr>\n",
       "    <tr>\n",
       "      <th>id</th>\n",
       "      <th></th>\n",
       "      <th></th>\n",
       "      <th></th>\n",
       "      <th></th>\n",
       "    </tr>\n",
       "  </thead>\n",
       "  <tbody>\n",
       "    <tr>\n",
       "      <th>1</th>\n",
       "      <td>[1563488988.8793328, 1563488988.897183, 156348...</td>\n",
       "      <td>[[1563488988.8777807, 1563488998.8777807]]</td>\n",
       "      <td>[[-68.0, -87.0, -78.0, -73.0, -80.0, -91.0, -9...</td>\n",
       "      <td>[[1563488988.8777807, 1563488998.8777807]]</td>\n",
       "    </tr>\n",
       "    <tr>\n",
       "      <th>2</th>\n",
       "      <td>[1563488988.8909328, 1563488988.943533, 156348...</td>\n",
       "      <td>[[1563488988.8777807, 1563488998.8777807]]</td>\n",
       "      <td>[[40.5, 40.5, 11.0, 22.0, 1.5, 20.0, -15.0, 7....</td>\n",
       "      <td>[[1563488988.8777807, 1563488998.8777807]]</td>\n",
       "    </tr>\n",
       "    <tr>\n",
       "      <th>3</th>\n",
       "      <td>[1563488988.8768828, 1563488988.8803327, 15634...</td>\n",
       "      <td>[[1563488988.8777807, 1563488998.8777807]]</td>\n",
       "      <td>[[55.0, 17.0, 37.0, 45.0, 41.0, 52.0, 38.0, 31...</td>\n",
       "      <td>[[1563488988.8777807, 1563488998.8777807]]</td>\n",
       "    </tr>\n",
       "    <tr>\n",
       "      <th>4</th>\n",
       "      <td>[1563488988.888583, 1563488988.9524333, 156348...</td>\n",
       "      <td>[[1563488988.8777807, 1563488998.8777807]]</td>\n",
       "      <td>[[87.5, 85.0, 95.5, 61.0, 65.0, 65.0, 41.0, 22...</td>\n",
       "      <td>[[1563488988.8777807, 1563488998.8777807]]</td>\n",
       "    </tr>\n",
       "    <tr>\n",
       "      <th>5</th>\n",
       "      <td>[1563488988.879233, 1563488988.9779334, 156348...</td>\n",
       "      <td>[[1563488988.8777807, 1563488998.8777807]]</td>\n",
       "      <td>[[169.5, 179.5, 172.0, 159.5, 183.0, 195.5, 19...</td>\n",
       "      <td>[[1563488988.8777807, 1563488998.8777807]]</td>\n",
       "    </tr>\n",
       "    <tr>\n",
       "      <th>...</th>\n",
       "      <td>...</td>\n",
       "      <td>...</td>\n",
       "      <td>...</td>\n",
       "      <td>...</td>\n",
       "    </tr>\n",
       "    <tr>\n",
       "      <th>71</th>\n",
       "      <td>[1563488988.8785827, 1563488988.8977828, 15634...</td>\n",
       "      <td>[[1563489108.8777807, 1563489118.8777807]]</td>\n",
       "      <td>[[-26.0, -34.0, -28.0, -35.0, -29.0, -23.0, -2...</td>\n",
       "      <td>[[1563489108.8777807, 1563489118.8777807]]</td>\n",
       "    </tr>\n",
       "    <tr>\n",
       "      <th>72</th>\n",
       "      <td>[1563488988.911533, 1563488988.9631834, 156348...</td>\n",
       "      <td>[[1563489108.8777807, 1563489118.8777807]]</td>\n",
       "      <td>[[-41.5, -41.0, -37.0, -45.0, -43.5, -58.5, -6...</td>\n",
       "      <td>[[1563489108.8777807, 1563489118.8777807]]</td>\n",
       "    </tr>\n",
       "    <tr>\n",
       "      <th>73</th>\n",
       "      <td>[1563488988.897333, 1563488988.913633, 1563488...</td>\n",
       "      <td>[[1563489108.8777807, 1563489118.8777807]]</td>\n",
       "      <td>[[-65.0, -53.0, -69.0, -46.0, -65.0, -61.0, -5...</td>\n",
       "      <td>[[1563489108.8777807, 1563489118.8777807]]</td>\n",
       "    </tr>\n",
       "    <tr>\n",
       "      <th>74</th>\n",
       "      <td>[1563488988.8896828, 1563488988.896733, 156348...</td>\n",
       "      <td>[[1563489108.8777807, 1563489118.8777807]]</td>\n",
       "      <td>[[-54.0, -75.0, -59.5, -79.5, -71.5, -74.0, -7...</td>\n",
       "      <td>[[1563489108.8777807, 1563489118.8777807]]</td>\n",
       "    </tr>\n",
       "    <tr>\n",
       "      <th>75</th>\n",
       "      <td>[1563488988.9400833, 1563488988.9450333, 15634...</td>\n",
       "      <td>[[1563489108.8777807, 1563489118.8777807]]</td>\n",
       "      <td>[[-87.0, -72.0, -117.0, -93.0, -109.0, -81.0, ...</td>\n",
       "      <td>[[1563489108.8777807, 1563489118.8777807]]</td>\n",
       "    </tr>\n",
       "  </tbody>\n",
       "</table>\n",
       "<p>74 rows × 4 columns</p>\n",
       "</div>"
      ],
      "text/plain": [
       "                                          spike_times  \\\n",
       "id                                                      \n",
       "1   [1563488988.8793328, 1563488988.897183, 156348...   \n",
       "2   [1563488988.8909328, 1563488988.943533, 156348...   \n",
       "3   [1563488988.8768828, 1563488988.8803327, 15634...   \n",
       "4   [1563488988.888583, 1563488988.9524333, 156348...   \n",
       "5   [1563488988.879233, 1563488988.9779334, 156348...   \n",
       "..                                                ...   \n",
       "71  [1563488988.8785827, 1563488988.8977828, 15634...   \n",
       "72  [1563488988.911533, 1563488988.9631834, 156348...   \n",
       "73  [1563488988.897333, 1563488988.913633, 1563488...   \n",
       "74  [1563488988.8896828, 1563488988.896733, 156348...   \n",
       "75  [1563488988.9400833, 1563488988.9450333, 15634...   \n",
       "\n",
       "                                 obs_intervals  \\\n",
       "id                                               \n",
       "1   [[1563488988.8777807, 1563488998.8777807]]   \n",
       "2   [[1563488988.8777807, 1563488998.8777807]]   \n",
       "3   [[1563488988.8777807, 1563488998.8777807]]   \n",
       "4   [[1563488988.8777807, 1563488998.8777807]]   \n",
       "5   [[1563488988.8777807, 1563488998.8777807]]   \n",
       "..                                         ...   \n",
       "71  [[1563489108.8777807, 1563489118.8777807]]   \n",
       "72  [[1563489108.8777807, 1563489118.8777807]]   \n",
       "73  [[1563489108.8777807, 1563489118.8777807]]   \n",
       "74  [[1563489108.8777807, 1563489118.8777807]]   \n",
       "75  [[1563489108.8777807, 1563489118.8777807]]   \n",
       "\n",
       "                                        waveform_mean  \\\n",
       "id                                                      \n",
       "1   [[-68.0, -87.0, -78.0, -73.0, -80.0, -91.0, -9...   \n",
       "2   [[40.5, 40.5, 11.0, 22.0, 1.5, 20.0, -15.0, 7....   \n",
       "3   [[55.0, 17.0, 37.0, 45.0, 41.0, 52.0, 38.0, 31...   \n",
       "4   [[87.5, 85.0, 95.5, 61.0, 65.0, 65.0, 41.0, 22...   \n",
       "5   [[169.5, 179.5, 172.0, 159.5, 183.0, 195.5, 19...   \n",
       "..                                                ...   \n",
       "71  [[-26.0, -34.0, -28.0, -35.0, -29.0, -23.0, -2...   \n",
       "72  [[-41.5, -41.0, -37.0, -45.0, -43.5, -58.5, -6...   \n",
       "73  [[-65.0, -53.0, -69.0, -46.0, -65.0, -61.0, -5...   \n",
       "74  [[-54.0, -75.0, -59.5, -79.5, -71.5, -74.0, -7...   \n",
       "75  [[-87.0, -72.0, -117.0, -93.0, -109.0, -81.0, ...   \n",
       "\n",
       "                                 sort_interval  \n",
       "id                                              \n",
       "1   [[1563488988.8777807, 1563488998.8777807]]  \n",
       "2   [[1563488988.8777807, 1563488998.8777807]]  \n",
       "3   [[1563488988.8777807, 1563488998.8777807]]  \n",
       "4   [[1563488988.8777807, 1563488998.8777807]]  \n",
       "5   [[1563488988.8777807, 1563488998.8777807]]  \n",
       "..                                         ...  \n",
       "71  [[1563489108.8777807, 1563489118.8777807]]  \n",
       "72  [[1563489108.8777807, 1563489118.8777807]]  \n",
       "73  [[1563489108.8777807, 1563489118.8777807]]  \n",
       "74  [[1563489108.8777807, 1563489118.8777807]]  \n",
       "75  [[1563489108.8777807, 1563489118.8777807]]  \n",
       "\n",
       "[74 rows x 4 columns]"
      ]
     },
     "execution_count": 54,
     "metadata": {},
     "output_type": "execute_result"
    }
   ],
   "source": [
    "sorting = (nd.common.SpikeSorting & {'nwb_file_name' : nwb_file_name, 'sort_group_id' : sort_group_id}).fetch()\n",
    "key = {'nwb_file_name' : nwb_file_name, 'sort_group_id' : sort_group_id}\n",
    "units = (nd.common.SpikeSorting & key).fetch_nwb()[0]['units'].to_dataframe()\n",
    "units"
   ]
  }
 ],
 "metadata": {
  "kernelspec": {
   "display_name": "Python [conda env:nwbdj1]",
   "language": "python",
   "name": "conda-env-nwbdj1-py"
  },
  "language_info": {
   "codemirror_mode": {
    "name": "ipython",
    "version": 3
   },
   "file_extension": ".py",
   "mimetype": "text/x-python",
   "name": "python",
   "nbconvert_exporter": "python",
   "pygments_lexer": "ipython3",
   "version": "3.8.0"
  }
 },
 "nbformat": 4,
 "nbformat_minor": 4
}
