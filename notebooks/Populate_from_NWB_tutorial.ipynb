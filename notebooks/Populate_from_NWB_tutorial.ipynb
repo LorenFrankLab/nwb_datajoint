{
 "cells": [
  {
   "cell_type": "markdown",
   "metadata": {},
   "source": [
    "### Dropbox link for beans20190718-trim.nwb (2 GB): https://drive.google.com/file/d/1-0xdEn8oVT6lexBc8mlv7ls84oUvxU4u/view?usp=sharing"
   ]
  },
  {
   "cell_type": "code",
   "execution_count": null,
   "metadata": {
    "tags": []
   },
   "outputs": [],
   "source": [
    "%reload_ext autoreload\n",
    "%autoreload 2"
   ]
  },
  {
   "cell_type": "code",
   "execution_count": null,
   "metadata": {
    "tags": []
   },
   "outputs": [],
   "source": [
    "import os\n",
    "from pathlib import Path\n",
    "\n",
    "# CHANGE ME TO THE BASE DIRECTORY FOR DATA STORAGE ON YOUR SYSTEM\n",
    "# data_dir = Path('/Users/loren/data/nwb_builder_test_data') \n",
    "data_dir = Path('/mnt/c/Users/Ryan/Documents/NWB_Data/Frank Lab Data/')\n",
    "# data_dir = Path('/stelmo/nwb/')\n",
    "\n",
    "os.environ['NWB_DATAJOINT_BASE_DIR'] = str(data_dir)\n",
    "os.environ['KACHERY_STORAGE_DIR'] = str(data_dir / 'kachery-storage')\n",
    "os.environ['DJ_SUPPORT_FILEPATH_MANAGEMENT'] = 'TRUE'\n",
    "\n",
    "raw_dir = data_dir / 'raw'\n",
    "analysis_dir = data_dir / 'analysis'"
   ]
  },
  {
   "cell_type": "markdown",
   "metadata": {},
   "source": [
    "### Before running the rest of the notebook, make sure the following exist:\n",
    "- data_dir\n",
    "- a 'raw' subdirectory in data_dir (e.g. data_dir/raw)\n",
    "  - place 'beans20190718-trim.nwb' in data_dir/raw\n",
    "- an 'analysis' subdirectory in data_dir (e.g. data_dir/analysis)\n",
    "- a kachery-storage subdirectory in data_dir (e.g. data_dir/kachery-storage)"
   ]
  },
  {
   "cell_type": "code",
   "execution_count": null,
   "metadata": {
    "tags": []
   },
   "outputs": [],
   "source": [
    "import datajoint as dj\n",
    "dj.config['database.host'] = 'localhost'  # CHANGE THESE AS NEEDED\n",
    "dj.config['database.user'] = 'root'\n",
    "dj.config['database.password'] = 'tutorial'\n",
    "dj.config['stores'] = {\n",
    "  'raw': {\n",
    "    'protocol': 'file',\n",
    "    'location': str(raw_dir),\n",
    "    'stage' : str(raw_dir)\n",
    "  },\n",
    "  'analysis': {\n",
    "    'protocol': 'file',\n",
    "    'location': str(analysis_dir),\n",
    "    'stage': str(analysis_dir)\n",
    "  }\n",
    "}\n",
    "\n",
    "import nwb_datajoint as nd\n",
    "\n",
    "import warnings\n",
    "warnings.simplefilter('ignore')"
   ]
  },
  {
   "cell_type": "code",
   "execution_count": null,
   "metadata": {
    "tags": []
   },
   "outputs": [],
   "source": [
    "nd.insert_sessions(['beans20190718-trim.nwb'])"
   ]
  },
  {
   "cell_type": "markdown",
   "metadata": {},
   "source": [
    "#### Let's look at the core schema (note that schema = database_table). \n",
    "First, Nwbfile:"
   ]
  },
  {
   "cell_type": "code",
   "execution_count": null,
   "metadata": {},
   "outputs": [],
   "source": [
    "nd.common.Nwbfile()"
   ]
  },
  {
   "cell_type": "markdown",
   "metadata": {},
   "source": [
    "Each NWB file defines a session which also contains information about the subject, institution, etc.:"
   ]
  },
  {
   "cell_type": "code",
   "execution_count": null,
   "metadata": {},
   "outputs": [],
   "source": [
    "nd.common.Session()"
   ]
  },
  {
   "cell_type": "markdown",
   "metadata": {},
   "source": [
    "We can use the datajoint `Diagram` method to represent the relationship between Nwbfile and Session: \n",
    "A Session is identified by a Nwbfile (the primary key; indicated above with the black header text 'nwb_file_name')"
   ]
  },
  {
   "cell_type": "code",
   "execution_count": null,
   "metadata": {},
   "outputs": [],
   "source": [
    "dj.Diagram(nd.common.Nwbfile()) + dj.Diagram(nd.common.Session())"
   ]
  },
  {
   "cell_type": "markdown",
   "metadata": {},
   "source": [
    "The solid line indicates that the Nwbfile is the primary key for Session, so each Session has exactly one Nwbfile associated with it.\n",
    "\n",
    "The session also contains references to other schema, including Subject, Institution, etc. "
   ]
  },
  {
   "cell_type": "code",
   "execution_count": null,
   "metadata": {},
   "outputs": [],
   "source": [
    "dj.Diagram(nd.common.Nwbfile()) + dj.Diagram(nd.common.Session()) + dj.Diagram(nd.common.Subject()) + dj.Diagram(nd.common.Institution()) + dj.Diagram(nd.common.Lab())"
   ]
  },
  {
   "cell_type": "markdown",
   "metadata": {},
   "source": [
    "Now let's look at the raw data schema, which contains a reference to the continuous electrophysiology data at the full 20 KHz sampling rate:"
   ]
  },
  {
   "cell_type": "code",
   "execution_count": null,
   "metadata": {},
   "outputs": [],
   "source": [
    "nd.common.Raw()"
   ]
  },
  {
   "cell_type": "markdown",
   "metadata": {},
   "source": [
    "The raw data has two primary keys: the Session and an IntervalList that defines the set of time intervals for which the data are valid:"
   ]
  },
  {
   "cell_type": "code",
   "execution_count": null,
   "metadata": {},
   "outputs": [],
   "source": [
    "dj.Diagram(nd.common.Subject()) + dj.Diagram(nd.common.Session()) + dj.Diagram(nd.common.Nwbfile()) + dj.Diagram(nd.common.Raw())"
   ]
  },
  {
   "cell_type": "markdown",
   "metadata": {},
   "source": [
    "The raw data also has a reference to an NWB object id, which allows direct loading of an NWB object from the file. We can get this raw data object with a simple DataJoint query:"
   ]
  },
  {
   "cell_type": "code",
   "execution_count": null,
   "metadata": {},
   "outputs": [],
   "source": [
    "raw_data = (nd.common.Raw() & {'nwb_file_name' : 'beans20190718-trim_.nwb'}).fetch_nwb()[0]\n",
    "raw_data"
   ]
  },
  {
   "cell_type": "markdown",
   "metadata": {},
   "source": [
    "Thus, `raw_data['raw']` is the electrical series from the NWB file from which data can be retrieved and analyzed.\n",
    "\n",
    "A couple of notes here:\n",
    "\n",
    "1) `nd.common.Raw() & {'nwb_file_name' : 'beans20190718-trim_.nwb'}` matches elements of the schema with a dictionary with 'nwb_file_name' as the key and, in this case, 'beans20190718-trim_.nwb' as the value. The file name can also be retrieved from the first row of the Nwbfile table: `nwb_file_name = nd.common.Nwbfile().fetch1()['nwb_file_name']`\n",
    "\n",
    "2) `fetch_nwb()` is a special function that was added to the Raw schema to return NWB objects. "
   ]
  },
  {
   "cell_type": "markdown",
   "metadata": {},
   "source": [
    "\n",
    "### The first analysis one might do on raw data is to extract the local field potential from a set of electrodes, and there are LFP-related schema for that:"
   ]
  },
  {
   "cell_type": "code",
   "execution_count": null,
   "metadata": {},
   "outputs": [],
   "source": [
    "dj.Diagram(nd.common.Session()) + dj.Diagram(nd.common.Nwbfile()) + dj.Diagram(nd.common.Raw()) + dj.Diagram(nd.common.LFP())"
   ]
  },
  {
   "cell_type": "markdown",
   "metadata": {},
   "source": [
    "Note here that the LFP schema has an entry from the AnalysisNwbfile schema. The AnalysisNwbfile is created when the LFP is created and serves to store the LFP time series. It also contains the key metadata from the parent Nwbfile, so it's easy to know which subject, etc. it came from."
   ]
  },
  {
   "cell_type": "markdown",
   "metadata": {},
   "source": [
    "Finally, here's a full diagram of all the schema:"
   ]
  },
  {
   "cell_type": "code",
   "execution_count": null,
   "metadata": {},
   "outputs": [],
   "source": [
    "dj.Diagram(nd.common.Session())-2+5"
   ]
  },
  {
   "cell_type": "markdown",
   "metadata": {},
   "source": [
    "The \"kachery\" entries refer to a file sharing system developed by Jeremy Magland and colleagues, but you do not need to use that to use this repo."
   ]
  }
 ],
 "metadata": {
  "kernelspec": {
   "display_name": "Python [conda env:nwb_datajoint] *",
   "language": "python",
   "name": "conda-env-nwb_datajoint-py"
  },
  "language_info": {
   "codemirror_mode": {
    "name": "ipython",
    "version": 3
   },
   "file_extension": ".py",
   "mimetype": "text/x-python",
   "name": "python",
   "nbconvert_exporter": "python",
   "pygments_lexer": "ipython3",
   "version": "3.8.0"
  }
 },
 "nbformat": 4,
 "nbformat_minor": 4
}
