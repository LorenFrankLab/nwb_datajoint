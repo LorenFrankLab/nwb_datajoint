{
 "cells": [
  {
   "cell_type": "code",
   "execution_count": 2,
   "metadata": {},
   "outputs": [
    {
     "data": {
      "text/plain": [
       "{   'connection.charset': '',\n",
       "    'connection.init_function': None,\n",
       "    'database.host': 'localhost',\n",
       "    'database.password': None,\n",
       "    'database.port': 3306,\n",
       "    'database.reconnect': True,\n",
       "    'database.use_tls': None,\n",
       "    'database.user': None,\n",
       "    'display.limit': 12,\n",
       "    'display.show_tuple_count': True,\n",
       "    'display.width': 14,\n",
       "    'enable_python_native_blobs': True,\n",
       "    'fetch_format': 'array',\n",
       "    'loglevel': 'INFO',\n",
       "    'safemode': True,\n",
       "    'stores': {   'lfp_store': {   'location': '/Users/edeno/Documents/GitHub/nwb_datajoint/temp_nwb',\n",
       "                                   'protocol': 'file',\n",
       "                                   'stage': '/Users/edeno/Documents/GitHub/nwb_datajoint/temp_nwb'}}}"
      ]
     },
     "execution_count": 2,
     "metadata": {},
     "output_type": "execute_result"
    }
   ],
   "source": [
    "import os\n",
    "\n",
    "os.environ['DJ_SUPPORT_ADAPTED_TYPES'] = 'TRUE'\n",
    "os.environ['DJ_SUPPORT_FILEPATH_MANAGEMENT'] = 'TRUE'\n",
    "dj.config['enable_python_native_blobs'] = True\n",
    "\n",
    "exported_nwb_dir = os.path.abspath('../temp_nwb/')\n",
    "\n",
    "dj.config['stores'] = {\n",
    "    'lfp_store': {'protocol': 'file',\n",
    "                 'stage': exported_nwb_dir, # cache\n",
    "                 'location': exported_nwb_dir} # same location\n",
    "}\n",
    "dj.config"
   ]
  },
  {
   "cell_type": "code",
   "execution_count": 3,
   "metadata": {},
   "outputs": [
    {
     "name": "stderr",
     "output_type": "stream",
     "text": [
      "/Users/edeno/miniconda3/envs/nwb_datajoint/lib/python3.7/site-packages/hdmf/spec/namespace.py:456: UserWarning: ignoring namespace 'hdmf-common' because it already exists\n",
      "  warn(\"ignoring namespace '%s' because it already exists\" % ns['name'])\n",
      "/Users/edeno/miniconda3/envs/nwb_datajoint/lib/python3.7/site-packages/hdmf/spec/namespace.py:456: UserWarning: ignoring namespace 'core' because it already exists\n",
      "  warn(\"ignoring namespace '%s' because it already exists\" % ns['name'])\n",
      "/Users/edeno/miniconda3/envs/nwb_datajoint/lib/python3.7/site-packages/hdmf/spec/namespace.py:456: UserWarning: ignoring namespace 'franklab' because it already exists\n",
      "  warn(\"ignoring namespace '%s' because it already exists\" % ns['name'])\n",
      "LFP Info: 100%|██████████| 27/27 [00:53<00:00,  1.99s/it]\n",
      "/Users/edeno/miniconda3/envs/nwb_datajoint/lib/python3.7/site-packages/hdmf/spec/namespace.py:456: UserWarning: ignoring namespace 'hdmf-common' because it already exists\n",
      "  warn(\"ignoring namespace '%s' because it already exists\" % ns['name'])\n",
      "/Users/edeno/miniconda3/envs/nwb_datajoint/lib/python3.7/site-packages/hdmf/spec/namespace.py:456: UserWarning: ignoring namespace 'core' because it already exists\n",
      "  warn(\"ignoring namespace '%s' because it already exists\" % ns['name'])\n",
      "/Users/edeno/miniconda3/envs/nwb_datajoint/lib/python3.7/site-packages/hdmf/spec/namespace.py:456: UserWarning: ignoring namespace 'franklab' because it already exists\n",
      "  warn(\"ignoring namespace '%s' because it already exists\" % ns['name'])\n",
      "LFP Info: 100%|██████████| 54/54 [00:55<00:00,  1.02s/it]\n"
     ]
    }
   ],
   "source": [
    "from pipeline.ingest_nwb import run_ingest\n",
    "\n",
    "run_ingest('../data')"
   ]
  },
  {
   "cell_type": "code",
   "execution_count": 4,
   "metadata": {},
   "outputs": [],
   "source": [
    "# dj.config.save_global()"
   ]
  },
  {
   "cell_type": "code",
   "execution_count": 5,
   "metadata": {},
   "outputs": [],
   "source": [
    "# %debug"
   ]
  },
  {
   "cell_type": "code",
   "execution_count": 6,
   "metadata": {},
   "outputs": [
    {
     "name": "stdout",
     "output_type": "stream",
     "text": [
      "`nwb_experiment`.`subject` (1 tuples)\n",
      "`nwb_experiment`.`session` (2 tuples)\n",
      "`nwb_experiment`.`probe_insertion` (54 tuples)\n",
      "`nwb_experiment`.`_l_f_p` (54 tuples)\n",
      "`nwb_experiment`.`_l_f_p__channel` (54 tuples)\n"
     ]
    },
    {
     "name": "stdin",
     "output_type": "stream",
     "text": [
      "Proceed? [yes, No]:  No\n"
     ]
    }
   ],
   "source": [
    "from pipeline.experiment import Subject\n",
    "\n",
    "Subject.drop()"
   ]
  },
  {
   "cell_type": "code",
   "execution_count": 11,
   "metadata": {},
   "outputs": [
    {
     "data": {
      "text/html": [
       "\n",
       "        \n",
       "        <style type=\"text/css\">\n",
       "            .Relation{\n",
       "                border-collapse:collapse;\n",
       "            }\n",
       "            .Relation th{\n",
       "                background: #A0A0A0; color: #ffffff; padding:4px; border:#f0e0e0 1px solid;\n",
       "                font-weight: normal; font-family: monospace; font-size: 100%;\n",
       "            }\n",
       "            .Relation td{\n",
       "                padding:4px; border:#f0e0e0 1px solid; font-size:100%;\n",
       "            }\n",
       "            .Relation tr:nth-child(odd){\n",
       "                background: #ffffff;\n",
       "            }\n",
       "            .Relation tr:nth-child(even){\n",
       "                background: #f3f1ff;\n",
       "            }\n",
       "            /* Tooltip container */\n",
       "            .djtooltip {\n",
       "            }\n",
       "            /* Tooltip text */\n",
       "            .djtooltip .djtooltiptext {\n",
       "                visibility: hidden;\n",
       "                width: 120px;\n",
       "                background-color: black;\n",
       "                color: #fff;\n",
       "                text-align: center;\n",
       "                padding: 5px 0;\n",
       "                border-radius: 6px;\n",
       "                /* Position the tooltip text - see examples below! */\n",
       "                position: absolute;\n",
       "                z-index: 1;\n",
       "            }\n",
       "            #primary {\n",
       "                font-weight: bold;\n",
       "                color: black;\n",
       "            }\n",
       "\n",
       "            #nonprimary {\n",
       "                font-weight: normal;\n",
       "                color: white;\n",
       "            }\n",
       "\n",
       "            /* Show the tooltip text when you mouse over the tooltip container */\n",
       "            .djtooltip:hover .djtooltiptext {\n",
       "                visibility: visible;\n",
       "            }\n",
       "        </style>\n",
       "        \n",
       "        <b></b>\n",
       "            <div style=\"max-height:1000px;max-width:1500px;overflow:auto;\">\n",
       "            <table border=\"1\" class=\"Relation\">\n",
       "                <thead> <tr style=\"text-align: right;\"> <th> <div class=\"djtooltip\">\n",
       "                                <p id=\"primary\">subject_id</p>\n",
       "                                <span class=\"djtooltiptext\"></span>\n",
       "                            </div></th><th><div class=\"djtooltip\">\n",
       "                                <p id=\"primary\">session_id</p>\n",
       "                                <span class=\"djtooltiptext\"></span>\n",
       "                            </div></th><th><div class=\"djtooltip\">\n",
       "                                <p id=\"primary\">insertion_number</p>\n",
       "                                <span class=\"djtooltiptext\"></span>\n",
       "                            </div></th><th><div class=\"djtooltip\">\n",
       "                                <p id=\"primary\">electrode_id</p>\n",
       "                                <span class=\"djtooltiptext\">should be -> ElectrodeConfig.Electrode</span>\n",
       "                            </div></th><th><div class=\"djtooltip\">\n",
       "                                <p id=\"nonprimary\">lfp</p>\n",
       "                                <span class=\"djtooltiptext\">recorded lfp at this electrode</span>\n",
       "                            </div> </th> </tr> </thead>\n",
       "                <tbody> <tr> <td>Bond</td>\n",
       "<td>Bon0003</td>\n",
       "<td>29</td>\n",
       "<td>100</td>\n",
       "<td>=BLOB=</td></tr><tr><td>Bond</td>\n",
       "<td>Bon0003</td>\n",
       "<td>6</td>\n",
       "<td>20</td>\n",
       "<td>=BLOB=</td></tr><tr><td>Bond</td>\n",
       "<td>Bon0003</td>\n",
       "<td>13</td>\n",
       "<td>44</td>\n",
       "<td>=BLOB=</td></tr><tr><td>Bond</td>\n",
       "<td>Bon0004</td>\n",
       "<td>30</td>\n",
       "<td>104</td>\n",
       "<td>=BLOB=</td></tr><tr><td>Bond</td>\n",
       "<td>Bon0004</td>\n",
       "<td>19</td>\n",
       "<td>64</td>\n",
       "<td>=BLOB=</td></tr><tr><td>Bond</td>\n",
       "<td>Bon0003</td>\n",
       "<td>30</td>\n",
       "<td>104</td>\n",
       "<td>=BLOB=</td></tr><tr><td>Bond</td>\n",
       "<td>Bon0004</td>\n",
       "<td>7</td>\n",
       "<td>24</td>\n",
       "<td>=BLOB=</td></tr><tr><td>Bond</td>\n",
       "<td>Bon0004</td>\n",
       "<td>6</td>\n",
       "<td>20</td>\n",
       "<td>=BLOB=</td></tr><tr><td>Bond</td>\n",
       "<td>Bon0003</td>\n",
       "<td>12</td>\n",
       "<td>40</td>\n",
       "<td>=BLOB=</td></tr><tr><td>Bond</td>\n",
       "<td>Bon0004</td>\n",
       "<td>3</td>\n",
       "<td>8</td>\n",
       "<td>=BLOB=</td></tr><tr><td>Bond</td>\n",
       "<td>Bon0004</td>\n",
       "<td>13</td>\n",
       "<td>44</td>\n",
       "<td>=BLOB=</td></tr><tr><td>Bond</td>\n",
       "<td>Bon0003</td>\n",
       "<td>18</td>\n",
       "<td>60</td>\n",
       "<td>=BLOB=</td> </tr> </tbody>\n",
       "            </table>\n",
       "            <p>...</p>\n",
       "            <p>Total: 54</p></div>\n",
       "            "
      ],
      "text/plain": [
       "*subject_id    *session_id    *insertion_num *electrode_id  lfp       \n",
       "+------------+ +------------+ +------------+ +------------+ +--------+\n",
       "Bond           Bon0003        29             100            =BLOB=    \n",
       "Bond           Bon0003        6              20             =BLOB=    \n",
       "Bond           Bon0003        13             44             =BLOB=    \n",
       "Bond           Bon0004        30             104            =BLOB=    \n",
       "Bond           Bon0004        19             64             =BLOB=    \n",
       "Bond           Bon0003        30             104            =BLOB=    \n",
       "Bond           Bon0004        7              24             =BLOB=    \n",
       "Bond           Bon0004        6              20             =BLOB=    \n",
       "Bond           Bon0003        12             40             =BLOB=    \n",
       "Bond           Bon0004        3              8              =BLOB=    \n",
       "Bond           Bon0004        13             44             =BLOB=    \n",
       "Bond           Bon0003        18             60             =BLOB=    \n",
       "   ...\n",
       " (Total: 54)"
      ]
     },
     "execution_count": 11,
     "metadata": {},
     "output_type": "execute_result"
    }
   ],
   "source": [
    "from pipeline.experiment import LFP\n",
    "\n",
    "LFP().Channel()"
   ]
  },
  {
   "cell_type": "code",
   "execution_count": null,
   "metadata": {},
   "outputs": [],
   "source": []
  }
 ],
 "metadata": {
  "kernelspec": {
   "display_name": "Python 3",
   "language": "python",
   "name": "python3"
  },
  "language_info": {
   "codemirror_mode": {
    "name": "ipython",
    "version": 3
   },
   "file_extension": ".py",
   "mimetype": "text/x-python",
   "name": "python",
   "nbconvert_exporter": "python",
   "pygments_lexer": "ipython3",
   "version": "3.8.0"
  }
 },
 "nbformat": 4,
 "nbformat_minor": 4
}
